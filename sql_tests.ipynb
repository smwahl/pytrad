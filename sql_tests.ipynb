{
 "cells": [
  {
   "cell_type": "markdown",
   "metadata": {},
   "source": [
    "# SQL-based database\n",
    "\n",
    "Defines an sqlite database, built from the json-based data dumps provided at 'https://github.com/adactio/TheSession-data'.\n",
    "\n",
    "Tables are included for:\n",
    "\n",
    "- Users\n",
    "- Tunes\n",
    "- Settings\n",
    "- Aliases\n",
    "- Recordings\n",
    "- Recorded Tunes\n",
    "- Events\n",
    "- Sessions\n",
    "\n",
    "Fields are added to the database from additional scraped directly from thesession.org, using the sites api, and from information consolidated by this codebase.\n",
    "\n",
    "I plan to extend the database class with a variety of pythonic seach functions wrapping SQL queries for specific needs from other parts of the code."
   ]
  },
  {
   "cell_type": "code",
   "execution_count": 1,
   "metadata": {},
   "outputs": [
    {
     "name": "stdout",
     "output_type": "stream",
     "text": [
      "\n",
      "Users:\n",
      "(u'iliketurtles', None)\n",
      "(u'Daniel Quayle', None)\n",
      "(u'DonaldK', None)\n",
      "(u'Charles Mackenzie', None)\n",
      "(u'Micha\\u0142 Zaj\\u0105czkowski', None)\n",
      "\n",
      "Tunes:\n",
      "(u'11931', u\"'G Iomain Nan Gamhna\", u'slip jig', u'9/8', u'Gmajor')\n",
      "(u'15326', u\"'S Ann An \\xccle\", u'strathspey', u'4/4', u'Gmajor')\n",
      "(u'14625', u\"'S Daor An Tabac\", u'reel', u'4/4', u'Bminor')\n",
      "(u'13684', u'100 Watt Reels', u'reel', u'4/4', u'Ddorian')\n",
      "(u'7078', u'10th Bat Crossing Rhine', u'jig', u'6/8', u'Amixolydian')\n",
      "\n",
      "Settings:\n",
      "(u'11931', u'11931', u'2012-05-17 07:49:26', u'iliketurtles')\n",
      "(u'28560', u'15326', u'2016-03-31 15:34:45', u'Daniel Quayle')\n",
      "(u'28582', u'15326', u'2016-04-03 09:15:08', u'DonaldK')\n",
      "(u'26955', u'14625', u'2015-07-31 02:47:47', u'Charles Mackenzie')\n",
      "(u'24291', u'13684', u'2014-06-14 13:57:17', u'Micha\\u0142 Zaj\\u0105czkowski')\n",
      "\n",
      "Aliases:\n",
      "(0, u'Cooleys', u\"Cooley's\", u'1')\n",
      "(1, u'Joe Cooley', u\"Cooley's\", u'1')\n",
      "(2, u\"Joe Cooley's\", u\"Cooley's\", u'1')\n",
      "(3, u\"Joe Cooley's Fancy\", u\"Cooley's\", u'1')\n",
      "(4, u'Joe Cooleys', u\"Cooley's\", u'1')\n",
      "\n",
      "Artists:\n",
      "(u'1651',)\n",
      "(u'1691',)\n",
      "(u'2duos',)\n",
      "(u'4 Yn Y Bar',)\n",
      "(u'422',)\n",
      "\n",
      "Recordings:\n",
      "(u'3720', u'Cast A Bell', u'1651')\n",
      "(u'3736', u'Irish Folk Songs', u'1691')\n",
      "(u'3266', u'Until The Cows Come Home', u'2duos')\n",
      "(u'1871', u'Byth Adra', u'4 Yn Y Bar')\n",
      "(u'3984', u'Go Forth', u'422')\n",
      "\n",
      "Recorded tunes:\n",
      "(u'0', u'3720', u'Cast A Bell', u'1651', 1, 1, u'Kettledrum', u'14408')\n",
      "(u'1', u'3720', u'Cast A Bell', u'1651', 2, 1, u'Maiden Lane', u'13727')\n",
      "(u'2', u'3720', u'Cast A Bell', u'1651', 2, 2, u'Chirping Of The Nightingale', u'NULL')\n",
      "(u'3', u'3720', u'Cast A Bell', u'1651', 2, 3, u'Chirping Of The Lark', u'NULL')\n",
      "(u'4', u'3720', u'Cast A Bell', u'1651', 3, 1, u\"Kemp's\", u'10151')\n"
     ]
    }
   ],
   "source": [
    "from thesessionDB import thesessionDB\n",
    "\n",
    "db = thesessionDB(delete=False,download=False)\n",
    "\n",
    "#db.defineTables()\n",
    "#db.populateTablesFromJSON(Ntest=1000)\n",
    "#db.populateTablesFromJSON()\n",
    "\n",
    "db.cur.execute('SELECT * FROM users LIMIT 5')\n",
    "q = db.cur.fetchall()  # fetch all the results of the query\n",
    "\n",
    "print ''\n",
    "print 'Users:'\n",
    "for x in q:\n",
    "    print x\n",
    "\n",
    "db.cur.execute('SELECT * FROM tunes LIMIT 5')\n",
    "q = db.cur.fetchall()  # fetch all the results of the query\n",
    "\n",
    "print ''\n",
    "print 'Tunes:'\n",
    "for x in q:\n",
    "    print x\n",
    "\n",
    "db.cur.execute('SELECT setting_id, tune_id, date, user FROM settings LIMIT 5')\n",
    "q = db.cur.fetchall()  # fetch all the results of the query\n",
    "\n",
    "print ''\n",
    "print 'Settings:'\n",
    "for x in q:\n",
    "    print x\n",
    "\n",
    "db.cur.execute('SELECT * FROM aliases LIMIT 5')\n",
    "q = db.cur.fetchall()  # fetch all the results of the query\n",
    "\n",
    "print ''\n",
    "print 'Aliases:'\n",
    "for x in q:\n",
    "    print x\n",
    "\n",
    "db.cur.execute('SELECT * FROM artists LIMIT 5')\n",
    "q = db.cur.fetchall()  # fetch all the results of the query\n",
    "\n",
    "print ''\n",
    "print 'Artists:'\n",
    "for x in q:\n",
    "    print x\n",
    "\n",
    "db.cur.execute('SELECT * FROM recordings LIMIT 5')\n",
    "q = db.cur.fetchall()  # fetch all the results of the query\n",
    "\n",
    "print ''\n",
    "print 'Recordings:'\n",
    "for x in q:\n",
    "    print x\n",
    "\n",
    "db.cur.execute('SELECT * FROM recorded_tunes LIMIT 5')\n",
    "q = db.cur.fetchall()  # fetch all the results of the query\n",
    "\n",
    "print ''\n",
    "print 'Recorded tunes:'\n",
    "for x in q:\n",
    "    print x\n"
   ]
  },
  {
   "cell_type": "code",
   "execution_count": 3,
   "metadata": {},
   "outputs": [
    {
     "name": "stdout",
     "output_type": "stream",
     "text": [
      "There are  79  unique tunes with title containing  'green'\n"
     ]
    }
   ],
   "source": [
    "# Example tune names with \"green\"\n",
    "\n",
    "fragment = 'green'\n",
    "\n",
    "db.cur.execute(\"SELECT * FROM aliases WHERE alias LIKE '%\"+fragment+\"%'\")\n",
    "q = db.cur.fetchall()  # fetch all the results of the query\n",
    "\n",
    "tune_ids = [x[3] for x in q]\n",
    "\n",
    "unique_ids = {x for x in tune_ids}\n",
    "\n",
    "print 'There are ',len(unique_ids),' unique tunes with title containing ',\"'\"+fragment+\"'\" \n"
   ]
  },
  {
   "cell_type": "code",
   "execution_count": 4,
   "metadata": {},
   "outputs": [
    {
     "ename": "OperationalError",
     "evalue": "no such column: alias",
     "output_type": "error",
     "traceback": [
      "\u001b[0;31m---------------------------------------------------------------------------\u001b[0m",
      "\u001b[0;31mOperationalError\u001b[0m                          Traceback (most recent call last)",
      "\u001b[0;32m<ipython-input-4-7a4cc1dbe76d>\u001b[0m in \u001b[0;36m<module>\u001b[0;34m()\u001b[0m\n\u001b[1;32m      3\u001b[0m \u001b[0mtid\u001b[0m \u001b[0;34m=\u001b[0m \u001b[0munique_ids\u001b[0m\u001b[0;34m\u001b[0m\u001b[0m\n\u001b[1;32m      4\u001b[0m \u001b[0;34m\u001b[0m\u001b[0m\n\u001b[0;32m----> 5\u001b[0;31m \u001b[0mdb\u001b[0m\u001b[0;34m.\u001b[0m\u001b[0mcur\u001b[0m\u001b[0;34m.\u001b[0m\u001b[0mexecute\u001b[0m\u001b[0;34m(\u001b[0m\u001b[0;34m\"SELECT * FROM tunes WHERE alias LIKE '%\"\u001b[0m\u001b[0;34m+\u001b[0m\u001b[0mfragment\u001b[0m\u001b[0;34m+\u001b[0m\u001b[0;34m\"%'\"\u001b[0m\u001b[0;34m)\u001b[0m\u001b[0;34m\u001b[0m\u001b[0m\n\u001b[0m",
      "\u001b[0;31mOperationalError\u001b[0m: no such column: alias"
     ]
    }
   ],
   "source": [
    "# Find the distribution of tune types for 'green' tunes\n",
    "\n",
    "tid = unique_ids\n",
    "\n",
    "db.cur.execute(\"SELECT * FROM tunes WHERE alias LIKE '%\"+fragment+\"%'\")\n"
   ]
  },
  {
   "cell_type": "code",
   "execution_count": 5,
   "metadata": {
    "collapsed": true
   },
   "outputs": [],
   "source": [
    "# Find the distribution of tune types and modes for 'green' tunes\n",
    "\n",
    "tid = unique_ids\n",
    "\n",
    "sql_query = 'select * FROM tunes where tune_id in (' + ','.join(map(str, tid)) + ')'\n",
    "db.cur.execute(sql_query)\n",
    "q = db.cur.fetchall()  # fetch all the results of the query\n",
    "\n",
    "tune_types = [x[2] for x in q]\n",
    "tune_modes = [x[4] for x in q]"
   ]
  },
  {
   "cell_type": "code",
   "execution_count": 6,
   "metadata": {},
   "outputs": [
    {
     "data": {
      "text/plain": [
       "<matplotlib.figure.Figure at 0x103ce7550>"
      ]
     },
     "metadata": {},
     "output_type": "display_data"
    }
   ],
   "source": [
    "from collections import Counter\n",
    "import matplotlib.pyplot as plt\n",
    "\n",
    "\n",
    "keys = Counter(tune_types).keys() # equals to list(set(words))\n",
    "vals = Counter(tune_types).values() # counts the elements' frequency\n",
    "\n",
    "# Data to plot\n",
    "labels = keys\n",
    "sizes = vals\n",
    "#colors = ['gold', 'yellowgreen', 'lightcoral', 'lightskyblue']\n",
    "#explode =   # explode 1st slice\n",
    " \n",
    "# Plot\n",
    "plt.pie(sizes, labels=labels) #colors=colors,\n",
    "        #autopct='%1.1f%%', shadow=True, startangle=140)\n",
    " \n",
    "plt.axis('equal')\n",
    "plt.show()"
   ]
  },
  {
   "cell_type": "code",
   "execution_count": 7,
   "metadata": {},
   "outputs": [
    {
     "data": {
      "image/png": "[encoded data removed]",
      "text/plain": [
       "<matplotlib.figure.Figure at 0x10b173ad0>"
      ]
     },
     "metadata": {},
     "output_type": "display_data"
    }
   ],
   "source": [
    "keys = Counter(tune_modes).keys() # equals to list(set(words))\n",
    "vals = Counter(tune_modes).values() # counts the elements' frequency\n",
    "\n",
    "# Data to plot\n",
    "labels = keys\n",
    "sizes = vals\n",
    "#colors = ['gold', 'yellowgreen', 'lightcoral', 'lightskyblue']\n",
    "#explode =   # explode 1st slice\n",
    " \n",
    "# Plot\n",
    "plt.pie(sizes, labels=labels) #colors=colors,\n",
    "        #autopct='%1.1f%%', shadow=True, startangle=140)\n",
    " \n",
    "plt.axis('equal')\n",
    "plt.show()"
   ]
  },
  {
   "cell_type": "code",
   "execution_count": null,
   "metadata": {
    "collapsed": true
   },
   "outputs": [],
   "source": [
    "# From here I am working to wrap common types of searches I need with the thesessionDB class."
   ]
  },
  {
   "cell_type": "code",
   "execution_count": 8,
   "metadata": {
    "collapsed": true
   },
   "outputs": [],
   "source": [
    "class dict_output(object):\n",
    "    def __init__(self, file_name, method):\n",
    "        self.file_obj = open(file_name, method)\n",
    "    def __enter__(self):\n",
    "        return self.file_obj\n",
    "    def __exit__(self, type, value, traceback):\n",
    "        print(\"Exception has been handled\")\n",
    "        self.file_obj.close()\n",
    "        return True"
   ]
  },
  {
   "cell_type": "code",
   "execution_count": 9,
   "metadata": {},
   "outputs": [
    {
     "data": {
      "text/plain": [
       "[{'meter': u'4/4',\n",
       "  'mode': u'Amixolydian',\n",
       "  'name': u'Monaghan Twig, The',\n",
       "  'rhythm': u'reel',\n",
       "  'tune_id': u'1070'},\n",
       " {'meter': u'4/4',\n",
       "  'mode': u'Dmajor',\n",
       "  'name': u'Wise Maid, The',\n",
       "  'rhythm': u'reel',\n",
       "  'tune_id': u'118'},\n",
       " {'meter': u'12/8',\n",
       "  'mode': u'Gmajor',\n",
       "  'name': u'Wearied Lad, The',\n",
       "  'rhythm': u'slide',\n",
       "  'tune_id': u'14933'},\n",
       " {'meter': u'4/4',\n",
       "  'mode': u'Amixolydian',\n",
       "  'name': u'Drunken Tinker, The',\n",
       "  'rhythm': u'reel',\n",
       "  'tune_id': u'1555'},\n",
       " {'meter': u'4/4',\n",
       "  'mode': u'Gmajor',\n",
       "  'name': u'Donegal Tinker, The',\n",
       "  'rhythm': u'reel',\n",
       "  'tune_id': u'1770'},\n",
       " {'meter': u'4/4',\n",
       "  'mode': u'Gmajor',\n",
       "  'name': u\"Tinker's Stick, The\",\n",
       "  'rhythm': u'reel',\n",
       "  'tune_id': u'1881'},\n",
       " {'meter': u'4/4',\n",
       "  'mode': u'Dmixolydian',\n",
       "  'name': u\"Johnny Allen's\",\n",
       "  'rhythm': u'reel',\n",
       "  'tune_id': u'278'},\n",
       " {'meter': u'4/4',\n",
       "  'mode': u'Amixolydian',\n",
       "  'name': u'A Cup Of Tea',\n",
       "  'rhythm': u'reel',\n",
       "  'tune_id': u'3038'}]"
      ]
     },
     "execution_count": 9,
     "metadata": {},
     "output_type": "execute_result"
    }
   ],
   "source": [
    "import sqlite3\n",
    "\n",
    "def dict_factory(cursor, row):\n",
    "    d = {}\n",
    "    for idx, col in enumerate(cursor.description):\n",
    "        d[col[0]] = row[idx]\n",
    "    return d\n",
    "\n",
    "def tunesFromAlias(fragment,json=True):\n",
    "    \n",
    "    # Find all matches for the fragment in the alias table\n",
    "    db.cur.execute(\"SELECT tune_id FROM aliases WHERE alias LIKE '%\"+fragment+\"%'\")\n",
    "    q = db.cur.fetchall()  # fetch all the results of the query\n",
    "\n",
    "    tune_ids = [x[0] for x in q]\n",
    "\n",
    "    # find all unique ids\n",
    "    unique_ids = {x for x in tune_ids}\n",
    "    \n",
    "    query = \"SELECT * FROM tunes WHERE tune_id IN ({0})\".format(', '.join(x for x in unique_ids))\n",
    "    \n",
    "    \n",
    "    if json: # should figure out how to make this a wrapper\n",
    "        db.conn.row_factory = dict_factory\n",
    "        c = db.conn.cursor()\n",
    "    else:\n",
    "        c = db.cur\n",
    "    \n",
    "    \n",
    "    c.execute(query)\n",
    "\n",
    "    q2 = c.fetchall()\n",
    "    \n",
    "    # reset\n",
    "    db.conn.row_factory = sqlite3.Row\n",
    "    \n",
    "    return q2\n",
    "\n",
    "tunesFromAlias('tinker')"
   ]
  },
  {
   "cell_type": "code",
   "execution_count": 10,
   "metadata": {},
   "outputs": [
    {
     "data": {
      "text/plain": [
       "[u\"Dick Cosgrove's\",\n",
       " u'Dick Cosgroves',\n",
       " u'Old Yellow Tinker, The',\n",
       " u\"W'ere Be Da Fiddle?\",\n",
       " u'Yellow Haired Tinker, The',\n",
       " u'Yellow Tinker, The']"
      ]
     },
     "execution_count": 10,
     "metadata": {},
     "output_type": "execute_result"
    }
   ],
   "source": [
    "def aliasesForTune(tune_id):\n",
    "    '''\n",
    "    Returns all known aliases of a given tune\n",
    "    '''\n",
    "    \n",
    "    # Find all matches for the fragment in the alias table\n",
    "    db.cur.execute(\"SELECT alias FROM aliases WHERE tune_id=?\",[tune_id])\n",
    "    q = db.cur.fetchall()\n",
    "    \n",
    "    return [x[0] for x in q]\n",
    "aliasesForTune(u'1555')"
   ]
  },
  {
   "cell_type": "code",
   "execution_count": 30,
   "metadata": {},
   "outputs": [
    {
     "data": {
      "text/plain": [
       "[{'abc': u'EAAG EGDG|EA~A2 fAeA|EAAG EDEF|1 G2BG =cGBG:|2 GABd dBGB||\\r\\nA2eA fAeA|fAeA dBGB|A2eA fAeA|d2BG DGBG|\\r\\nA2eA fAeA|fAeA dBGB|~e3f ~g3e|d2BG DGBG||',\n",
       "  'bars': None,\n",
       "  'date': u'2003-03-31 03:27:23',\n",
       "  'meter': u'4/4',\n",
       "  'mode': u'Amixolydian',\n",
       "  'name': u'Drunken Tinker, The',\n",
       "  'rhythm': u'reel',\n",
       "  'setting_id': u'1555',\n",
       "  'structure': None,\n",
       "  'tune_id': u'1555',\n",
       "  'user': u'Dr. Dow'},\n",
       " {'abc': u'EAAG EGDG|EA~A2 fAeA|EAAG EDEF|1 G2DG B,GDG:|2 GFGA BcdB||\\r\\nA2eA fAeA|fAeA dBGB|A2gA fAeA|d2BG EFGB|\\r\\nA2eA fAeA|fAeA dBGB|~e3f ~g3e|d2BG EFGB|',\n",
       "  'bars': None,\n",
       "  'date': u'2013-05-25 13:06:25',\n",
       "  'meter': u'4/4',\n",
       "  'mode': u'Amixolydian',\n",
       "  'name': u'Drunken Tinker, The',\n",
       "  'rhythm': u'reel',\n",
       "  'setting_id': u'21585',\n",
       "  'structure': None,\n",
       "  'tune_id': u'1555',\n",
       "  'user': u'Werner Zipperer'},\n",
       " {'abc': u'|:EAAG EGDG|EA A2 fAeA|EAAG EDEF| G2BG =cGBG| \\r\\nEAAG EGDG|EA A2 fAeA|EAAG EDEF|GABd dBGB||\\r\\n|:A2eA fAeA|fAeA dBGB|A2eA fAeA|d2BG DGBG|\\r\\nA2eA fAeA|fAeA dBGB|e3f g3e|d2BG DGBG||',\n",
       "  'bars': None,\n",
       "  'date': u'2015-03-16 06:15:56',\n",
       "  'meter': u'4/4',\n",
       "  'mode': u'Amixolydian',\n",
       "  'name': u'Drunken Tinker, The',\n",
       "  'rhythm': u'reel',\n",
       "  'setting_id': u'25998',\n",
       "  'structure': None,\n",
       "  'tune_id': u'1555',\n",
       "  'user': u'JACKB'},\n",
       " {'abc': u'DGGF DEF2|DGG2 eGdG|DGGF D3E|F2CF AB~c2|\\r\\n[DA]GG2 DEF2|DGG2 eGdG|DGGF D3E|F2CF ABcA|\\r\\ndGG/G/G dGeG|dGG/G/G d2cA|dGG/G/G d2ed|(3cdc AF CFAc|\\r\\ndGG/G/G eGG/G/G|dGG/G/G d2cA|dcde fefd|(3cdc AF CFAF|',\n",
       "  'bars': None,\n",
       "  'date': u'2017-08-11 13:29:02',\n",
       "  'meter': u'4/4',\n",
       "  'mode': u'Gmixolydian',\n",
       "  'name': u'Drunken Tinker, The',\n",
       "  'rhythm': u'reel',\n",
       "  'setting_id': u'30831',\n",
       "  'structure': None,\n",
       "  'tune_id': u'1555',\n",
       "  'user': u'Daniel Parker'},\n",
       " {'abc': u'DG{A}GF DEFE|DGG/G/G dGBG|DG{A}GF DCDE|F/F/EFG ABcB|\\r\\n{DA}~G3 DEFE|DGG/G/G dGBG|DGGF D3E|FEFG ABcA|\\r\\nG2dG eGdG|G/G/GdG d2cA|G2dG eGdA|~c2AF CFAF|\\r\\nG2dG eGdG|G/G/GdG d2cA|~d3e fefd|cAFD G3F|',\n",
       "  'bars': None,\n",
       "  'date': u'2017-08-11 13:40:47',\n",
       "  'meter': u'4/4',\n",
       "  'mode': u'Gmixolydian',\n",
       "  'name': u'Drunken Tinker, The',\n",
       "  'rhythm': u'reel',\n",
       "  'setting_id': u'30832',\n",
       "  'structure': None,\n",
       "  'tune_id': u'1555',\n",
       "  'user': u'Daniel Parker'}]"
      ]
     },
     "execution_count": 30,
     "metadata": {},
     "output_type": "execute_result"
    }
   ],
   "source": [
    "def settingsOfTune(tune_id,json=True):\n",
    "    '''\n",
    "    Returns all known aliases of a given tune\n",
    "    '''\n",
    "\n",
    "    if json: # should figure out how to make this a wrapper\n",
    "        db.conn.row_factory = dict_factory\n",
    "        c = db.conn.cursor()\n",
    "    else:\n",
    "        c = db.cur\n",
    "    \n",
    "    # Find all matches for the fragment in the alias table\n",
    "    c.execute(\"SELECT * FROM settings WHERE tune_id=?\",[tune_id])\n",
    "    q = c.fetchall()\n",
    "    \n",
    "    # reset\n",
    "    db.conn.row_factory = sqlite3.Row\n",
    "    \n",
    "    return q\n",
    "settingsOfTune(u'1555')"
   ]
  },
  {
   "cell_type": "code",
   "execution_count": 15,
   "metadata": {},
   "outputs": [
    {
     "data": {
      "text/plain": [
       "[{'artist': u'Altan',\n",
       "  'id': u'3481',\n",
       "  'number': 1,\n",
       "  'recording_id': u'194',\n",
       "  'recording_name': u'Altan: Live',\n",
       "  'track': 2,\n",
       "  'tune_id': u'1555',\n",
       "  'tune_name': u'Drunken Tinker, The'},\n",
       " {'artist': u'Athena Tergis',\n",
       "  'id': u'8083',\n",
       "  'number': 2,\n",
       "  'recording_id': u'2696',\n",
       "  'recording_name': u'A Letter Home',\n",
       "  'track': 7,\n",
       "  'tune_id': u'1555',\n",
       "  'tune_name': u'Drunken Tinker, The'},\n",
       " {'artist': u'Brendan Bulger, Marty Fahey And Kathleen Gavin',\n",
       "  'id': u'14891',\n",
       "  'number': 2,\n",
       "  'recording_id': u'839',\n",
       "  'recording_name': u'Music At The House',\n",
       "  'track': 6,\n",
       "  'tune_id': u'1555',\n",
       "  'tune_name': u'Drunken Tinker, The'},\n",
       " {'artist': u'Eugene Lambe',\n",
       "  'id': u'39156',\n",
       "  'number': 1,\n",
       "  'recording_id': u'2822',\n",
       "  'recording_name': u'Trip To Fanore',\n",
       "  'track': 4,\n",
       "  'tune_id': u'1555',\n",
       "  'tune_name': u'Drunken Tinker, The'},\n",
       " {'artist': u'Finbarr Dwyer',\n",
       "  'id': u'40589',\n",
       "  'number': 1,\n",
       "  'recording_id': u'1725',\n",
       "  'recording_name': u'Best Of Finbarr Dwyer',\n",
       "  'track': 9,\n",
       "  'tune_id': u'1555',\n",
       "  'tune_name': u'Drunken Tinker, The'},\n",
       " {'artist': u'Four Men And A Dog',\n",
       "  'id': u'42144',\n",
       "  'number': 1,\n",
       "  'recording_id': u'2948',\n",
       "  'recording_name': u'Wallop The Spot',\n",
       "  'track': 8,\n",
       "  'tune_id': u'1555',\n",
       "  'tune_name': u\"Dick Cosgrove's\"},\n",
       " {'artist': u'Gary West',\n",
       "  'id': u'44144',\n",
       "  'number': 2,\n",
       "  'recording_id': u'2959',\n",
       "  'recording_name': u'The Islay Ball',\n",
       "  'track': 1,\n",
       "  'tune_id': u'1555',\n",
       "  'tune_name': u'Yellow Haired Tinker, The'},\n",
       " {'artist': u'Hugh Gillespie',\n",
       "  'id': u'49710',\n",
       "  'number': 2,\n",
       "  'recording_id': u'837',\n",
       "  'recording_name': u'Classic Recordings Of Irish Traditional Fiddle Music',\n",
       "  'track': 8,\n",
       "  'tune_id': u'1555',\n",
       "  'tune_name': u\"Dick Cosgrove's\"},\n",
       " {'artist': u'Joe Burke',\n",
       "  'id': u'56560',\n",
       "  'number': 1,\n",
       "  'recording_id': u'682',\n",
       "  'recording_name': u\"Galway's Own\",\n",
       "  'track': 10,\n",
       "  'tune_id': u'1555',\n",
       "  'tune_name': u'Drunken Tinker, The'},\n",
       " {'artist': u'Joe Burke, Kevin Loughlin, Finbarr Dwyer And John Whelan',\n",
       "  'id': u'56856',\n",
       "  'number': 1,\n",
       "  'recording_id': u'1796',\n",
       "  'recording_name': u'Irish Traditional Accordion Session With Four Champions',\n",
       "  'track': 11,\n",
       "  'tune_id': u'1555',\n",
       "  'tune_name': u'Drunken Tinker, The'},\n",
       " {'artist': u'Johnny McCarthy',\n",
       "  'id': u'61322',\n",
       "  'number': 2,\n",
       "  'recording_id': u'4339',\n",
       "  'recording_name': u\"Steele's Rock\",\n",
       "  'track': 4,\n",
       "  'tune_id': u'1555',\n",
       "  'tune_name': u'Drunken Tinker, The'},\n",
       " {'artist': u'Kevin Burke',\n",
       "  'id': u'64698',\n",
       "  'number': 7,\n",
       "  'recording_id': u'210',\n",
       "  'recording_name': u'If The Cap Fits',\n",
       "  'track': 8,\n",
       "  'tune_id': u'1555',\n",
       "  'tune_name': u'Drunken Tinker, The'},\n",
       " {'artist': u'Martin Tubridy',\n",
       "  'id': u'75188',\n",
       "  'number': 1,\n",
       "  'recording_id': u'4829',\n",
       "  'recording_name': u\"West Clare's Own Martin Tubridy\",\n",
       "  'track': 8,\n",
       "  'tune_id': u'1555',\n",
       "  'tune_name': u'Drunken Tinker, The'},\n",
       " {'artist': u'No I.D.',\n",
       "  'id': u'85662',\n",
       "  'number': 2,\n",
       "  'recording_id': u'3020',\n",
       "  'recording_name': u'Footprints',\n",
       "  'track': 2,\n",
       "  'tune_id': u'1555',\n",
       "  'tune_name': u'Drunken Tinker, The'},\n",
       " {'artist': u'Oisin',\n",
       "  'id': u'86775',\n",
       "  'number': 2,\n",
       "  'recording_id': u'1380',\n",
       "  'recording_name': u'Celtic Dream',\n",
       "  'track': 18,\n",
       "  'tune_id': u'1555',\n",
       "  'tune_name': u'Drunken Tinker, The'},\n",
       " {'artist': u'Ois\\xedn And Conal Hernon',\n",
       "  'id': u'86827',\n",
       "  'number': 1,\n",
       "  'recording_id': u'3189',\n",
       "  'recording_name': u'Up And Coming - \\xd3 Ghl\\xfain Go Gl\\xfain',\n",
       "  'track': 11,\n",
       "  'tune_id': u'1555',\n",
       "  'tune_name': u'Drunken Tinker, The'},\n",
       " {'artist': u'P.J. Hayes And Martin Hayes',\n",
       "  'id': u'88285',\n",
       "  'number': 1,\n",
       "  'recording_id': u'2429',\n",
       "  'recording_name': u'The Shores Of Lough Graney',\n",
       "  'track': 9,\n",
       "  'tune_id': u'1555',\n",
       "  'tune_name': u\"Dick Cosgrove's\"},\n",
       " {'artist': u'Paddy Canny',\n",
       "  'id': u'88524',\n",
       "  'number': 2,\n",
       "  'recording_id': u'163',\n",
       "  'recording_name': u'Traditional Music From The Legendary East Clare Fiddler',\n",
       "  'track': 1,\n",
       "  'tune_id': u'1555',\n",
       "  'tune_name': u\"Dick Cosgrove's\"},\n",
       " {'artist': u'Randal Bays',\n",
       "  'id': u'95074',\n",
       "  'number': 2,\n",
       "  'recording_id': u'4735',\n",
       "  'recording_name': u'A Rake of Tunes',\n",
       "  'track': 9,\n",
       "  'tune_id': u'1555',\n",
       "  'tune_name': u\"Dick Cosgrove's\"},\n",
       " {'artist': u'Randal Bays',\n",
       "  'id': u'95120',\n",
       "  'number': 1,\n",
       "  'recording_id': u'1960',\n",
       "  'recording_name': u'Katy Bar The Door',\n",
       "  'track': 8,\n",
       "  'tune_id': u'1555',\n",
       "  'tune_name': u\"Dick Cosgrove's\"},\n",
       " {'artist': u'Robert MacGowran',\n",
       "  'id': u'96692',\n",
       "  'number': 1,\n",
       "  'recording_id': u'4572',\n",
       "  'recording_name': u'The Irish Way',\n",
       "  'track': 2,\n",
       "  'tune_id': u'1555',\n",
       "  'tune_name': u'Drunken Tinker, The'},\n",
       " {'artist': u'Rosie MacKenzie',\n",
       "  'id': u'97775',\n",
       "  'number': 3,\n",
       "  'recording_id': u'3775',\n",
       "  'recording_name': u'The MacKenzie Project',\n",
       "  'track': 5,\n",
       "  'tune_id': u'1555',\n",
       "  'tune_name': u'Drunken Tinker, The'},\n",
       " {'artist': u\"Theresa O'Grady\",\n",
       "  'id': u'119366',\n",
       "  'number': 3,\n",
       "  'recording_id': u'5876',\n",
       "  'recording_name': u\"BANJO'ista\",\n",
       "  'track': 8,\n",
       "  'tune_id': u'1555',\n",
       "  'tune_name': u\"Dick Cosgrave's\"},\n",
       " {'artist': u'Tom Fleming',\n",
       "  'id': u'120671',\n",
       "  'number': 2,\n",
       "  'recording_id': u'1054',\n",
       "  'recording_name': u\"Kerry's Delight\",\n",
       "  'track': 7,\n",
       "  'tune_id': u'1555',\n",
       "  'tune_name': u'Drunken Tinker, The'},\n",
       " {'artist': u'Various Artists',\n",
       "  'id': u'126791',\n",
       "  'number': 1,\n",
       "  'recording_id': u'4394',\n",
       "  'recording_name': u'Clare Tradition',\n",
       "  'track': 2,\n",
       "  'tune_id': u'1555',\n",
       "  'tune_name': u'Drunken Tinker, The'},\n",
       " {'artist': u'Various Artists',\n",
       "  'id': u'126957',\n",
       "  'number': 1,\n",
       "  'recording_id': u'5829',\n",
       "  'recording_name': u'Comhaltas Champions On Tour',\n",
       "  'track': 12,\n",
       "  'tune_id': u'1555',\n",
       "  'tune_name': u'The Drunken Rambler'},\n",
       " {'artist': u'Various Artists',\n",
       "  'id': u'126971',\n",
       "  'number': 2,\n",
       "  'recording_id': u'3396',\n",
       "  'recording_name': u'Comhaltas On Tour 1983',\n",
       "  'track': 10,\n",
       "  'tune_id': u'1555',\n",
       "  'tune_name': u'Drunken Tinker, The'},\n",
       " {'artist': u'Various Artists',\n",
       "  'id': u'127695',\n",
       "  'number': 1,\n",
       "  'recording_id': u'2697',\n",
       "  'recording_name': u'Festival Of Traditional Irish Music',\n",
       "  'track': 39,\n",
       "  'tune_id': u'1555',\n",
       "  'tune_name': u'Drunken Tinker, The'},\n",
       " {'artist': u'Various Artists',\n",
       "  'id': u'129193',\n",
       "  'number': 1,\n",
       "  'recording_id': u'1424',\n",
       "  'recording_name': u'Irish Dance Music',\n",
       "  'track': 9,\n",
       "  'tune_id': u'1555',\n",
       "  'tune_name': u'Drunken Tinker, The'},\n",
       " {'artist': u'Various Artists',\n",
       "  'id': u'129741',\n",
       "  'number': 1,\n",
       "  'recording_id': u'2433',\n",
       "  'recording_name': u'Irish Whistles',\n",
       "  'track': 2,\n",
       "  'tune_id': u'1555',\n",
       "  'tune_name': u'Drunken Tinker, The'},\n",
       " {'artist': u'Various Artists',\n",
       "  'id': u'129980',\n",
       "  'number': 2,\n",
       "  'recording_id': u'5337',\n",
       "  'recording_name': u'It Was Mighty : CD #1',\n",
       "  'track': 18,\n",
       "  'tune_id': u'1555',\n",
       "  'tune_name': u\"Dick Cosgrove's\"},\n",
       " {'artist': u'Vincent Griffin',\n",
       "  'id': u'138921',\n",
       "  'number': 1,\n",
       "  'recording_id': u'1022',\n",
       "  'recording_name': u'Traditional Irish Fiddle Music',\n",
       "  'track': 7,\n",
       "  'tune_id': u'1555',\n",
       "  'tune_name': u\"Dick Cosgrove's\"}]"
      ]
     },
     "execution_count": 15,
     "metadata": {},
     "output_type": "execute_result"
    }
   ],
   "source": [
    "import sqlite3\n",
    "\n",
    "\n",
    "def recordingsOfTune(tune_id,json=True):\n",
    "    '''\n",
    "    Returns all recordings of a given tune.\n",
    "    '''\n",
    "    \n",
    "    if json: # should figure out how to make this a wrapper\n",
    "        db.conn.row_factory = dict_factory\n",
    "        c = db.conn.cursor()\n",
    "    else:\n",
    "        c = db.cur\n",
    "    \n",
    "    c.execute(\"SELECT * FROM recorded_tunes WHERE tune_id=?\",[tune_id])\n",
    "\n",
    "\n",
    "    q = c.fetchall()\n",
    "    \n",
    "    # reset\n",
    "    db.conn.row_factory = sqlite3.Row\n",
    "    \n",
    "    return q\n",
    "\n",
    "recordingsOfTune(u'1555',json=True)"
   ]
  },
  {
   "cell_type": "code",
   "execution_count": 27,
   "metadata": {},
   "outputs": [
    {
     "data": {
      "text/plain": [
       "[[{'meter': u'4/4',\n",
       "   'mode': u'Amixolydian',\n",
       "   'name': u'Drunken Tinker, The',\n",
       "   'rhythm': u'reel',\n",
       "   'tune_id': u'1555'}],\n",
       " [{'meter': u'4/4',\n",
       "   'mode': u'Dmajor',\n",
       "   'name': u'Convenience, The',\n",
       "   'rhythm': u'reel',\n",
       "   'tune_id': u'226'}]]"
      ]
     },
     "execution_count": 27,
     "metadata": {},
     "output_type": "execute_result"
    }
   ],
   "source": [
    "# Dummmy tune entry for when a \n",
    "gan_ainm = {'tune_id':None,'name':u'Gan Ainm','rhythmn':None,'meter':None,'mode':None}\n",
    "\n",
    "def setsWithTune(tune_id,json=True):\n",
    "    '''\n",
    "    Return all recorded sets of tunes. Returns A list of sets by tune, and by recording information\n",
    "    '''\n",
    "    \n",
    "    if json: # should figure out how to make this a wrapper\n",
    "        db.conn.row_factory = dict_factory\n",
    "        c = db.conn.cursor()\n",
    "    else:\n",
    "        c = db.cur\n",
    "    \n",
    "    tune_recs = recordingsOfTune(tune_id)\n",
    "    \n",
    "    set_recs = [] \n",
    "    set_tunes = []\n",
    "    \n",
    "    for rec in tune_recs:\n",
    "        #print rec['recording_id'], rec['track']\n",
    "    \n",
    "        c.execute(\"SELECT * FROM recorded_tunes WHERE recording_id=? AND track=?\",[rec['recording_id'],rec['track']])\n",
    "\n",
    "        q = c.fetchall()\n",
    "        #print q\n",
    "        tune_ids = [x['tune_id'] for x in q]\n",
    "        \n",
    "        tunes = []\n",
    "        for tid in tune_ids:\n",
    "            try: # if tune_id valid\n",
    "                tmp = int(tid)\n",
    "                c.execute(\"SELECT * FROM tunes WHERE tune_id=?\",[tid])\n",
    "                q2 = c.fetchall()\n",
    "                tunes.append(q2)\n",
    "            except:\n",
    "                tunes.append(gan_ainm)\n",
    "        \n",
    "        set_recs.append(q)\n",
    "        set_tunes.append(tunes)\n",
    "    \n",
    "    # reset\n",
    "    db.conn.row_factory = sqlite3.Row\n",
    "    \n",
    "    return set_tunes, set_recs\n",
    "    \n",
    "st,sr = setsWithTune(u'1555',json=True)\n",
    "\n",
    "st[3]"
   ]
  },
  {
   "cell_type": "code",
   "execution_count": null,
   "metadata": {
    "collapsed": true
   },
   "outputs": [],
   "source": []
  },
  {
   "cell_type": "code",
   "execution_count": null,
   "metadata": {
    "collapsed": true
   },
   "outputs": [],
   "source": [
    "#import pyabc\n",
    "from pyabc import *\n",
    "import json\n",
    "import numpy as np\n",
    "\n",
    "import os\n",
    "import sqlite3  # this is the module that binds to SQLite\n",
    "import pandas as pd  # you'll see why we can use this later\n",
    "\n",
    "from progress import progress"
   ]
  },
  {
   "cell_type": "markdown",
   "metadata": {},
   "source": [
    "https://thesession.org/api\n",
    "\n",
    "Formats\n",
    "JSON\t?format=json\n",
    "XML\t?format=xml\n",
    "RSS\t?format=rss\n",
    "Endpoints\n",
    "The following lists are available in multiple formats e.g. /tunes/new?format=json or /recordings/search?q=altan&format=rss\n",
    "\n",
    "By default, 10 items will be returned in a list. You can request up to 50 items by appending &perpage= e.g. /tunes/new?format=json&perpage=35\n",
    "\n",
    "If you request an individual item, e.g. /tunes/27?format=xml, you will get back the details for that item and any comments that have been posted to it."
   ]
  },
  {
   "cell_type": "code",
   "execution_count": null,
   "metadata": {
    "collapsed": true
   },
   "outputs": [],
   "source": [
    "# setup database\n",
    "\n",
    "DBFILE = 'thesession.db'  # this will be our database\n",
    "BASEDIR = os.getcwd() + '/sqlite3'  # os.path.abspath(os.path.dirname(__file__))\n",
    "DBPATH = os.path.join(BASEDIR, DBFILE)\n",
    "\n",
    "# we may need to delete the existing file first\n",
    "if os.path.exists(DBPATH):\n",
    "    os.remove(DBPATH)\n",
    "\n",
    "# open a connection to the database for this tutorial\n",
    "conn = sqlite3.connect(DBPATH)\n",
    "\n",
    "# get a cursor to the database\n",
    "cur = conn.cursor()"
   ]
  },
  {
   "cell_type": "code",
   "execution_count": null,
   "metadata": {
    "collapsed": true
   },
   "outputs": [],
   "source": [
    "def get_thesession_jsons():\n",
    "    import os, json\n",
    "    #if not os.path.isfile(\"tunes.json\"):\n",
    "    import sys, urllib\n",
    "    for f in ['tunes','recodings','aliases','events','sessions']:\n",
    "        url = 'https://raw.githubusercontent.com/adactio/TheSession-data/master/json/'+f+'.json'\n",
    "        print(\"Downloading \"+f+\" database from %s...\" % url)\n",
    "        try:\n",
    "            urllib.urlretrieve(url, 'json/'+f+'.json')\n",
    "        except AttributeError:\n",
    "            import urllib.request\n",
    "            urllib.request.urlretrieve(url, 'json/'+f+'.json')\n",
    "    #return json.loads(open('tunes.json', 'rb').read().decode('utf8'))\n",
    "    \n",
    "#get_thesession_jsons()"
   ]
  },
  {
   "cell_type": "code",
   "execution_count": null,
   "metadata": {
    "collapsed": true
   },
   "outputs": [],
   "source": [
    "json_tunes = json.loads(open('json/tunes.json', 'rb').read().decode('utf8'))\n",
    "json_recordings = json.loads(open('json/recordings.json', 'rb').read().decode('utf8'))\n",
    "json_aliases = json.loads(open('json/aliases.json', 'rb').read().decode('utf8'))\n",
    "json_events = json.loads(open('json/events.json', 'rb').read().decode('utf8'))\n",
    "json_sessions = json.loads(open('json/sessions.json', 'rb').read().decode('utf8'))"
   ]
  },
  {
   "cell_type": "code",
   "execution_count": null,
   "metadata": {
    "collapsed": true
   },
   "outputs": [],
   "source": [
    "# unicode\n",
    "print json_tunes[1]['name']"
   ]
  },
  {
   "cell_type": "code",
   "execution_count": null,
   "metadata": {
    "collapsed": true
   },
   "outputs": [],
   "source": [
    "n_test = 10"
   ]
  },
  {
   "cell_type": "code",
   "execution_count": null,
   "metadata": {
    "collapsed": true
   },
   "outputs": [],
   "source": [
    "json_tunes[41]"
   ]
  },
  {
   "cell_type": "code",
   "execution_count": null,
   "metadata": {
    "collapsed": true
   },
   "outputs": [],
   "source": [
    "# From tunes.json\n",
    "\n",
    "# users \n",
    "try:\n",
    "    cur.execute('DROP TABLE users')\n",
    "    #conn.commit()\n",
    "except:\n",
    "    pass\n",
    "\n",
    "cur.execute('''CREATE TABLE users (\n",
    "    user TEXT PRIMARY KEY\n",
    ")''')\n",
    "conn.commit()\n",
    "\n",
    "# tunes\n",
    "try:\n",
    "    cur.execute('DROP TABLE tunes')\n",
    "    #conn.commit()\n",
    "except:\n",
    "    pass\n",
    "\n",
    "cur.execute('''CREATE TABLE tunes (\n",
    "    tune_id TEXT PRIMARY KEY,\n",
    "    name TEXT NOT NULL,\n",
    "    rhythm TEXT NOT NULL,\n",
    "    meter TEXT NOT NULL,\n",
    "    mode TEXT NOT NULL\n",
    ")''')\n",
    "conn.commit()\n",
    "\n",
    "# settings\n",
    "try:\n",
    "    cur.execute('DROP TABLE settings')\n",
    "    #conn.commit()\n",
    "except:\n",
    "    pass\n",
    "\n",
    "cur.execute('''CREATE TABLE settings (\n",
    "    setting_id TEXT PRIMARY KEY,\n",
    "    tune_id TEXT NOT NULL REFERENCES tunes ON UPDATE CASCADE ON DELETE CASCADE,\n",
    "    abc  TEXT,\n",
    "    date TEXT NOT NULL,\n",
    "    user TEXT NOT NULL REFERENCES users on UPDATE CASCADE ON DELETE CASCADE,\n",
    "    name TEXT NOT NULL,\n",
    "    rhythm TEXT NOT NULL,\n",
    "    meter TEXT NOT NULL,\n",
    "    mode TEXT NOT NULL,\n",
    "    bars INTEGER,\n",
    "    structure TEXT\n",
    ")''')\n",
    "conn.commit()"
   ]
  },
  {
   "cell_type": "code",
   "execution_count": null,
   "metadata": {
    "collapsed": true
   },
   "outputs": [],
   "source": [
    "# Insert entries from tunes.json\n",
    "N = 1000\n",
    "for i,jj in enumerate(json_tunes[:N]): \n",
    "    \n",
    "    # Fill missing with None\n",
    "    keys = ['setting','tune','abc','date','username','name','type','meter','mode']\n",
    "    j = {}   \n",
    "    for x in keys:\n",
    "        try:\n",
    "            j.update({x:jj[x]})\n",
    "        except:\n",
    "            j.update({x:None})\n",
    "    \n",
    "    # Check if user is new, if so add to table\n",
    "    cur.execute('SELECT * FROM users WHERE (user=?)', [j['username']])\n",
    "    entry = cur.fetchone()\n",
    "    if entry is None:\n",
    "        cur.execute('INSERT INTO users VALUES (?)', [j['username']])\n",
    "        \n",
    "    # Check if tune is new, if so add to table\n",
    "    cur.execute('SELECT * FROM tunes WHERE (tune_id=?)', [j['tune']])\n",
    "    entry = cur.fetchone()\n",
    "    if entry is None:\n",
    "        row = [j['tune'],j['name'],j['type'],j['meter'],j['mode']]\n",
    "        cur.execute('INSERT INTO tunes VALUES (?,?,?,?,?)', row)\n",
    "\n",
    "    row = [j['setting'],j['tune'],j['abc'],j['date'],j['username'],j['name'],j['type'],j['meter'],j['mode']]\n",
    "    cur.execute('INSERT INTO settings VALUES (?,?,?,?,?,?,?,?,?,NULL,NULL)',row)\n",
    "    progress(i+1,N,'Transfering tune settings from JSON to SQL.')\n",
    "    \n",
    "conn.commit()  # you must commit for it to become permanent\n"
   ]
  },
  {
   "cell_type": "code",
   "execution_count": null,
   "metadata": {
    "collapsed": true
   },
   "outputs": [],
   "source": [
    "cur.execute('SELECT * FROM users')\n",
    "cur.fetchall()  # fetch all the results of the query"
   ]
  },
  {
   "cell_type": "code",
   "execution_count": null,
   "metadata": {
    "collapsed": true
   },
   "outputs": [],
   "source": [
    "cur.execute('SELECT * FROM tunes')\n",
    "cur.fetchall()  # fetch all the results of the query"
   ]
  },
  {
   "cell_type": "code",
   "execution_count": null,
   "metadata": {
    "collapsed": true
   },
   "outputs": [],
   "source": [
    "cur.execute('SELECT setting_id, tune_id, date, user FROM settings')\n",
    "cur.fetchall()  # fetch all the results of the query"
   ]
  },
  {
   "cell_type": "code",
   "execution_count": null,
   "metadata": {
    "collapsed": true
   },
   "outputs": [],
   "source": [
    "# from aliases.json\n",
    "\n",
    "# Create aliases table\n",
    "try:\n",
    "    cur.execute('DROP TABLE aliases')\n",
    "    #conn.commit()\n",
    "except:\n",
    "    pass\n",
    "\n",
    "cur.execute('''CREATE TABLE aliases (\n",
    "    alias_id INTEGER PRIMARY KEY,\n",
    "    alias TEXT NOT NULL,\n",
    "    name TEXT NOT NULL,\n",
    "    tune_id NOT NULL REFERENCES tunes ON UPDATE CASCADE ON DELETE CASCADE\n",
    ")''')\n",
    "conn.commit()"
   ]
  },
  {
   "cell_type": "code",
   "execution_count": null,
   "metadata": {
    "collapsed": true
   },
   "outputs": [],
   "source": [
    "# insert entries from aliases.json\n",
    "N = 1000\n",
    "cur.execute('SELECT MAX(alias_id) from aliases')\n",
    "try:\n",
    "    startid = int(cur.fetchone()[0])+1\n",
    "except:\n",
    "    startid = 0\n",
    "        \n",
    "for i,j in enumerate(json_aliases[:N]):\n",
    "    keys = ['alias','name','tune_id']\n",
    "    jj = {}   \n",
    "    for x in keys:\n",
    "        try:\n",
    "            jj.update({x:j[x]})\n",
    "        except:\n",
    "            jj.update({x:None})\n",
    "    \n",
    "    row = [startid+i,jj['alias'],jj['name'],jj['tune_id']]\n",
    "    cur.execute('INSERT INTO aliases VALUES (?,?,?,?)',row)\n",
    "    progress(i+1,N,'Transferrring aliases from JSON to SQL.')\n",
    "conn.commit()"
   ]
  },
  {
   "cell_type": "code",
   "execution_count": null,
   "metadata": {
    "collapsed": true
   },
   "outputs": [],
   "source": [
    "cur.execute('SELECT MAX(alias_id) from aliases')\n",
    "startid = int(cur.fetchone()[0])+1\n",
    "startid"
   ]
  },
  {
   "cell_type": "code",
   "execution_count": null,
   "metadata": {
    "collapsed": true
   },
   "outputs": [],
   "source": [
    "cur.execute('SELECT * FROM aliases')\n",
    "cur.fetchall()  # fetch all the results of the query"
   ]
  },
  {
   "cell_type": "code",
   "execution_count": null,
   "metadata": {
    "collapsed": true
   },
   "outputs": [],
   "source": [
    "# from recordings.json\n",
    "\n",
    "#artists\n",
    "try:\n",
    "    cur.execute('DROP TABLE artists')\n",
    "    #conn.commit()\n",
    "except:\n",
    "    pass\n",
    "\n",
    "cur.execute('''CREATE TABLE artists (\n",
    "    artist TEXT PRIMARY KEY\n",
    ")''')\n",
    "conn.commit()\n",
    "\n",
    "# recordings  (albums)\n",
    "try:\n",
    "    cur.execute('DROP TABLE recordings')\n",
    "    #conn.commit()\n",
    "except:\n",
    "    pass\n",
    "\n",
    "cur.execute('''CREATE TABLE recordings (\n",
    "    recording_id TEXT PRIMARY KEY,\n",
    "    recording_name TEXT NOT NULL,\n",
    "    artist TEXT REFERENCES artists ON UPDATE CASCADE ON DELETE CASCADE\n",
    ")''')\n",
    "conn.commit()\n",
    "\n",
    "# recorded tunes\n",
    "try:\n",
    "    cur.execute('DROP TABLE recorded_tunes')\n",
    "    #conn.commit()\n",
    "except:\n",
    "    pass\n",
    "\n",
    "cur.execute('''CREATE TABLE recorded_tunes (\n",
    "    id TEXT PRIMARY KEY,\n",
    "    recording_id TEXT REFERENCES recordings ON UPDATE CASCADE ON DELETE CASCADE,\n",
    "    recording_name TEXT NOT NULL,\n",
    "    artist TEXT REFERENCES artists ON UPDATE CASCADE ON DELETE CASCADE,\n",
    "    track INTEGER NOT NULL,\n",
    "    number INTEGER NOT NULL,\n",
    "    tune_name TEXT, \n",
    "    tune_id NOT NULL REFERENCES tunes ON UPDATE CASCADE ON DELETE CASCADE\n",
    "    \n",
    ")''')\n",
    "conn.commit()"
   ]
  },
  {
   "cell_type": "code",
   "execution_count": null,
   "metadata": {
    "collapsed": true
   },
   "outputs": [],
   "source": [
    "# Insert entries from recordings.json\n",
    "N = 1000\n",
    "for i,j in enumerate(json_recordings[:N]): \n",
    "    \n",
    "    keys = ['id','recording','artist','track','number','tune','tune_id']\n",
    "    jj = {}   \n",
    "    for x in keys:\n",
    "        try:\n",
    "            jj.update({x:j[x]})\n",
    "        except:\n",
    "            jj.update({x:None})\n",
    "    \n",
    "    # Check if user is new, if so add to table\n",
    "    cur.execute('SELECT * FROM artists WHERE (artist=?)', [jj['artist']])\n",
    "    entry = cur.fetchone()\n",
    "    if entry is None:\n",
    "        cur.execute('INSERT INTO artists VALUES (?)', [jj['artist']])\n",
    "        \n",
    "    # Check if tune is new, if so add to table\n",
    "    cur.execute('SELECT * FROM recordings WHERE (recording_id=?)', [jj['id']])\n",
    "    entry = cur.fetchone()\n",
    "    if entry is None:\n",
    "        row = [j['id'],j['recording'],j['artist']]\n",
    "        cur.execute('INSERT INTO recordings VALUES (?,?,?)', row)\n",
    "\n",
    "    row = [i,jj['id'],jj['recording'],jj['artist'],int(jj['track']),int(jj['number']),jj['tune'],jj['tune_id']]\n",
    "    cur.execute('INSERT INTO recorded_tunes VALUES (?,?,?,?,?,?,?,?)',row)\n",
    "    progress(i+1,N,'Transferring recordings from JSON to SQL.')\n",
    "    \n",
    "conn.commit()  # you must commit for it to become permanent\n",
    "    #cur.rowcount  # tells you how many rows written, sometimes, it's quirky"
   ]
  },
  {
   "cell_type": "code",
   "execution_count": null,
   "metadata": {
    "collapsed": true
   },
   "outputs": [],
   "source": [
    "cur.execute('SELECT * FROM recordings')\n",
    "cur.fetchall()  # fetch all the results of the query"
   ]
  },
  {
   "cell_type": "code",
   "execution_count": null,
   "metadata": {
    "collapsed": true
   },
   "outputs": [],
   "source": [
    "# from events.json\n",
    "try:\n",
    "    cur.execute('DROP TABLE events')\n",
    "    #conn.commit()\n",
    "except:\n",
    "    pass\n",
    "\n",
    "cur.execute('''CREATE TABLE events (\n",
    "    event_id TEXT PRIMARY KEY,\n",
    "    address TEXT,\n",
    "    area TEXT,\n",
    "    country TEXT,\n",
    "    dtend TEXT,\n",
    "    dtstart TEXT,\n",
    "    event_name TEXT,\n",
    "    latitude TEXT,\n",
    "    logitude TEXT,\n",
    "    town TEXT,\n",
    "    venue TEXT\n",
    ")''')\n",
    "conn.commit()"
   ]
  },
  {
   "cell_type": "code",
   "execution_count": null,
   "metadata": {
    "collapsed": true
   },
   "outputs": [],
   "source": [
    "progress?"
   ]
  },
  {
   "cell_type": "code",
   "execution_count": null,
   "metadata": {
    "collapsed": true
   },
   "outputs": [],
   "source": [
    "N = 1000\n",
    "for i,j in enumerate(json_events[:N]):    \n",
    "\n",
    "    keys = ['id','address','area','country','dtend','dtstart','event','latitude','longitude','town','venue']\n",
    "    row = [ None for x in range(len(keys))]\n",
    "    \n",
    "    for x in  range(len(keys)):\n",
    "        try:\n",
    "            row[x] = j[keys[x]]\n",
    "        except:\n",
    "            pass\n",
    "    #row = [j['id'],j['address'],j['area'],j['country'],j['dtend'],j['dtstart'],j['event'],\n",
    "    #      j['latitude'],j['longitude'],j['town'],j['venue']]\n",
    "    cur.execute('INSERT INTO events VALUES (?,?,?,?,?,?,?,?,?,?,?)',row)\n",
    "    conn.commit()  # you must commit for it to become permanent\n",
    "    #cur.rowcount  # tells you how many rows written, sometimes, it's quirky\n",
    "    progress(i+1,N,'Transfering events from JSON to SQL.')"
   ]
  },
  {
   "cell_type": "code",
   "execution_count": null,
   "metadata": {
    "collapsed": true
   },
   "outputs": [],
   "source": [
    "cur.execute('SELECT * FROM events')\n",
    "cur.fetchall()  # fetch all the results of the query"
   ]
  },
  {
   "cell_type": "code",
   "execution_count": null,
   "metadata": {
    "collapsed": true
   },
   "outputs": [],
   "source": [
    "# from sessions.json\n",
    "try:\n",
    "    cur.execute('DROP TABLE sessions')\n",
    "    #conn.commit()\n",
    "except:\n",
    "    pass\n",
    "\n",
    "cur.execute('''CREATE TABLE sessions (\n",
    "    session_id TEXT PRIMARY KEY,\n",
    "    address TEXT,\n",
    "    area TEXT,\n",
    "    country TEXT,\n",
    "    date TEXT,\n",
    "    latitude TEXT,\n",
    "    logitude TEXT,\n",
    "    name TEXT,\n",
    "    town TEXT\n",
    ")''')\n",
    "conn.commit()"
   ]
  },
  {
   "cell_type": "code",
   "execution_count": null,
   "metadata": {
    "collapsed": true
   },
   "outputs": [],
   "source": [
    "json_sessions[1000]"
   ]
  },
  {
   "cell_type": "code",
   "execution_count": null,
   "metadata": {
    "collapsed": true
   },
   "outputs": [],
   "source": [
    "N = 1000\n",
    "for i,j in enumerate(json_sessions[:N]):    \n",
    "\n",
    "    keys = ['id','address','area','country','date','latitude','longitude','name','town']\n",
    "    row = [ None for x in range(len(keys))]\n",
    "    \n",
    "    for x in  range(len(keys)):\n",
    "        try:\n",
    "            row[x] = j[keys[x]]\n",
    "        except:\n",
    "            pass\n",
    "       \n",
    "    #row = [j['id'],j['address'],j['area'],j['country'],j['date'],\n",
    "    #      j['latitude'],j['longitude'],j['name'],j['town']]\n",
    "    \n",
    "    cur.execute('INSERT INTO sessions VALUES (?,?,?,?,?,?,?,?,?)',row)\n",
    "    #cur.rowcount  # tells you how many rows written, sometimes, it's quirky\n",
    "    progress(i+1,N,'Transfering sessions from JSON to SQL.')\n",
    "conn.commit()  # you must commit for it to become permanent"
   ]
  },
  {
   "cell_type": "code",
   "execution_count": null,
   "metadata": {
    "collapsed": true
   },
   "outputs": [],
   "source": [
    "cur.execute('SELECT * FROM sessions')\n",
    "cur.fetchall()  # fetch all the results of the query"
   ]
  },
  {
   "cell_type": "code",
   "execution_count": null,
   "metadata": {
    "collapsed": true
   },
   "outputs": [],
   "source": []
  },
  {
   "cell_type": "code",
   "execution_count": null,
   "metadata": {
    "collapsed": true
   },
   "outputs": [],
   "source": []
  }
 ],
 "metadata": {
  "anaconda-cloud": {},
  "kernelspec": {
   "display_name": "Python [conda root]",
   "language": "python",
   "name": "conda-root-py"
  },
  "language_info": {
   "codemirror_mode": {
    "name": "ipython",
    "version": 2
   },
   "file_extension": ".py",
   "mimetype": "text/x-python",
   "name": "python",
   "nbconvert_exporter": "python",
   "pygments_lexer": "ipython2",
   "version": "2.7.12"
  }
 },
 "nbformat": 4,
 "nbformat_minor": 1
}
