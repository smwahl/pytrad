{
 "cells": [
  {
   "cell_type": "markdown",
   "metadata": {},
   "source": [
    "# Uniform tune structure\n",
    "\n",
    "Here I test code from 'tune_structure.py' that is designed to take the original '.abc' sheet music and edit it to fit a standard format prior to digitizing it.\n",
    "\n",
    "The main function for doing this is 'parseStructure'\n",
    "\n",
    "Repeat patterns are a common divergence point for similar and related tunes. As such parsStructure calls functions which detect and store the repeat patter, and then return an abc with all of the repeats completely expanded. This means that each measure that is played is written out, even when it is an exact repeat.\n",
    "\n",
    "I also standardize triplets in a way that allows their duration to be digitized into an even duration. This facilitates comparison even thought it isn't 100% correct from a music theory standpoint."
   ]
  },
  {
   "cell_type": "code",
   "execution_count": 2,
   "metadata": {},
   "outputs": [
    {
     "name": "stdout",
     "output_type": "stream",
     "text": [
      "Repeating part ended by a repeat with same ending.\n",
      "Repeating part ended by a repeat with same ending.\n",
      "Repeating part ended by a repeat with same ending.\n",
      "\n",
      "Name Banish Misfortune\n",
      "\n",
      "Original .abc:\n",
      "fed cAG| A2d cAG| F2D DED| FEF GFG|\r\n",
      "AGA cAG| AGA cde|fed cAG| Ad^c d3:|\r\n",
      "f2d d^cd| f2g agf| e2c cBc|e2f gfe| \r\n",
      "f2g agf| e2f gfe|fed cAG|Ad^c d3:|\r\n",
      "f2g e2f| d2e c2d|ABA GAG| F2F GED|\r\n",
      "c3 cAG| AGA cde| fed cAG| Ad^c d3:|\n",
      "\n",
      "Pattern: AABBCC\n",
      "Length: [16, 16, 16] Total: 48\n",
      "Expanded .abc:\n",
      "fed cAG| A2d cAG| F2D DED| FEF GFG|AGA cAG| AGA cde|fed cAG| Ad^c d3|\r\n",
      "fed cAG| A2d cAG| F2D DED| FEF GFG|AGA cAG| AGA cde|fed cAG| Ad^c d3||\r\n",
      "f2d d^cd| f2g agf| e2c cBc|e2f gfe| f2g agf| e2f gfe|fed cAG|Ad^c d3|\r\n",
      "f2d d^cd| f2g agf| e2c cBc|e2f gfe| f2g agf| e2f gfe|fed cAG|Ad^c d3||\r\n",
      "f2g e2f| d2e c2d|ABA GAG| F2F GED|c3 cAG| AGA cde| fed cAG| Ad^c d3|\r\n",
      "f2g e2f| d2e c2d|ABA GAG| F2F GED|c3 cAG| AGA cde| fed cAG| Ad^c d3||\r\n",
      "\n",
      "Repeating part ended by a repeat with different endings.\n",
      "Repeating part ended by a repeat with different endings.\n",
      "\n",
      "Name Banshee, The\n",
      "\n",
      "Original .abc:\n",
      "G3D EDB,D|GFGB d2 Bd|eged BAGA|BAGE EDDE|\r",
      "G2 GD EDB,D|GFGB d2 Bd|eged BAGA|1 BAGE EDDE:|2 BAGE ED D2||\r",
      "eaag efge|dBBA B2 Bd|eB ~B2 gBfB|eBBA B2 Bd|\r",
      "eaag efge|dBBA B2 Bd|eged BAGA|1 BAGE EDD2:|2 BAGE EDDE||\n",
      "\n",
      "Pattern: AABB\n",
      "Length: [16, 16] Total: 32\n",
      "Expanded .abc:\n",
      "G3D EDB,D|GFGB d2 Bd|eged BAGA|BAGE EDDE|G2 GD EDB,D|GFGB d2 Bd|eged BAGA| BAGE EDDE|\r\n",
      "G3D EDB,D|GFGB d2 Bd|eged BAGA|BAGE EDDE|G2 GD EDB,D|GFGB d2 Bd|eged BAGA| BAGE ED D2||\r\n",
      "eaag efge|dBBA B2 Bd|eB ~B2 gBfB|eBBA B2 Bd|eaag efge|dBBA B2 Bd|eged BAGA| BAGE EDD2|\r\n",
      "eaag efge|dBBA B2 Bd|eB ~B2 gBfB|eBBA B2 Bd|eaag efge|dBBA B2 Bd|eged BAGA| BAGE EDDE||\r\n",
      "\n",
      "Repeating part ended by a repeat with different endings.\n",
      "Repeating part ended by a repeat with same ending.\n",
      "\n",
      "Name Kesh, The\n",
      "\n",
      "Original .abc:\n",
      "|:~G3 GAB|~A3 ABd|edd gdd|edB dBA|\r\n",
      "~G3 GAB|~A3 ABd|edd gdB|1 AGF G2D:|2 AGF G2A|\r\n",
      "|:~B3 dBd|ege dBG|~B3 dBG|ABA AGA|\r\n",
      "BAB dBd|ege dBd|~g3 aga|bgf g3:|\n",
      "\n",
      "Pattern: AABB\n",
      "Length: [16, 16] Total: 32\n",
      "Expanded .abc:\n",
      "~G3 GAB|~A3 ABd|edd gdd|edB dBA|~G3 GAB|~A3 ABd|edd gdB| AGF G2D|\r\n",
      "~G3 GAB|~A3 ABd|edd gdd|edB dBA|~G3 GAB|~A3 ABd|edd gdB| AGF G2A||\r\n",
      "~B3 dBd|ege dBG|~B3 dBG|ABA AGA|BAB dBd|ege dBd|~g3 aga|bgf g3|\r\n",
      "~B3 dBd|ege dBG|~B3 dBG|ABA AGA|BAB dBd|ege dBd|~g3 aga|bgf g3||\r\n",
      "\n",
      "Repeating part ended by a repeat with same ending.\n",
      "Repeating part ended by a repeat with same ending.\n",
      "Repeating part ended by a repeat with same ending.\n",
      "\n",
      "Name Green Fields Of Glentown, The\n",
      "\n",
      "Original .abc:\n",
      "EA,~A,2 E2DB,|G,B,~B,2 G,A,B,D|EA,~A,2 E2DE|GBeB dBAB|\r\n",
      "eB~B2 eBdB|AE~E2 DG,B,G,|A,E~E2 E2DE|GEDB, B,A,~A,2:|\r\n",
      "|:A2EA cAEA|G2DB, G,A,B,D|EA~A2 GABd|edBA aged|\r\n",
      "bg~g2 afge|dB~B2 GEDB,|A,E~E2 E2DE|GEDB, B,A,~A,2:|\r\n",
      "|:A2EA cAEA|aged bage|dG~G2 DGBd|gded Bdgd|\r\n",
      "e2Be eBdB|AE~E2 DG,B,G,|A,E~E2 E2DE|GEDB, B,A,~A,2:|\n",
      "\n",
      "Pattern: AABBCC\n",
      "Length: [16, 16, 16] Total: 48\n",
      "Expanded .abc:\n",
      "EA,~A,2 E2DB,|G,B,~B,2 G,A,B,D|EA,~A,2 E2DE|GBeB dBAB|eB~B2 eBdB|AE~E2 DG,B,G,|A,E~E2 E2DE|GEDB, B,A,~A,2|\r\n",
      "EA,~A,2 E2DB,|G,B,~B,2 G,A,B,D|EA,~A,2 E2DE|GBeB dBAB|eB~B2 eBdB|AE~E2 DG,B,G,|A,E~E2 E2DE|GEDB, B,A,~A,2||\r\n",
      "A2EA cAEA|G2DB, G,A,B,D|EA~A2 GABd|edBA aged|bg~g2 afge|dB~B2 GEDB,|A,E~E2 E2DE|GEDB, B,A,~A,2|\r\n",
      "A2EA cAEA|G2DB, G,A,B,D|EA~A2 GABd|edBA aged|bg~g2 afge|dB~B2 GEDB,|A,E~E2 E2DE|GEDB, B,A,~A,2||\r\n",
      "A2EA cAEA|aged bage|dG~G2 DGBd|gded Bdgd|e2Be eBdB|AE~E2 DG,B,G,|A,E~E2 E2DE|GEDB, B,A,~A,2|\r\n",
      "A2EA cAEA|aged bage|dG~G2 DGBd|gded Bdgd|e2Be eBdB|AE~E2 DG,B,G,|A,E~E2 E2DE|GEDB, B,A,~A,2||\r\n",
      "\n",
      "Repeating part ended by a repeat with same ending.\n",
      "Repeating part ended by a repeat with same ending.\n",
      "\n",
      "Name Cloch Na Ceithre Mhile\n",
      "\n",
      "Original .abc:\n",
      "E2BE E2BE|E2dB AFEF|D2(3FED ADFE|DFF2 DFAF|\r",
      "E2BE E2ef|f/f/e fd edef|f/f/e fd edBe|dBAF DEED:|\r",
      "Eefe befe|EBB2 A2FD|EDAD BDA2|(3aba (3faf (3ded AE|\r",
      "FBee ef (3gab|ed BAB2ef|f/f/e fd edBe|dBAF DEED:|\n",
      "\n",
      "Pattern: AABB\n",
      "Length: [16, 16] Total: 32\n",
      "Expanded .abc:\n",
      "E2BE E2BE|E2dB AFEF|D2F/E/D ADFE|DFF2 DFAF|E2BE E2ef|f/f/e fd edef|f/f/e fd edBe|dBAF DEED|\r\n",
      "E2BE E2BE|E2dB AFEF|D2F/E/D ADFE|DFF2 DFAF|E2BE E2ef|f/f/e fd edef|f/f/e fd edBe|dBAF DEED||\r\n",
      "Eefe befe|EBB2 A2FD|EDAD BDA2|a/b/a f/a/f d/e/d AE|FBee ef g/a/b|ed BAB2ef|f/f/e fd edBe|dBAF DEED|\r\n",
      "Eefe befe|EBB2 A2FD|EDAD BDA2|a/b/a f/a/f d/e/d AE|FBee ef g/a/b|ed BAB2ef|f/f/e fd edBe|dBAF DEED||\r\n",
      "\n",
      "Repeating part ended by a repeat with same ending.\n",
      "Repeating part ended by a repeat with same ending.\n",
      "\n",
      "Name Sligo Maid, The\n",
      "\n",
      "Original .abc:\n",
      "|: A2BA (3B^cd ef | gedB AGEF | G2BG dGBG | DEGA BAdB |\r\n",
      "A2BA (3B^cd ef | gedB AGEG | B3G A2GE | DEGA BAA2:|\r\n",
      "|: eaag a2ga | bgaf gfed | eggf g2ge | dega bgag |\r\n",
      "eaag a2ga | bgaf gfed | eg (3gfg edBA | dBgB BAA2 :|\n",
      "\n",
      "Pattern: AABB\n",
      "Length: [16, 16] Total: 32\n",
      "Expanded .abc:\n",
      " A2BA B/^c/d ef | gedB AGEF | G2BG dGBG | DEGA BAdB |A2BA B/^c/d ef | gedB AGEG | B3G A2GE | DEGA BAA2|\r\n",
      " A2BA B/^c/d ef | gedB AGEF | G2BG dGBG | DEGA BAdB |A2BA B/^c/d ef | gedB AGEG | B3G A2GE | DEGA BAA2||\r\n",
      " eaag a2ga | bgaf gfed | eggf g2ge | dega bgag |eaag a2ga | bgaf gfed | eg g/f/g edBA | dBgB BAA2 |\r\n",
      " eaag a2ga | bgaf gfed | eggf g2ge | dega bgag |eaag a2ga | bgaf gfed | eg g/f/g edBA | dBgB BAA2 ||\r\n",
      "\n",
      "Repeating part ended by a repeat with same ending.\n",
      "Repeating part ended by reaching end of tune.\n",
      "\n",
      "Name Morrison's\n",
      "\n",
      "Original .abc:\n",
      "|:E3 B3|EBE AFD|EDE B3|dcB AFD|\r",
      "E3 B3|EBE AFD|G3 FGA|dAG FED:|\r",
      "Bee fee|aee fee|Bee fee|a2g fed|\r",
      "Bee fee|aee fee|gfe d2A|BAG FGA|\r",
      "Bee fee|aee fee|Bee fee|faf def|\r",
      "g3 gfe|def g2d|edc d2A|BAG FED|\n",
      "\n",
      "Pattern: AAB\n",
      "Length: [16, 16] Total: 32\n",
      "Expanded .abc:\n",
      "E3 B3|EBE AFD|EDE B3|dcB AFD|E3 B3|EBE AFD|G3 FGA|dAG FED|\r\n",
      "E3 B3|EBE AFD|EDE B3|dcB AFD|E3 B3|EBE AFD|G3 FGA|dAG FED||\r\n",
      "Bee fee|aee fee|Bee fee|a2g fed|Bee fee|aee fee|gfe d2A|BAG FGA|Bee fee|aee fee|Bee fee|faf def|g3 gfe|def g2d|edc d2A|BAG FED||\r\n",
      "\n",
      "Non-repeating part ended by new start of repeat.\n",
      "Repeating part ended by a repeat with different endings.\n",
      "\n",
      "Name Sailor's Bonnet, The\n",
      "\n",
      "Original .abc:\n",
      "|:A2 FA df f2|dfef dB B2| A2 FA dfef| dBAF AD D2 |\r\n",
      "A2 FA dfef|dfef dB B2| A2 FA dfef|dBAF ADD2||\r\n",
      "|:a3b afdf|afef dB B2|fb b2 bafa|b2 af fe e2|\r\n",
      "bf f2 af f2|afef dB B2|A2 FA dfef |1 dBAF ADD2 :|2 dBAF ADDB||\n",
      "\n",
      "Pattern: ABB\n",
      "Length: [8, 16] Total: 24\n",
      "Expanded .abc:\n",
      "A2 FA df f2|dfef dB B2| A2 FA dfef| dBAF AD D2 |A2 FA dfef|dfef dB B2| A2 FA dfef|dBAF ADD2||\r\n",
      "a3b afdf|afef dB B2|fb b2 bafa|b2 af fe e2|bf f2 af f2|afef dB B2|A2 FA dfef | dBAF ADD2 |\r\n",
      "a3b afdf|afef dB B2|fb b2 bafa|b2 af fe e2|bf f2 af f2|afef dB B2|A2 FA dfef | dBAF ADDB||\r\n",
      "\n"
     ]
    }
   ],
   "source": [
    "import json\n",
    "from tune_structure import matchJsonField, inJsonField, parseStructure\n",
    "\n",
    "ts_tunes = json.loads(open('thesession_2017_07_12.json', 'rb').read().decode('utf8'))\n",
    "\n",
    "json_test_entries = []\n",
    "\n",
    "t = matchJsonField(ts_tunes,'name','Banish Misfortune')[0]\n",
    "json_test_entries.append(t)\n",
    "\n",
    "t = matchJsonField(ts_tunes,'name','Banshee, The')[1] # The first and second ending breaks the pyabc Tune()?\n",
    "json_test_entries.append(t)\n",
    "\n",
    "t = matchJsonField(ts_tunes,'name','Kesh, The')[-1]\n",
    "json_test_entries.append(t)\n",
    "\n",
    "t = matchJsonField(ts_tunes,'name','Green Fields Of Glentown, The')[0]\n",
    "json_test_entries.append(t)\n",
    "\n",
    "t = inJsonField(ts_tunes,'name','Cloch Na')[3]\n",
    "json_test_entries.append(t)\n",
    "\n",
    "t = matchJsonField(ts_tunes,'name','Sligo Maid, The')[0]\n",
    "json_test_entries.append(t)\n",
    "\n",
    "t = matchJsonField(ts_tunes,'name',\"Morrison's\")[0]\n",
    "json_test_entries.append(t)\n",
    "\n",
    "t = matchJsonField(ts_tunes,'name',\"Sailor's Bonnet, The\")[1]\n",
    "json_test_entries.append(t)\n",
    "\n",
    "for t0 in json_test_entries:\n",
    "    t = parseStructure(t0)\n",
    "\n",
    "    print ''\n",
    "    print 'Name',t['name']\n",
    "    print ''\n",
    "    print 'Original .abc:'\n",
    "    print t0['abc']\n",
    "    print ''\n",
    "    print 'Pattern:', t['pattern']\n",
    "    print 'Length:', t['length'], 'Total:', sum(t['length'])\n",
    "    print 'Expanded .abc:'\n",
    "    print t['abc']\n"
   ]
  },
  {
   "cell_type": "code",
   "execution_count": null,
   "metadata": {
    "collapsed": true
   },
   "outputs": [],
   "source": []
  },
  {
   "cell_type": "code",
   "execution_count": null,
   "metadata": {
    "collapsed": true
   },
   "outputs": [],
   "source": []
  },
  {
   "cell_type": "code",
   "execution_count": null,
   "metadata": {
    "collapsed": true
   },
   "outputs": [],
   "source": []
  },
  {
   "cell_type": "code",
   "execution_count": null,
   "metadata": {
    "collapsed": true
   },
   "outputs": [],
   "source": []
  },
  {
   "cell_type": "code",
   "execution_count": null,
   "metadata": {
    "collapsed": true
   },
   "outputs": [],
   "source": []
  },
  {
   "cell_type": "code",
   "execution_count": null,
   "metadata": {
    "collapsed": true
   },
   "outputs": [],
   "source": []
  },
  {
   "cell_type": "code",
   "execution_count": 1,
   "metadata": {
    "collapsed": true
   },
   "outputs": [],
   "source": [
    "#import pyabc\n",
    "import pyabc \n",
    "import json\n",
    "import numpy as np"
   ]
  },
  {
   "cell_type": "code",
   "execution_count": 2,
   "metadata": {
    "collapsed": true
   },
   "outputs": [],
   "source": [
    "ts_tunes = json.loads(open('thesession_2017_07_12.json', 'rb').read().decode('utf8'))"
   ]
  },
  {
   "cell_type": "code",
   "execution_count": 3,
   "metadata": {
    "collapsed": true
   },
   "outputs": [],
   "source": [
    "def matchJsonField(js,field,string):\n",
    "    result = []\n",
    "    for t in js:\n",
    "        if t[field] == string:\n",
    "            result.append(t)\n",
    "    return  result  \n",
    "\n",
    "def inJsonField(js,field,string):\n",
    "    result = []\n",
    "    for t in js:\n",
    "        if string in t[field]:\n",
    "            result.append(t)\n",
    "    return result\n",
    "\n",
    "def fieldList(js,field):\n",
    "    result = []\n",
    "    for t in js:\n",
    "        result.append(t[field])\n",
    "    return result\n",
    "        "
   ]
  },
  {
   "cell_type": "code",
   "execution_count": 5,
   "metadata": {},
   "outputs": [
    {
     "name": "stdout",
     "output_type": "stream",
     "text": [
      "fed cAG| A2d cAG| F2D DED| FEF GFG|\n",
      "AGA cAG| AGA cde|fed cAG| Ad^c d3:|\n",
      "f2d d^cd| f2g agf| e2c cBc|e2f gfe| \n",
      "f2g agf| e2f gfe|fed cAG|Ad^c d3:|\n",
      "f2g e2f| d2e c2d|ABA GAG| F2F GED|\n",
      "c3 cAG| AGA cde| fed cAG| Ad^c d3:|\n"
     ]
    }
   ],
   "source": [
    "t = matchJsonField(ts_tunes,'name','Banish Misfortune')[0]\n",
    "tune = pyabc.Tune(json=t)"
   ]
  },
  {
   "cell_type": "code",
   "execution_count": 6,
   "metadata": {},
   "outputs": [
    {
     "name": "stdout",
     "output_type": "stream",
     "text": [
      "G3D EDB,D|GFGB d2 Bd|eged BAGA|BAGE EDDE|\r",
      "G2 GD EDB,D|GFGB d2 Bd|eged BAGA|1 BAGE EDDE:|2 BAGE ED D2||\r",
      "eaag efge|dBBA B2 Bd|eB ~B2 gBfB|eBBA B2 Bd|\r",
      "eaag efge|dBBA B2 Bd|eged BAGA|1 BAGE EDD2:|2 BAGE EDDE||\n"
     ]
    }
   ],
   "source": [
    "t = matchJsonField(ts_tunes,'name','Banshee, The')[1] # The first and second ending breaks the pyabc Tune()?\n",
    "tune = pyabc.Tune(json=t)"
   ]
  },
  {
   "cell_type": "code",
   "execution_count": 7,
   "metadata": {},
   "outputs": [
    {
     "name": "stdout",
     "output_type": "stream",
     "text": [
      "|:~G3 GAB|~A3 ABd|edd gdd|edB dBA|\n",
      "~G3 GAB|~A3 ABd|edd gdB|1 AGF G2D:|2 AGF G2A|\n",
      "|:~B3 dBd|ege dBG|~B3 dBG|ABA AGA|\n",
      "BAB dBd|ege dBd|~g3 aga|bgf g3:|\n"
     ]
    }
   ],
   "source": [
    "t = matchJsonField(ts_tunes,'name','Kesh, The')[-1]\n",
    "tune = pyabc.Tune(json=t)"
   ]
  },
  {
   "cell_type": "code",
   "execution_count": 8,
   "metadata": {},
   "outputs": [
    {
     "data": {
      "text/plain": [
       "{u'abc': u'EA,~A,2 E2DB,|G,B,~B,2 G,A,B,D|EA,~A,2 E2DE|GBeB dBAB|\\r\\neB~B2 eBdB|AE~E2 DG,B,G,|A,E~E2 E2DE|GEDB, B,A,~A,2:|\\r\\n|:A2EA cAEA|G2DB, G,A,B,D|EA~A2 GABd|edBA aged|\\r\\nbg~g2 afge|dB~B2 GEDB,|A,E~E2 E2DE|GEDB, B,A,~A,2:|\\r\\n|:A2EA cAEA|aged bage|dG~G2 DGBd|gded Bdgd|\\r\\ne2Be eBdB|AE~E2 DG,B,G,|A,E~E2 E2DE|GEDB, B,A,~A,2:|',\n",
       " u'date': u'2002-05-04 23:14:34',\n",
       " u'meter': u'4/4',\n",
       " u'mode': u'Adorian',\n",
       " u'name': u'Green Fields Of Glentown, The',\n",
       " u'setting': u'671',\n",
       " u'tune': u'671',\n",
       " u'type': u'reel',\n",
       " u'username': u'Kuddel'}"
      ]
     },
     "execution_count": 8,
     "metadata": {},
     "output_type": "execute_result"
    }
   ],
   "source": [
    "\n",
    "matchJsonField(ts_tunes,'name','Green Fields Of Glentown, The')[0]\n",
    "\n"
   ]
  },
  {
   "cell_type": "code",
   "execution_count": 9,
   "metadata": {},
   "outputs": [
    {
     "data": {
      "text/plain": [
       "u'E2BE E2BE|E2dB AFEF|D2(3FED ADFE|DFF2 DFAF|\\rE2BE E2ef|f/f/e fd edef|f/f/e fd edBe|dBAF DEED:|\\rEefe befe|EBB2 A2FD|EDAD BDA2|(3aba (3faf (3ded AE|\\rFBee ef (3gab|ed BAB2ef|f/f/e fd edBe|dBAF DEED:|'"
      ]
     },
     "execution_count": 9,
     "metadata": {},
     "output_type": "execute_result"
    }
   ],
   "source": [
    "inJsonField(ts_tunes,'name','Cloch Na')[3]['abc']"
   ]
  },
  {
   "cell_type": "code",
   "execution_count": 14,
   "metadata": {},
   "outputs": [
    {
     "name": "stdout",
     "output_type": "stream",
     "text": [
      "|: A2BA (3B^cd ef | gedB AGEF | G2BG dGBG | DEGA BAdB |\n",
      "A2BA (3B^cd ef | gedB AGEG | B3G A2GE | DEGA BAA2:|\n",
      "|: eaag a2ga | bgaf gfed | eggf g2ge | dega bgag |\n",
      "eaag a2ga | bgaf gfed | eg (3gfg edBA | dBgB BAA2 :|\n"
     ]
    }
   ],
   "source": [
    "t = matchJsonField(ts_tunes,'name','Sligo Maid, The')[0]\n",
    "tune = pyabc.Tune(json=t)"
   ]
  },
  {
   "cell_type": "code",
   "execution_count": 15,
   "metadata": {},
   "outputs": [
    {
     "data": {
      "text/plain": [
       "1.0"
      ]
     },
     "execution_count": 15,
     "metadata": {},
     "output_type": "execute_result"
    }
   ],
   "source": [
    "n = tune.notes[4]\n",
    "n.duration"
   ]
  },
  {
   "cell_type": "code",
   "execution_count": 16,
   "metadata": {
    "collapsed": true
   },
   "outputs": [],
   "source": [
    "note_symbols = ['C','D','E','F','G','A','B','c','d','e','f','g','a','b','z']\n",
    "esc_chars = ['\\r','\\n']\n",
    "#['^','=']\n",
    "oct_chars = [\",\",\"'\"]\n",
    "def notesInStr(mystr):\n",
    "    for x in note_symbols:\n",
    "        if x in mystr:\n",
    "            return True\n",
    "    return False\n",
    "\n",
    "def removeESC(mystr):\n",
    "    cstr = mystr\n",
    "    for c in esc_chars:\n",
    "        cstr = cstr.replace(c,'')\n",
    "    return cstr\n",
    "\n",
    "def tripletToSemiQuavers(mystr):\n",
    "    '''\n",
    "    To facilitate comparisons of duration, we are going to treat '3(ABc' as 'A\\B\\c'.\n",
    "    '''\n",
    "    tars = []\n",
    "    reps = []\n",
    "    for i,c in enumerate(mystr):\n",
    "\n",
    "        #try:\n",
    "            if mystr[i]=='(' and mystr[i+1]=='3':\n",
    "                print i\n",
    "                tar = u'(3'\n",
    "                rep = ''\n",
    "                \n",
    "                ii = i+2\n",
    "                notes = 0\n",
    "                while notes<2:\n",
    "                    if mystr[ii] in note_symbols:\n",
    "                        print ii, mystr[ii]\n",
    "                        tar = tar + mystr[ii]\n",
    "                        rep = rep + mystr[ii]\n",
    "                        if mystr[ii+1] in oct_chars:\n",
    "                            tar = tar + mystr[ii+1]\n",
    "                            rep = rep + mystr[ii+1]\n",
    "                            ii = ii+1\n",
    "                        ii = ii+1\n",
    "                        rep = rep +\"/\"\n",
    "                        \n",
    "                        notes = notes+1\n",
    "                    else:\n",
    "                        print ii, mystr[ii]\n",
    "                        tar = tar + mystr[ii]\n",
    "                        rep = rep + mystr[ii]\n",
    "                        ii = ii+1\n",
    "                        \n",
    "                \n",
    "                tars.append(tar)\n",
    "                reps.append(rep)\n",
    "    \n",
    "    print tars\n",
    "    print reps\n",
    "    \n",
    "    cstr = mystr\n",
    "    for t,r in zip(tars,reps):\n",
    "        try:\n",
    "            cstr = cstr.replace(t,r)\n",
    "        except:\n",
    "            pass\n",
    "    \n",
    "    return cstr\n",
    "                             "
   ]
  },
  {
   "cell_type": "code",
   "execution_count": 21,
   "metadata": {},
   "outputs": [
    {
     "data": {
      "text/plain": [
       "<pyabc.Tune at 0x1102926d0>"
      ]
     },
     "execution_count": 21,
     "metadata": {},
     "output_type": "execute_result"
    }
   ],
   "source": [
    "tune."
   ]
  },
  {
   "cell_type": "code",
   "execution_count": 19,
   "metadata": {},
   "outputs": [
    {
     "ename": "NameError",
     "evalue": "name 'abc' is not defined",
     "output_type": "error",
     "traceback": [
      "\u001b[0;31m---------------------------------------------------------------------------\u001b[0m",
      "\u001b[0;31mNameError\u001b[0m                                 Traceback (most recent call last)",
      "\u001b[0;32m<ipython-input-19-0bee89b07a24>\u001b[0m in \u001b[0;36m<module>\u001b[0;34m()\u001b[0m\n\u001b[0;32m----> 1\u001b[0;31m \u001b[0mabc\u001b[0m\u001b[0;34m\u001b[0m\u001b[0m\n\u001b[0m",
      "\u001b[0;31mNameError\u001b[0m: name 'abc' is not defined"
     ]
    }
   ],
   "source": [
    "abc"
   ]
  },
  {
   "cell_type": "code",
   "execution_count": 22,
   "metadata": {},
   "outputs": [
    {
     "name": "stdout",
     "output_type": "stream",
     "text": [
      "8\n",
      "10 B\n",
      "11 ^\n",
      "12 c\n",
      "62\n",
      "64 B\n",
      "65 ^\n",
      "66 c\n",
      "189\n",
      "191 g\n",
      "192 f\n",
      "[u'(3B^c', u'(3B^c', u'(3gf']\n",
      "[u'B/^c/', u'B/^c/', u'g/f/']\n"
     ]
    },
    {
     "data": {
      "text/plain": [
       "u'|: A2BA B/^c/d ef | gedB AGEF | G2BG dGBG | DEGA BAdB |\\r\\nA2BA B/^c/d ef | gedB AGEG | B3G A2GE | DEGA BAA2:|\\r\\n|: eaag a2ga | bgaf gfed | eggf g2ge | dega bgag |\\r\\neaag a2ga | bgaf gfed | eg g/f/g edBA | dBgB BAA2 :|'"
      ]
     },
     "execution_count": 22,
     "metadata": {},
     "output_type": "execute_result"
    }
   ],
   "source": [
    "abc = t['abc']\n",
    "tripletToSemiQuavers(abc)"
   ]
  },
  {
   "cell_type": "code",
   "execution_count": 28,
   "metadata": {},
   "outputs": [
    {
     "name": "stdout",
     "output_type": "stream",
     "text": [
      "8\n",
      "10 B\n",
      "11 ^\n",
      "12 c\n",
      "62\n",
      "64 B\n",
      "65 ^\n",
      "66 c\n",
      "189\n",
      "191 g\n",
      "192 f\n",
      "[u'(3B^c', u'(3B^c', u'(3gf']\n",
      "[u'B/^c/', u'B/^c/', u'g/f/']\n",
      "|: A2BA B/^c/d ef | gedB AGEF | G2BG dGBG | DEGA BAdB |\n",
      "A2BA B/^c/d ef | gedB AGEG | B3G A2GE | DEGA BAA2:|\n",
      "|: eaag a2ga | bgaf gfed | eggf g2ge | dega bgag |\n",
      "eaag a2ga | bgaf gfed | eg g/f/g edBA | dBgB BAA2 :|\n"
     ]
    },
    {
     "data": {
      "text/plain": [
       "0.5"
      ]
     },
     "execution_count": 28,
     "metadata": {},
     "output_type": "execute_result"
    }
   ],
   "source": [
    "t['abc'] = tripletToSemiQuavers(abc)\n",
    "tune = pyabc.Tune(json=t)\n",
    "tune.notes[3].duration"
   ]
  },
  {
   "cell_type": "code",
   "execution_count": null,
   "metadata": {
    "collapsed": true
   },
   "outputs": [],
   "source": [
    "abc = t['abc']\n",
    "abc2 = removeESC(abc)\n",
    "abc2"
   ]
  },
  {
   "cell_type": "code",
   "execution_count": null,
   "metadata": {
    "collapsed": true
   },
   "outputs": [],
   "source": [
    "smeas = abc.split('|')"
   ]
  },
  {
   "cell_type": "code",
   "execution_count": null,
   "metadata": {
    "collapsed": true
   },
   "outputs": [],
   "source": [
    "smeas2 = [ x for x in smeas if notesInStr(x)]\n",
    "smeas2"
   ]
  },
  {
   "cell_type": "code",
   "execution_count": 105,
   "metadata": {
    "collapsed": true
   },
   "outputs": [],
   "source": [
    "def expandRepeats(abc,maxPartLen=16):\n",
    "    '''\n",
    "    Reads in a .abc string and parses it into a list of parts, where\n",
    "    each part is a list of measures with the repeat p\n",
    "    returns the list of parts, a list with the part lengths, and \n",
    "    a string describing the patern i.e. 'AABBCC'. Note: this method \n",
    "    does not explicitly look for '||' between parts, but instead \n",
    "    '''\n",
    "    abc2 = removeESC(abc)\n",
    "    smeas = abc2.split('|')\n",
    "    smeas2 = [ x for x in smeas if notesInStr(x)]\n",
    "    \n",
    "    part_labels = {0:'A',1:'B',2:'C',3:'D',4:'E',5:'G'}\n",
    "    \n",
    "    i0=0\n",
    "    i=0\n",
    "    expmeas = []\n",
    "    parts = []\n",
    "    ipart = 0\n",
    "    \n",
    "    repeat = 0\n",
    "    measinpart = 0\n",
    "      \n",
    "    repeatedpart = []\n",
    "    ending1 = []\n",
    "    ending2 = []\n",
    "    part = []\n",
    "    parts = []\n",
    "    \n",
    "    pattern = ''\n",
    "    part_lengths = []\n",
    "    \n",
    "    while i < len(smeas2):\n",
    "        meas = smeas2[i] \n",
    "        \n",
    "        #if repeat == 0: \n",
    "        if (i-i0)==maxPartLen:\n",
    "            print 'Non-repeating part ended by reaching maxParLen.'\n",
    "            part = repeatedpart\n",
    "            parts.append(part)\n",
    "            \n",
    "            length = len(repeatedpart)\n",
    "            part_lengths.append(length)\n",
    "            \n",
    "            label = part_labels[ipart]\n",
    "            pattern = pattern + label\n",
    "            \n",
    "            i0 = i\n",
    "            repeatedpart = []; ending1 = []; ending2 = []\n",
    "            ipart = ipart + 1\n",
    "\n",
    "            meas = meas[1:]\n",
    "            i = i+1\n",
    "            repeatedpart.append(meas)\n",
    "            \n",
    "        elif i>i0 and meas[0]==':':\n",
    "            print 'Non-repeating part ended by new start of repeat.'\n",
    "            part = repeatedpart\n",
    "            parts.append(part)\n",
    "            \n",
    "            length = len(repeatedpart)\n",
    "            part_lengths.append(length)\n",
    "            \n",
    "            label = part_labels[ipart]\n",
    "            pattern = pattern + label\n",
    "            \n",
    "            i0 = i\n",
    "            repeatedpart = []; ending1 = []; ending2 = []\n",
    "            ipart = ipart + 1\n",
    "\n",
    "            meas = meas[1:]\n",
    "            i = i+1\n",
    "            repeatedpart.append(meas)\n",
    "\n",
    "        elif meas[0] == '1':\n",
    "            print 'Repeating part ended by a repeat with different endings.'\n",
    "            meas = meas[1:]\n",
    "            while meas[0] !='2':\n",
    "                if meas[-1] == ':':\n",
    "                    meas = meas[:-1]\n",
    "                ending1.append(meas)\n",
    "                i = i+1\n",
    "                meas = smeas2[i] \n",
    "            print 'ending1',ending1\n",
    "            meas = meas[1:]\n",
    "            for j in range(len(ending1)):\n",
    "                if meas[-1] == ':':\n",
    "                    meas = meas[:-1]\n",
    "                ending2.append(meas)\n",
    "                i = i+1\n",
    "                if i < len(smeas2):\n",
    "                    meas = smeas2[i]\n",
    "            print 'ending2',ending2\n",
    "\n",
    "\n",
    "            part = repeatedpart + ending1 + repeatedpart + ending2\n",
    "            parts.append(part)\n",
    "            \n",
    "            length = len(repeatedpart + ending1) * 2\n",
    "            part_lengths.append(length)\n",
    "            \n",
    "            label = part_labels[ipart]\n",
    "            pattern = pattern + label + label\n",
    "            \n",
    "            i0 = i\n",
    "            ipart = ipart+1\n",
    "            repeatedpart = []; ending1 = []; ending2 = []                \n",
    "                \n",
    "        elif meas[-1] == ':':\n",
    "            print 'Repeating part ended by a repeat with same ending.'\n",
    "            meas = meas[:-1]\n",
    "            repeatedpart.append(meas)\n",
    "            \n",
    "            part = repeatedpart + repeatedpart\n",
    "            parts.append(part)\n",
    "\n",
    "            length = len(repeatedpart) * 2\n",
    "            part_lengths.append(length)\n",
    "\n",
    "            label = part_labels[ipart]\n",
    "            pattern = pattern + label + label\n",
    "            \n",
    "            i = i+1\n",
    "            i0 = i\n",
    "            ipart = ipart+1\n",
    "            repeatedpart = []; ending1 = []; ending2 = []  \n",
    "        \n",
    "        elif i == len(smeas2)-1:\n",
    "            print 'Repeating part ended by reaching end of tune.'\n",
    "            repeatedpart.append(meas)\n",
    "            part = repeatedpart\n",
    "            parts.append(part)\n",
    "            \n",
    "            length = len(repeatedpart)\n",
    "            part_lengths.append(length)\n",
    "            \n",
    "            label = part_labels[ipart]\n",
    "            pattern = pattern + label\n",
    "            \n",
    "            i = i+1\n",
    "            i0 = i\n",
    "            ipart = ipart+1\n",
    "            repeatedpart = []; ending1 = []; ending2 = []  \n",
    "    \n",
    "             \n",
    "        else:\n",
    "            i = i+1\n",
    "            if meas[0] == ':':\n",
    "                meas = meas[1:]\n",
    "            repeatedpart.append(meas)                \n",
    "                     \n",
    "    print pattern\n",
    "    print part_lengths\n",
    "    print parts\n",
    "    \n",
    "    return parts,part_lengths,pattern\n",
    "            \n",
    "        \n",
    "    \n"
   ]
  },
  {
   "cell_type": "code",
   "execution_count": 50,
   "metadata": {},
   "outputs": [
    {
     "data": {
      "text/plain": [
       "u'|: A2BA B/^c/d ef | gedB AGEF | G2BG dGBG | DEGA BAdB |A2BA B/^c/d ef | gedB AGEG | B3G A2GE | DEGA BAA2:||: eaag a2ga | bgaf gfed | eggf g2ge | dega bgag |eaag a2ga | bgaf gfed | eg g/f/g edBA | dBgB BAA2 :|'"
      ]
     },
     "execution_count": 50,
     "metadata": {},
     "output_type": "execute_result"
    }
   ],
   "source": [
    "# simple repeating case\n",
    "t = matchJsonField(ts_tunes,'name','Sligo Maid, The')[0]\n",
    "abc = t['abc']\n",
    "abc2 = removeESC(abc)\n",
    "abc = abc2\n",
    "abc"
   ]
  },
  {
   "cell_type": "code",
   "execution_count": 49,
   "metadata": {},
   "outputs": [
    {
     "name": "stdout",
     "output_type": "stream",
     "text": [
      "Repeating part ended by a repeat with same ending.\n",
      "Repeating part ended by a repeat with same ending.\n",
      "AABB\n",
      "[16, 16]\n",
      "[[u' A2BA (3B^cd ef ', u' gedB AGEF ', u' G2BG dGBG ', u' DEGA BAdB ', u'A2BA (3B^cd ef ', u' gedB AGEG ', u' B3G A2GE ', u' DEGA BAA2', u' A2BA (3B^cd ef ', u' gedB AGEF ', u' G2BG dGBG ', u' DEGA BAdB ', u'A2BA (3B^cd ef ', u' gedB AGEG ', u' B3G A2GE ', u' DEGA BAA2'], [u' eaag a2ga ', u' bgaf gfed ', u' eggf g2ge ', u' dega bgag ', u'eaag a2ga ', u' bgaf gfed ', u' eg (3gfg edBA ', u' dBgB BAA2 ', u' eaag a2ga ', u' bgaf gfed ', u' eggf g2ge ', u' dega bgag ', u'eaag a2ga ', u' bgaf gfed ', u' eg (3gfg edBA ', u' dBgB BAA2 ']]\n"
     ]
    }
   ],
   "source": [
    "expandRepeats(abc)"
   ]
  },
  {
   "cell_type": "code",
   "execution_count": 62,
   "metadata": {},
   "outputs": [
    {
     "data": {
      "text/plain": [
       "u'|:~G3 GAB|~A3 ABd|edd gdd|edB dBA|~G3 GAB|~A3 ABd|edd gdB|1 AGF G2D:|2 AGF G2A||:~B3 dBd|ege dBG|~B3 dBG|ABA AGA|BAB dBd|ege dBd|~g3 aga|bgf g3:|'"
      ]
     },
     "execution_count": 62,
     "metadata": {},
     "output_type": "execute_result"
    }
   ],
   "source": [
    "t = matchJsonField(ts_tunes,'name','Kesh, The')[-1]\n",
    "abc = t['abc']\n",
    "abc2 = removeESC(abc)\n",
    "abc = abc2\n",
    "abc"
   ]
  },
  {
   "cell_type": "code",
   "execution_count": 63,
   "metadata": {},
   "outputs": [
    {
     "name": "stdout",
     "output_type": "stream",
     "text": [
      "Repeating part ended by a repeat with different endings.\n",
      "ending1 [u' AGF G2D']\n",
      "ending2 [u' AGF G2A']\n",
      "Repeating part ended by a repeat with same ending.\n",
      "AABB\n",
      "[16, 16]\n",
      "[[u'~G3 GAB', u'~A3 ABd', u'edd gdd', u'edB dBA', u'~G3 GAB', u'~A3 ABd', u'edd gdB', u' AGF G2D', u'~G3 GAB', u'~A3 ABd', u'edd gdd', u'edB dBA', u'~G3 GAB', u'~A3 ABd', u'edd gdB', u' AGF G2A'], [u'~B3 dBd', u'ege dBG', u'~B3 dBG', u'ABA AGA', u'BAB dBd', u'ege dBd', u'~g3 aga', u'bgf g3', u'~B3 dBd', u'ege dBG', u'~B3 dBG', u'ABA AGA', u'BAB dBd', u'ege dBd', u'~g3 aga', u'bgf g3']]\n"
     ]
    }
   ],
   "source": [
    "expandRepeats(abc)"
   ]
  },
  {
   "cell_type": "code",
   "execution_count": 76,
   "metadata": {},
   "outputs": [
    {
     "data": {
      "text/plain": [
       "u'|:A2 FA df f2|dfef dB B2| A2 FA dfef| dBAF AD D2 |A2 FA dfef|dfef dB B2| A2 FA dfef|dBAF ADD2|||:a3b afdf|afef dB B2|fb b2 bafa|b2 af fe e2|bf f2 af f2|afef dB B2|A2 FA dfef |1 dBAF ADD2 :|2 dBAF ADDB||'"
      ]
     },
     "execution_count": 76,
     "metadata": {},
     "output_type": "execute_result"
    }
   ],
   "source": [
    "# Example with different length parts\n",
    "t = matchJsonField(ts_tunes,'name',\"Sailor's Bonnet, The\")[1]\n",
    "abc = t['abc']\n",
    "abc2 = removeESC(abc)\n",
    "abc = abc2\n",
    "abc"
   ]
  },
  {
   "cell_type": "code",
   "execution_count": 81,
   "metadata": {},
   "outputs": [
    {
     "name": "stdout",
     "output_type": "stream",
     "text": [
      "Non-repeating part ended by new start of repeat.\n",
      "Repeating part ended by a repeat with different endings.\n",
      "ending1 [u' dBAF ADD2 ']\n",
      "ending2 [u' dBAF ADDB']\n",
      "ABB\n",
      "[8, 16]\n",
      "[[u'A2 FA df f2', u'dfef dB B2', u' A2 FA dfef', u' dBAF AD D2 ', u'A2 FA dfef', u'dfef dB B2', u' A2 FA dfef', u'dBAF ADD2'], [u'a3b afdf', u'afef dB B2', u'fb b2 bafa', u'b2 af fe e2', u'bf f2 af f2', u'afef dB B2', u'A2 FA dfef ', u' dBAF ADD2 ', u'a3b afdf', u'afef dB B2', u'fb b2 bafa', u'b2 af fe e2', u'bf f2 af f2', u'afef dB B2', u'A2 FA dfef ', u' dBAF ADDB']]\n"
     ]
    }
   ],
   "source": [
    "parts,lengths,pattern = expandRepeats(abc)"
   ]
  },
  {
   "cell_type": "code",
   "execution_count": 106,
   "metadata": {},
   "outputs": [
    {
     "name": "stdout",
     "output_type": "stream",
     "text": [
      "Repeating part ended by a repeat with same ending.\n",
      "Repeating part ended by reaching end of tune.\n",
      "AAB\n",
      "[16, 16]\n",
      "[[u'E3 B3', u'EBE AFD', u'EDE B3', u'dcB AFD', u'E3 B3', u'EBE AFD', u'G3 FGA', u'dAG FED', u'E3 B3', u'EBE AFD', u'EDE B3', u'dcB AFD', u'E3 B3', u'EBE AFD', u'G3 FGA', u'dAG FED'], [u'Bee fee', u'aee fee', u'Bee fee', u'a2g fed', u'Bee fee', u'aee fee', u'gfe d2A', u'BAG FGA', u'Bee fee', u'aee fee', u'Bee fee', u'faf def', u'g3 gfe', u'def g2d', u'edc d2A', u'BAG FED']]\n"
     ]
    }
   ],
   "source": [
    "# Example with different length parts\n",
    "t = matchJsonField(ts_tunes,'name',\"Morrison's\")[0]\n",
    "abc = t['abc']\n",
    "abc2 = removeESC(abc)\n",
    "abc = abc2\n",
    "abc\n",
    "parts,lengths,pattern = expandRepeats(abc)"
   ]
  },
  {
   "cell_type": "code",
   "execution_count": 107,
   "metadata": {},
   "outputs": [
    {
     "name": "stdout",
     "output_type": "stream",
     "text": [
      "E3 B3|EBE AFD|EDE B3|dcB AFD|E3 B3|EBE AFD|G3 FGA|dAG FED|\r\n",
      "E3 B3|EBE AFD|EDE B3|dcB AFD|E3 B3|EBE AFD|G3 FGA|dAG FED||\r\n",
      "Bee fee|aee fee|Bee fee|a2g fed|Bee fee|aee fee|gfe d2A|BAG FGA|Bee fee|aee fee|Bee fee|faf def|g3 gfe|def g2d|edc d2A|BAG FED||\r\n",
      "\n"
     ]
    }
   ],
   "source": [
    "def partsToABC(parts,pattern):\n",
    "    part_labels = {0:'A',1:'B',2:'C',3:'D',4:'E',5:'G'}\n",
    "    abc = ''\n",
    "    for i,part in enumerate(parts):\n",
    "        label = part_labels[i]\n",
    "        if (label+label) in pattern:\n",
    "            line1 = '|'.join(part[:(len(part)/2)]) + '|\\r\\n'\n",
    "            line2 = '|'.join(part[(len(part)/2):]) + '||\\r\\n'\n",
    "            abc = abc + line1 + line2\n",
    "        else:\n",
    "            line = '|'.join(part) + '||\\r\\n'\n",
    "            abc = abc+line\n",
    "    #print abc\n",
    "    return abc\n",
    "            \n",
    "        \n",
    "print partsToABC(parts,pattern)"
   ]
  },
  {
   "cell_type": "code",
   "execution_count": 87,
   "metadata": {
    "collapsed": true
   },
   "outputs": [],
   "source": [
    "abc = t['abc']"
   ]
  },
  {
   "cell_type": "code",
   "execution_count": 98,
   "metadata": {},
   "outputs": [
    {
     "data": {
      "text/plain": [
       "[u'|:A2 FA df f2|dfef dB B2| A2 FA dfef| dBAF AD D2 |\\r\\nA2 FA dfef|dfef dB B2| A2 FA dfef|dBAF ADD2||',\n",
       " u'\\r\\n|:a3b afdf|afef dB B2|fb b2 bafa|b2 af fe e2|\\r\\nbf f2 af f2|afef dB B2|A2 FA dfef |1 dBAF ADD2 :|2 dBAF ADDB||']"
      ]
     },
     "execution_count": 98,
     "metadata": {},
     "output_type": "execute_result"
    }
   ],
   "source": [
    "abc1 = abc.split('||')\n",
    "abc1 = [x + '||' for x in abc1 if notesInStr(x)]\n",
    "abc2 = []\n",
    "for x in abc1:\n",
    "    x1 = x1.split(':|\\r\\n')\n",
    "    x1 = [s + ':|\\r\\n']\n",
    "    abc2 +=x1"
   ]
  },
  {
   "cell_type": "code",
   "execution_count": 93,
   "metadata": {},
   "outputs": [
    {
     "data": {
      "text/plain": [
       "u'|:A2 FA df f2|dfef dB B2| A2 FA dfef| dBAF AD D2 |\\r\\nA2 FA dfef|dfef dB B2| A2 FA dfef|dBAF ADD2||\\r\\n|:a3b afdf|afef dB B2|fb b2 bafa|b2 af fe e2|\\r\\nbf f2 af f2|afef dB B2|A2 FA dfef |1 dBAF ADD2 :|2 dBAF ADDB||'"
      ]
     },
     "execution_count": 93,
     "metadata": {},
     "output_type": "execute_result"
    }
   ],
   "source": []
  },
  {
   "cell_type": "code",
   "execution_count": 108,
   "metadata": {},
   "outputs": [
    {
     "data": {
      "text/plain": [
       "{u'abc': u'|:E3 B3|EBE AFD|EDE B3|dcB AFD|\\rE3 B3|EBE AFD|G3 FGA|dAG FED:|\\rBee fee|aee fee|Bee fee|a2g fed|\\rBee fee|aee fee|gfe d2A|BAG FGA|\\rBee fee|aee fee|Bee fee|faf def|\\rg3 gfe|def g2d|edc d2A|BAG FED|',\n",
       " u'date': u'2001-05-25 03:18:09',\n",
       " u'meter': u'6/8',\n",
       " u'mode': u'Edorian',\n",
       " u'name': u\"Morrison's\",\n",
       " u'setting': u'71',\n",
       " u'tune': u'71',\n",
       " u'type': u'jig',\n",
       " u'username': u'Jeremy'}"
      ]
     },
     "execution_count": 108,
     "metadata": {},
     "output_type": "execute_result"
    }
   ],
   "source": [
    "t"
   ]
  },
  {
   "cell_type": "code",
   "execution_count": null,
   "metadata": {
    "collapsed": true
   },
   "outputs": [],
   "source": []
  }
 ],
 "metadata": {
  "anaconda-cloud": {},
  "kernelspec": {
   "display_name": "Python [Root]",
   "language": "python",
   "name": "Python [Root]"
  },
  "language_info": {
   "codemirror_mode": {
    "name": "ipython",
    "version": 2
   },
   "file_extension": ".py",
   "mimetype": "text/x-python",
   "name": "python",
   "nbconvert_exporter": "python",
   "pygments_lexer": "ipython2",
   "version": "2.7.12"
  }
 },
 "nbformat": 4,
 "nbformat_minor": 1
}
