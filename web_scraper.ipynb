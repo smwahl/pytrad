{
 "cells": [
  {
   "cell_type": "markdown",
   "metadata": {},
   "source": [
    "# Web-scraping User Profile Information\n",
    "\n",
    "This Project is using data from a community driven website for traditional Irish music\n",
    "\n",
    "https://thesession.org/\n",
    "\n",
    "in which users can submit tunes in '.abc' format.\n",
    "\n",
    "The websights designer kindly provides portions of the website database in a json format\n",
    "\n",
    "https://github.com/adactio/TheSession-data\n",
    "\n",
    "which includes:\n",
    "\n",
    "- Tune settings (submitted by users)\n",
    "- Recordings of tunes (which are cross-referenced against tune settings)\n",
    "- Aliases of tunes (traditional tunes are referred to by different names)\n",
    "- Sessions and Events (posted by users)\n",
    "\n",
    "This forms the initial basis of the of the SQL-based database defined in thesessionDB.py \n",
    "\n",
    "However the site has additional information that I am interested in using.\n",
    "\n",
    "Namely the users have the option of providing a location\n",
    "\n",
    "https://thesession.org/members/97793\n",
    "\n",
    "which we can then link to their saved tunes\n",
    "\n",
    "https://thesession.org/members/97793/tunebook\n",
    "\n",
    "And tunes for which they have submitted settings\n",
    "\n",
    "https://thesession.org/members/97793/tunes\n",
    "\n",
    "Scapeing code is located scraper.py\n",
    "\n",
    "I plan to aggregate this information and link it with the existing the existing thesessionDB."
   ]
  },
  {
   "cell_type": "code",
   "execution_count": 1,
   "metadata": {},
   "outputs": [
    {
     "name": "stdout",
     "output_type": "stream",
     "text": [
      "Testing userProfile:\n",
      "https://thesession.org/members/97793\n",
      "\n",
      "User: sheaR 97793\n",
      "\n",
      "Description:\n",
      " \n",
      "I am an anglo concertina and whistle player, living in the East Bay. I play mostly Irish tunes, but also an increasing number of Scottish ones along the occasional Breton/Swedish/French Canadian etc.\n",
      "\n",
      "\n",
      "Location:\n",
      " [37.86214828, -122.26237488]\n",
      "Berkeley\n",
      "Alameda County\n",
      "Berkeley\n",
      "California\n",
      "\n",
      "Testing userProfile:\n",
      "https://thesession.org/members/97793/tunebook?page=1\n",
      "https://thesession.org/members/97793/tunebook?page=2\n",
      "https://thesession.org/members/97793/tunebook?page=3\n",
      "https://thesession.org/members/97793/tunes?page=1\n",
      "\n",
      "User's settings:\n",
      "[31140, 31139, 29285, 28952, 28336, 25784]\n",
      "\n",
      "User's tunes:\n",
      "[    1     2     5     8     9    10    12    15    16    17    19    20\n",
      "    21    23    24    26    27    28    29    30    33    34    35    36\n",
      "    39    42    43    44    49    52    53    54    55    56    62    63\n",
      "    64    67    69    70    71    73    74    75    76    83    84    86\n",
      "    88    92    93    98   103   104   105   106   107   108   111   113\n",
      "   116   118   136   138   147   166   170   182   184   185   187   191\n",
      "   197   208   210   211   221   227   236   238   239   240   248   250\n",
      "   271   283   298   307   332   335   345   346   351   357   368   384\n",
      "   399   401   410   418   423   430   432   441   444   448   449   454\n",
      "   462   474   475   478   481   482   511   513   531   532   544   553\n",
      "   562   566   589   593   596   638   640   660   669   696   703   705\n",
      "   717   718   727   736   750   753   786   787   790   816   829   840\n",
      "   864   875   878   880   906   921   948   980   989  1001  1016  1030\n",
      "  1104  1113  1133  1155  1163  1190  1237  1249  1251  1260  1264  1268\n",
      "  1275  1292  1304  1308  1316  1330  1335  1359  1376  1398  1428  1462\n",
      "  1468  1497  1499  1543  1554  1555  1625  1637  1640  1714  1746  1819\n",
      "  1921  1996  2170  2204  2221  2224  2236  2337  2410  2465  2510  2520\n",
      "  2526  2613  2618  2695  2839  2878  2944  2996  3091  3110  3363  3659\n",
      "  3842  4176  4305  4320  4370  4403  4508  4556  4751  4997  5151  5182\n",
      "  5252  5270  5422  5758  5976  6124  6170  6224  6782  6839  6840  6999\n",
      "  7035  7936  8085  8180  8366  8488  8492  8541  8755  9435  9537 10313\n",
      " 10447 10488 10733 10806 10935 11193 12234 12579 12613 12634 12951 13090\n",
      " 13158 13389 13802 13859 13880 14498 14725 14734 15232 15463 15653 15655\n",
      " 16436]\n"
     ]
    }
   ],
   "source": [
    "from __future__ import absolute_import, division, print_function\n",
    "\n",
    "# scraper.py\n",
    "from scraper import userProfile, userTunes\n",
    "\n",
    "\n",
    "print('Testing userProfile:')\n",
    "up = userProfile(97793)\n",
    "\n",
    "print('\\nUser:',up.userName,up.user_id)\n",
    "\n",
    "print('\\nDescription:\\n',up.description)\n",
    "\n",
    "print('\\nLocation:\\n',up.location)\n",
    "print(up.locationInfo['city'])\n",
    "print(up.locationInfo['county'])\n",
    "print(up.locationInfo['city'])\n",
    "print(up.locationInfo['state'])\n",
    "\n",
    "print('\\nTesting userProfile:')\n",
    "utb = userTunes(97793)\n",
    "\n",
    "print('\\nUser\\'s settings:')\n",
    "print(utb.settings)\n",
    "\n",
    "print('\\nUser\\'s tunes:')\n",
    "print(utb.tunes)\n"
   ]
  },
  {
   "cell_type": "markdown",
   "metadata": {},
   "source": [
    "# Proposed goals for location information\n",
    "Here are a number of possibilities to use this kind of information.\n",
    "\n",
    "- Distribution of particular tunes\n",
    "\n",
    "- Variation in popularity of tune types\n",
    "\n",
    "- Quantifying how 'traditional' a region's repetoires is (i.e. compare to O'neills or likewise).\n",
    "\n",
    "- Looking for similarities / influences between locations repertoires.\n",
    "\n",
    "- Generating a list of tunes to try if you are attening a session in a new location (cross-referenced with a user's tunebook).\n",
    "\n",
    "- Regional connectedness could be included as a feature for a ML-based "
   ]
  },
  {
   "cell_type": "markdown",
   "metadata": {},
   "source": [
    "# Tune comment information\n",
    "\n",
    "The site has another source of information of tunes which is not included in the database provided by Jeremy. Namely the user comments on tune pages include a wealth of more specific information. There would be a variety of interesting task to approach with natural language processing including.\n",
    "\n",
    "- Origin of tunes (this could be more specific than the previous suggestion using User locations.)\n",
    "- Connnection to musicians (particularly those pre-dating modern recordings)\n",
    "- Identifying traditional versus modern tunes\n",
    "- Instrument-specific repertoires (i.e. piping tunes)\n",
    "- More abstract traits of the tune itself? (i.e. tempo, feel)\n",
    "- Related tunes via references to other tune pages (need to be cautious as people suggest tunes in this way)"
   ]
  },
  {
   "cell_type": "code",
   "execution_count": 2,
   "metadata": {},
   "outputs": [
    {
     "name": "stdout",
     "output_type": "stream",
     "text": [
      "Downloading tune comment data from https://thesession.org/tunes/27?format=json...\n"
     ]
    }
   ],
   "source": [
    "# I just remembered that there is a json-based api...this is easier than what I did with\n",
    "# the user information, although it may not have included location\n",
    "\n",
    "# this might also provide an easier means of finding all of the settings for a given tune\n",
    "\n",
    "src = 'https://thesession.org/tunes/27?format=json'\n",
    "\n",
    "import urllib, json\n",
    "\n",
    "tid  = 27\n",
    "url = 'https://thesession.org/tunes/'+str(tid)+'?format=json'\n",
    "print(\"Downloading tune comment data from %s...\" % url)\n",
    "response = urllib.urlopen(url)\n",
    "data = json.loads(response.read())\n",
    "\n"
   ]
  },
  {
   "cell_type": "code",
   "execution_count": 3,
   "metadata": {},
   "outputs": [
    {
     "data": {
      "text/plain": [
       "[u'name',\n",
       " u'format',\n",
       " u'url',\n",
       " u'settings',\n",
       " u'comments',\n",
       " u'member',\n",
       " u'recordings',\n",
       " u'date',\n",
       " u'tunebooks',\n",
       " u'type',\n",
       " u'id',\n",
       " u'aliases']"
      ]
     },
     "execution_count": 3,
     "metadata": {},
     "output_type": "execute_result"
    }
   ],
   "source": [
    "data.keys()"
   ]
  },
  {
   "cell_type": "code",
   "execution_count": 4,
   "metadata": {},
   "outputs": [
    {
     "data": {
      "text/plain": [
       "[u'username',\n",
       " u'abc',\n",
       " u'name',\n",
       " u'meter',\n",
       " u'setting',\n",
       " u'mode',\n",
       " u'date',\n",
       " u'type',\n",
       " u'tune']"
      ]
     },
     "execution_count": 4,
     "metadata": {},
     "output_type": "execute_result"
    }
   ],
   "source": [
    "# compare this to the dumped information\n",
    "tuneDB = json.loads(open('json/tunes.json', 'rb').read().decode('utf8'))\n",
    "tuneDB[-1].keys()\n",
    "\n",
    "# New information is 'comments','recordings','tunebooks',\n",
    "# does not include the played with information (would have to scrape that)"
   ]
  },
  {
   "cell_type": "code",
   "execution_count": 5,
   "metadata": {},
   "outputs": [
    {
     "name": "stdout",
     "output_type": "stream",
     "text": [
      "161\n",
      "5168\n"
     ]
    }
   ],
   "source": [
    "# This is only summed data, but could used as a generic popularity feature\n",
    "print(data['recordings'])\n",
    "print(data['tunebooks'])"
   ]
  },
  {
   "cell_type": "code",
   "execution_count": 6,
   "metadata": {},
   "outputs": [
    {
     "name": "stdout",
     "output_type": "stream",
     "text": [
      "[{u'member': {u'url': u'https://thesession.org/members/1', u'id': 1, u'name': u'Jeremy'}, u'url': u'https://thesession.org/tunes/27#comment26', u'content': u'Don&#039;t let the title fool you; there&#039;s nothing drowsy about this tune. It&#039;s usually played at a very fast pace.    The melody itself is quite straightforward with plenty of those pipe-like jumps back to the E note. These jumps can be a bit tricky at first, especially on stringed instruments like the fiddle and banjo. The best solution is to have both the E and B notes permanently fingered for the first few bars.    When this tune gets up to breakneck speed, it might be a good idea to play less notes and lengthen them.', u'date': u'2001-06-01 05:42:29', u'id': 26, u'subject': u''}, {u'member': {u'url': u'https://thesession.org/members/291', u'id': 291, u'name': u'Munsondr'}, u'url': u'https://thesession.org/tunes/27#comment2645', u'content': u'I agree with Jeremy that there&#039;s absolutely nothing &quot;sleepy&quot; baout this tune when played at session speed...or, for that matter, when accompanying dancers shakin&#039; their trotters in a reel.  But, slowed down a wee bit, the tune works marvelously as a compliment to several SONGS in the same key.  For example, my band (gee, that sounds so possessive!) currently uses &quot;Maggie&quot; as the intro, middle and ending to &quot;Whup, Jamboree,&quot; a trad nautical number.  ', u'date': u'2001-11-15 19:04:56', u'id': 2645, u'subject': u'Drowsie Maggie'}, {u'member': {u'url': u'https://thesession.org/members/334', u'id': 334, u'name': u'GoldenKeyboard'}, u'url': u'https://thesession.org/tunes/27#comment2647', u'content': u'Just for info sake, (&amp; not to burst anybody&#039;s bubble), this is not actually the version Altan play on their recordings.  They play the Donegal version (surprise surprise) which is significantly different than this more session type version.  ', u'date': u'2001-11-15 19:21:57', u'id': 2647, u'subject': u'Versions of Drowsey Maggie'}, {u'member': {u'url': u'https://thesession.org/members/1305', u'id': 1305, u'name': u'glauber'}, u'url': u'https://thesession.org/tunes/27#comment11756', u'content': u'I&#039;m listening to Matt Molloy&#039;s slow (!!!) and incredibly beautiful interpretation of Drowsie Maggie in the &quot;Flute Obsession&quot; CD (taken from &quot;Heathery Breeze&quot;, i think). Just incredible!', u'date': u'2002-08-26 03:06:27', u'id': 11756, u'subject': u'Wooden Flute Obsession'}, {u'member': {u'url': u'https://thesession.org/members/4035', u'id': 4035, u'name': u'farquharson whistler'}, u'url': u'https://thesession.org/tunes/27#comment19437', u'content': u'What tunes do you all play with Drowsy Maggie? Looking for a couple of SIMPLER tunes I can master (D flute or high D whistle sith guitar accompaniment) for a benefit hooley in a week and a half. I just don&#039;t have the time to learn anthing too tricky between now and then:) Please respond with any easier to play tunes (no trickier than Drowsy Maggie please) that I could play to lead into Drowsy Maggie and then one after to finish a short reel set. It would be especially helpful if you knew the tunes to be posted here previously in sheetmusic form...even more helpful yet if you knew the guitar chords for my accompaniment!  thanks  fw', u'date': u'2003-01-08 01:14:02', u'id': 19437, u'subject': u'HELP!!! Need Simpler Tunes to Play with Drowsy Maggie'}, {u'member': {u'url': u'https://thesession.org/members/2918', u'id': 2918, u'name': u'Geoff Pollitt'}, u'url': u'https://thesession.org/tunes/27#comment19439', u'content': u'I used to play The Ash Plant, followed by Drowsy Maggie and  finished with Jenny&#039;s Chickens.  Now I think of it it was a really good set of reels and should be revived.   Credit for this set goes to a band called East of Eden who got high in the charts with this same set (in a different order I think) in the UK in 1969.  For some bizarre reason they called it &quot;Jig a Jig&quot;.  Don&#039;t ask.    You are on your own  with the chords!    Good luck with the Hooley', u'date': u'2003-01-08 02:13:34', u'id': 19439, u'subject': u'Re: HELP!!! Need Simpler Tunes to Play with Drowsy Maggie'}, {u'member': {u'url': u'https://thesession.org/members/2466', u'id': 2466, u'name': u'Bannerman'}, u'url': u'https://thesession.org/tunes/27#comment19444', u'content': u'At our session we always follow Drowsie Maggie with the Glass of Beer and Toss the Feathers in E minor; sometimes we&#039;ll continue with the D version of Toss the Feathers if the session is going really well.  I&#039;ll check if these have already been posted and will submit them if not.', u'date': u'2003-01-08 03:09:33', u'id': 19444, u'subject': u'Re: HELP!!! Need Simpler Tunes to Play with Drowsy Maggie'}, {u'member': {u'url': u'https://thesession.org/members/4988', u'id': 4988, u'name': u'Greenwiggle'}, u'url': u'https://thesession.org/tunes/27#comment19451', u'content': u'Try the Keel Row (D) Drowsie Maggie (Em) Sally Gardens (G). They are all fairly simple reels and if not available on this site (sorry I&#039;m at work and don&#039;t have time to check before the boss is back) type in the names (with reel) into google and you should be able to find them, or try typing tunedb.  :o)', u'date': u'2003-01-08 03:46:46', u'id': 19451, u'subject': u'How Simple?'}, {u'member': {u'url': u'https://thesession.org/members/3884', u'id': 3884, u'name': u'Andee'}, u'url': u'https://thesession.org/tunes/27#comment19457', u'content': u'I like to play Glass of Beer/ Humours of Tulla/ Drowsy Maggie as a set.', u'date': u'2003-01-08 05:13:15', u'id': 19457, u'subject': u'Re: HELP!!! Need Simpler Tunes to Play with Drowsy Maggie'}, {u'member': {u'url': u'https://thesession.org/members/3150', u'id': 3150, u'name': u'slainte'}, u'url': u'https://thesession.org/tunes/27#comment19461', u'content': u'My version of Rolling in the Barrel [http://thesession.org/tunes/display.php/500] (see the comment), and then Killarney Boys of Pleasure [http://thesession.org/tunes/display.php/733]  They are really easy to learn and play on the flute and whistle. But Ashplant and Glass of Beer are also simple and nice tunes to follow Drowsy Maggie. ', u'date': u'2003-01-08 05:28:51', u'id': 19461, u'subject': u'Re: HELP!!! Need Simpler Tunes to Play with Drowsy Maggie'}, {u'member': {u'url': u'https://thesession.org/members/4630', u'id': 4630, u'name': u'fiddlefeet'}, u'url': u'https://thesession.org/tunes/27#comment19485', u'content': u'we play Silver Spear, Merry Blacksmith and then Drowsie Maggie  They&#039;re both really simple easy to play tunes.  happy hooley :)', u'date': u'2003-01-08 11:29:00', u'id': 19485, u'subject': u'Re: HELP!!! Need Simpler Tunes to Play with Drowsy Maggie'}, {u'member': {u'url': u'https://thesession.org/members/2811', u'id': 2811, u'name': u'Celtic1234'}, u'url': u'https://thesession.org/tunes/27#comment19830', u'content': u'On the new Patrick Street album &quot;streetlife&quot; there is a set of : the old reel/ drowsy maggie/ Kay Girror. This might be of no help but i thought it may be useful.', u'date': u'2003-01-11 13:30:41', u'id': 19830, u'subject': u'Re: HELP!!! Need Simpler Tunes to Play with Drowsy Maggie'}, {u'member': {u'url': u'https://thesession.org/members/4035', u'id': 4035, u'name': u'farquharson whistler'}, u'url': u'https://thesession.org/tunes/27#comment19836', u'content': u'Thanks everyone. Lots of great help!  FW  ', u'date': u'2003-01-11 17:30:35', u'id': 19836, u'subject': u'Re: HELP!!! Need Simpler Tunes to Play with Drowsy Maggie'}, {u'member': {u'url': u'https://thesession.org/members/6225', u'id': 6225, u'name': u'Jamie'}, u'url': u'https://thesession.org/tunes/27#comment30078', u'content': u'K:Edor  E2 GE BEGE|(3EEE GE BEGE|D2 FD ADFD|(3DDD FD ADFD|  E2 GE BEGE|(3EEE GE BEGE|G2 EF GABc|1dBAF E2 A,C:|2dBAF E2 Bc||  d2 fd c2 ec|d2 fd c2 Bc|d2 fd c2 ec|BABc dAFA|  d2 fd c2 ec|d2 fd c2 Bc|d2 fd c2 ec|Bdce dAFA:|    Jackie Daly and Kevin Burke play this smooth version of Drowsy on the &quot;Street Life&quot; album after &quot;the old reel&quot;.  They follow it with a great Bmin tune called &quot;Kay Girroir&quot;.', u'date': u'2003-05-27 14:55:51', u'id': 30078, u'subject': u'Drowsy Maggie Street as on Patrick Street - Street life'}, {u'member': {u'url': u'https://thesession.org/members/6225', u'id': 6225, u'name': u'Jamie'}, u'url': u'https://thesession.org/tunes/27#comment30082', u'content': u'The first time bar should read:  1dBAF E2 B,D not 1dBAF E2 A,C', u'date': u'2003-05-27 15:51:45', u'id': 30082, u'subject': u'Revision of patrick street version'}, {u'member': {u'url': u'https://thesession.org/members/8843', u'id': 8843, u'name': u'uilleannpiper'}, u'url': u'https://thesession.org/tunes/27#comment50219', u'content': u'I have a question. Are Drowsy Maggie and Sleepy Maggie the same tune?', u'date': u'2003-12-28 04:47:31', u'id': 50219, u'subject': u'Drowsy or sleepy?'}, {u'member': {u'url': u'https://thesession.org/members/8292', u'id': 8292, u'name': u'JHowley'}, u'url': u'https://thesession.org/tunes/27#comment54985', u'content': u'I&#039;ll post the .abc to the Donegal version one of these days when I have it in front of me, I promise. It&#039;s got lots of lovely G-sharps (it IS donegal, after all).    James Keane plays a Clare version with a COMPLETELY different B part that I&#039;m very curious about. Anyone know what I&#039;m talking about? He uses it to kick off a massive set on the &quot;Gaelic Roots&quot; double-CD compilation of the Boston College concert series (Kells Music, 1997); the set includes such multi-part monsters as &quot;Farewell to Erin&quot; and &quot;The Foxhunter&quot;.', u'date': u'2004-01-27 19:54:01', u'id': 54985, u'subject': u'County Versions'}, {u'member': {u'url': u'https://thesession.org/members/3080', u'id': 3080, u'name': u'gian marco'}, u'url': u'https://thesession.org/tunes/27#comment55044', u'content': u'Drowsy Maggie and Sleepy Maggie are not the same tune.    ', u'date': u'2004-01-28 02:15:26', u'id': 55044, u'subject': u''}, {u'member': {u'url': u'https://thesession.org/members/6304', u'id': 6304, u'name': u'rog'}, u'url': u'https://thesession.org/tunes/27#comment56574', u'content': u'...which means that it&#039;s a bit confusing when this recording:  http://www.thesession.org/recordings/display.php/242  references Sleepy Maggie, and it&#039;s actually the B minor tune, reminsicent of Jenny&#039;s Chickens, that&#039;s on the album. Actually I learnt Sleepy Maggie before both Jenny&#039;s Chickens and Drowsy Maggie, and I still play it, even though everyone hears the first few bars, assumes &quot;Jenny&#039;s Chickens&quot; and dives on in there, and so it goes... ', u'date': u'2004-02-05 21:22:31', u'id': 56574, u'subject': u''}, {u'member': {u'url': u'https://thesession.org/members/5512', u'id': 5512, u'name': u'P\\xe1draig'}, u'url': u'https://thesession.org/tunes/27#comment60452', u'content': u'Wouls be e&#039;er so kind as to post the Donegal version?    T&#039;anks loads.    -P', u'date': u'2004-03-02 17:53:56', u'id': 60452, u'subject': u'Re: County Versions...'}, {u'member': {u'url': u'https://thesession.org/members/3150', u'id': 3150, u'name': u'slainte'}, u'url': u'https://thesession.org/tunes/27#comment60528', u'content': u'Padraig, I can&#039;t transcribe it, but here is the link to the great collection of Donegal music: http://misaok.hp.infoseek.co.jp/fmod/d_sakuin/do_saku.html  You&#039;ll find what you are looking for.     I think the Clare setting of the tune JHowley mentioned is Reel with the Birl: http://thesession.org/tunes/display.php/189    H.', u'date': u'2004-03-03 00:32:24', u'id': 60528, u'subject': u''}, {u'member': {u'url': u'https://thesession.org/members/4809', u'id': 4809, u'name': u'Winnowill'}, u'url': u'https://thesession.org/tunes/27#comment65462', u'content': u' Rawlin&#039;s Cross also plays this piece on their Instramental Album, followed by the Gravel Walks and the Blind Beggerman.', u'date': u'2004-04-11 23:21:39', u'id': 65462, u'subject': u''}, {u'member': {u'url': u'https://thesession.org/members/3150', u'id': 3150, u'name': u'slainte'}, u'url': u'https://thesession.org/tunes/27#comment78033', u'content': u'I still remember when I played this popular tune in the real session for the first time, people had the different second part like this:     d2fd c2ec|defg faaf|d2fd c2ec|BABc dAFA|  d2fd c2ec|defg faaf|bgaf gefd|BABc dAFD||    I think it&#039;s not only me that had the same problem. Definitely, beginners should learn and be ready to play both in a new place. Which one do you normally play? ', u'date': u'2004-06-18 23:43:54', u'id': 78033, u'subject': u'Another Authoritative Setting'}, {u'member': {u'url': u'https://thesession.org/members/9968', u'id': 9968, u'name': u'Phantom Button'}, u'url': u'https://thesession.org/tunes/27#comment78049', u'content': u'Here&#039;s how we learned it and played it years ago with a third part allegedly made up by Joe Cooly.    K:Edor  |:E2BE dEBE|E2BE AFDF|E2BE dEBE|1BABc dAFD:|2BABc dAFA||  K:D  d2fd B/c/d ec|defg afge|d2fd B/c/d ec|BABc dAFA|  d2fd B/c/d ec|defg afge|afge fdec|BABc dAFA||  dBfB dBfB|cAeA fAeA|dBfB dBfB|fef^g aecA|  dBfB dBfB|cAeA fAeA|defd B/c/d ec|BABc dAFD||', u'date': u'2004-06-19 00:33:38', u'id': 78049, u'subject': u'Drowsy Maggie with three parts'}, {u'member': {u'url': u'https://thesession.org/members/8045', u'id': 8045, u'name': u'Max Becher'}, u'url': u'https://thesession.org/tunes/27#comment78051', u'content': u'I didn&#039;t know this tune had a third part.  Cool!  It really fits with the rest of the tune, I think.    -Max', u'date': u'2004-06-19 00:42:34', u'id': 78051, u'subject': u'3?'}, {u'member': {u'url': u'https://thesession.org/members/11611', u'id': 11611, u'name': u'celticmegs'}, u'url': u'https://thesession.org/tunes/27#comment86762', u'content': u'THis is a wicked set that Pierre Schreyer does. He has some wicked variations. He plays drowsy maggie with the same fingerings but starting on a string lower. then he plays it starting on the d string. if you want the music for some of the other variations contact me at celticmeg@hotmail.com  ', u'date': u'2004-08-12 20:48:41', u'id': 86762, u'subject': u'Pierre Schryer version of drowsey maggie sleepy maggie'}, {u'member': {u'url': u'https://thesession.org/members/6686', u'id': 6686, u'name': u'GenghisKilt'}, u'url': u'https://thesession.org/tunes/27#comment87339', u'content': u'Folks, my understanding is Sleepy/Drowsy Maggie is actually a four parter. Anyone have the other parts? I think I can find &#039;em, anyone interested? I&#039;ll need help authenticating expertly, of course.   ', u'date': u'2004-08-17 12:15:08', u'id': 87339, u'subject': u'More maggie!!'}, {u'member': {u'url': u'https://thesession.org/members/7417', u'id': 7417, u'name': u'dlowder'}, u'url': u'https://thesession.org/tunes/27#comment89986', u'content': u'E2Bd cABE|E2BG FADF|E2Bd cABc|1 dfec dAFD:|2 dfec dAFA|  d2fe dcBd|(3cBA ed ceAc|defe dcBc|def^g aecA|  defe dcBd|(3cBA eA ceAg|fdec dcBa|^gbeg aecA||  ', u'date': u'2004-09-02 15:30:19', u'id': 89986, u'subject': u'Altan&#039;s version of Drowsy Maggie'}, {u'member': {u'url': u'https://thesession.org/members/9968', u'id': 9968, u'name': u'Phantom Button'}, u'url': u'https://thesession.org/tunes/27#comment90023', u'content': u'Altan recorded Con Cassidy&#039;s version of DM.', u'date': u'2004-09-02 22:10:13', u'id': 90023, u'subject': u'Con Cassidy&#039;s'}, {u'member': {u'url': u'https://thesession.org/members/15530', u'id': 15530, u'name': u'banana512'}, u'url': u'https://thesession.org/tunes/27#comment116720', u'content': u'this piece sounds very similar to a morris tune I play called ockington stick dance', u'date': u'2005-01-13 14:28:15', u'id': 116720, u'subject': u'Ockington stick dance'}, {u'member': {u'url': u'https://thesession.org/members/4763', u'id': 4763, u'name': u'Dr. Dow'}, u'url': u'https://thesession.org/tunes/27#comment137718', u'content': u'Can&#039;t believe Jack only knows 3 parts for this tune. It&#039;s time for him to learn the other part, I think:    X: 1  T: Drowsy Maggie  M: 4/4  L: 1/8  R: reel  K: Edor  |:E2BE dEBE|E2BE AFDF|E2BE dEBE|1 BABc dAFD:|2 BABc dAFA||  K: Dmaj  |:d2fd cdec|defg afge|1 d2fd c2ec|BABc dAFA:|2 afge fdec|BABc dAFA||  K: Bdor (watch G#)  |:dBfB dBfB|cAeA cAeA|1 dBfB dBfB|defg aece:|2 defg aecA|BABc dAFA||  |:dffe dfBf|ceed ceAe|1 dffe defg|a2ag aece:|2 af=ge fdec|BABc dAFD||', u'date': u'2005-04-26 23:33:20', u'id': 137718, u'subject': u'Drowsy Maggie with four parts'}, {u'member': {u'url': u'https://thesession.org/members/9968', u'id': 9968, u'name': u'Phantom Button'}, u'url': u'https://thesession.org/tunes/27#comment137730', u'content': u'Dow... you can&#039;t just go around willy-nilly making up extra parts for tunes just so you can make shmart arsed quips.', u'date': u'2005-04-27 01:56:49', u'id': 137730, u'subject': u''}, {u'member': {u'url': u'https://thesession.org/members/4763', u'id': 4763, u'name': u'Dr. Dow'}, u'url': u'https://thesession.org/tunes/27#comment137763', u'content': u'I&#039;ve had to adapt the Donegal setting a bit for my instrument - here&#039;s my take on it:    X: 1  T: Drowsy Maggie (Donegal Setting)  M: 4/4  L: 1/8  R: reel  K: Edor  ~E3d cABE|~E2BE FADF|~E3d cABc|1 dfec dAFD:|2 dfec dAFA||  defe dcBd|(3cBA eA ceAc|defe dcBc|def^g aecA|  defe dcBd|(3cBA eA ceAe|faec dcBa|^gbeg aecA||', u'date': u'2005-04-27 05:24:03', u'id': 137763, u'subject': u'Drowsy Maggie Donegal setting'}, {u'member': {u'url': u'https://thesession.org/members/4763', u'id': 4763, u'name': u'Dr. Dow'}, u'url': u'https://thesession.org/tunes/27#comment137774', u'content': u'You&#039;re just jealous of my sophisticated Drowsy Maggie settings, Jack.', u'date': u'2005-04-27 06:55:35', u'id': 137774, u'subject': u''}, {u'member': {u'url': u'https://thesession.org/members/9968', u'id': 9968, u'name': u'Phantom Button'}, u'url': u'https://thesession.org/tunes/27#comment137883', u'content': u'X: 1  T: Drowsy Maggie (Donegal Setting)  S: Brid Harper &amp; Dermot Byrne  Z: Jack Gilder  M: 4/4  L: 1/8  R: reel  K: Edor  ~E2Bd cABE|~E2BE FADF|~E2Bd cABc| dfec dBAF:||  d2fe dcBd|c/B/A eA ceAc|defe dcBc|def^g aece|  dafe dcBA|B/c/d ef gecg|f/g/aec dcBa|^gbeg aecA||', u'date': u'2005-04-27 16:59:07', u'id': 137883, u'subject': u'Here&#039;s the setting I&#039;ve been playing for that'}, {u'member': {u'url': u'https://thesession.org/members/19253', u'id': 19253, u'name': u'cookrj'}, u'url': u'https://thesession.org/tunes/27#comment152199', u'content': u'2nd to last bar a bit dodgy it sound better dropping down to an A every other note and a bit  short!', u'date': u'2005-07-14 10:35:55', u'id': 152199, u'subject': u'Drowsy Maggie'}, {u'member': {u'url': u'https://thesession.org/members/19206', u'id': 19206, u'name': u'gretchen'}, u'url': u'https://thesession.org/tunes/27#comment201906', u'content': u'Since Drowsie Maggie has kept popping up here lately I decided to try and learn it myself. I play anglo concertina and I began playing just under a year ago and it just so happens that I&#039;ve never yet learned a tune with that G# in it. The first two parts are nice and easy... but that third part is murder! Any suggestions from other concertina players out there? Also, when there&#039;s a run that calls for a B and a C# one after the other (or a similar combo where the buttons are located right on top of each other) what do you all tend to do? It&#039;s a little akward sometimes but I usually keep that fingering so I can do the whole thing on the pull.... it is better to look for an alternate fingering and switch the bellows direction?  Thanks so much for any help!', u'date': u'2006-03-20 00:45:10', u'id': 201906, u'subject': u'Drowsy Maggie (again!).. concertina question this time'}, {u'member': {u'url': u'https://thesession.org/members/13886', u'id': 13886, u'name': u'bobgreen'}, u'url': u'https://thesession.org/tunes/27#comment206552', u'content': u'I love the rollicking fun of the first four bars of Drowsy Maggie, playing it on my fiddle with a dotted rhythm. I love it so much that I don&#039;t want to quit!  Instead, I expand it out as follows:    &quot;Em&quot;E2BE E2BE| E2BE &quot;D&quot;AFDF| &quot;Em&quot;E2BE B2Bc| dedB &quot;D&quot;AFDF||  &quot;Em&quot;EEBE dEBE| EEBE &quot;D&quot;AFDF| &quot;Em&quot;EEBE dEBE| dedB &quot;D&quot;AFDF||  &quot;Em&quot;EEB,D EB&quot;D&quot;AF | &quot;Em&quot;GABe &quot;D&quot;dBAF | &quot;Em&quot;EEB,D EB&quot;D&quot;AF | &quot;Em&quot;GAGF EDB,D ||  EEB,D EB&quot;D&quot;AF | &quot;Em&quot;GABe &quot;D&quot;dBAF | &quot;Em&quot;EEB,D EB&quot;D&quot;AF | &quot;Em&quot;GAGF EDB,G, ||  &quot;Am&quot;A,2EA, A,2EA,| A,2EA, &quot;G&quot;DB,G,B,| &quot;Am&quot;A,2EA, E2EF| GAGE &quot;G&quot;DB,G,B,||  &quot;Am&quot;A,A,EA, GA,EA,| A,A,EA, &quot;G&quot;DB,G,B,| &quot;Am&quot;A,A,EA, GA,EA,| DEDB, &quot;G&quot;DB,G,B,||  &quot;Am&quot;A,A,=CE AGE=C | A,A,=CE AGE=C | A,A,=CE ABAE | =cd=cA &quot;Em&quot;EDCB, ||   &quot;Am&quot;A,A,=CE AGE=C | A,A,=CE AGE=C | A,A,=CE AB=cd | ed=ce &quot;Em&quot;BAGF ||  ', u'date': u'2006-04-26 06:29:45', u'id': 206552, u'subject': u'Drowsy Maggie: expanding the fun of the opening four bars'}, {u'member': {u'url': u'https://thesession.org/members/13886', u'id': 13886, u'name': u'bobgreen'}, u'url': u'https://thesession.org/tunes/27#comment206554', u'content': u'The ABC headings for the above are:    X: 1  T:Drowsy Maggie Intro  M:C|  L:1/8  C:Irish Trad.  R:reel  P:E Dorian  Z:Transcribed to abc by Robert Green  K:Edor  ', u'date': u'2006-04-26 06:38:10', u'id': 206554, u'subject': u'Drowsy Maggie: expanding the fun....   ABC Headings'}, {u'member': {u'url': u'https://thesession.org/members/3150', u'id': 3150, u'name': u'slainte'}, u'url': u'https://thesession.org/tunes/27#comment206591', u'content': u'The Reel with the Birl: http://www.thesession.org/tunes/display/189  The Tap Room: http://www.thesession.org/tunes/display/711  Handsome Sally: http://www.thesession.org/tunes/display/2215    There are some others. ', u'date': u'2006-04-26 11:14:00', u'id': 206591, u'subject': u'Maggie&#039;s Sisters'}, {u'member': {u'url': u'https://thesession.org/members/28383', u'id': 28383, u'name': u'fiddlertracy'}, u'url': u'https://thesession.org/tunes/27#comment226713', u'content': u'I like adding a slide to the first &quot;e&quot; note', u'date': u'2006-08-27 16:40:05', u'id': 226713, u'subject': u'Slide'}, {u'member': {u'url': u'https://thesession.org/members/30101', u'id': 30101, u'name': u'N.P.'}, u'url': u'https://thesession.org/tunes/27#comment235584', u'content': u'Does any one know what to play with drowsey maggie in a donegall irish style?', u'date': u'2006-10-25 08:10:26', u'id': 235584, u'subject': u'Drowsey maggie + ?'}, {u'member': {u'url': u'https://thesession.org/members/16692', u'id': 16692, u'name': u'ecidralla'}, u'url': u'https://thesession.org/tunes/27#comment235585', u'content': u'Star of Munster', u'date': u'2006-10-25 08:12:13', u'id': 235585, u'subject': u'Re: Drowsey maggie + ?'}, {u'member': {u'url': u'https://thesession.org/members/726', u'id': 726, u'name': u'Kenny'}, u'url': u'https://thesession.org/tunes/27#comment235587', u'content': u'http://www.thesession.org/recordings/display.php/7    See track 7. That&#039;s certainly Donegal for you.  What you could do is go to &quot;Drowsy Maggie&quot;, in the tunes section,and look at the recordings it&#039;s listed as appearing on. Click on the recording and you can find out what it&#039;s been paired up with on any particular recording. Better still, use your imagination, and create your own sets. Good luck.', u'date': u'2006-10-25 08:21:03', u'id': 235587, u'subject': u'One option...........'}, {u'member': {u'url': u'https://thesession.org/members/39445', u'id': 39445, u'name': u'Kathryn123'}, u'url': u'https://thesession.org/tunes/27#comment311008', u'content': u'hey ive been playing violin for four years any tips???', u'date': u'2007-09-08 12:21:38', u'id': 311008, u'subject': u'Violin'}, {u'member': {u'url': u'https://thesession.org/members/39445', u'id': 39445, u'name': u'Kathryn123'}, u'url': u'https://thesession.org/tunes/27#comment311009', u'content': u'i really like the tune drowsy maggie but it is quite a hard tune. when i learnt it my violin played it and it sounded great but im not that good and doesnt sound right when I play it!!!', u'date': u'2007-09-08 12:23:47', u'id': 311009, u'subject': u'Let me think'}, {u'member': {u'url': u'https://thesession.org/members/103806', u'id': 103806, u'name': u'irishfiddleCT'}, u'url': u'https://thesession.org/tunes/27#comment314031', u'content': u'Classic!! Love it', u'date': u'2007-09-20 11:11:41', u'id': 314031, u'subject': u'Drowsy Maggie'}, {u'member': {u'url': u'https://thesession.org/members/39218', u'id': 39218, u'name': u'mehitabel23'}, u'url': u'https://thesession.org/tunes/27#comment314374', u'content': u'I had a dream once that I wrote this tune and that I got payed royalties every time it was played at a session.    It was a good dream.', u'date': u'2007-09-21 11:10:07', u'id': 314374, u'subject': u''}, {u'member': {u'url': u'https://thesession.org/members/38347', u'id': 38347, u'name': u'Ramiro'}, u'url': u'https://thesession.org/tunes/27#comment355472', u'content': u'similar to the one posted by slainte:    d2fd cdec|defd faaf|d2fd cdec|BABc dAFA|  d2fd cdec|defd faa2|bgaf gfed|BABc dAFD||', u'date': u'2008-03-18 16:16:55', u'id': 355472, u'subject': u'A different take on the B Part'}, {u'member': {u'url': u'https://thesession.org/members/10275', u'id': 10275, u'name': u'dlovrien'}, u'url': u'https://thesession.org/tunes/27#comment360287', u'content': u'For a bit of trickery in my last band, we played Maudabawn Chapel 2.5 times then went straight to (the Donegal) Drowsy Maggie instead of the B part...', u'date': u'2008-04-07 16:52:54', u'id': 360287, u'subject': u'Connects cleverly to Maudabawn Chapel'}, {u'member': {u'url': u'https://thesession.org/members/30834', u'id': 30834, u'name': u'aaronashton'}, u'url': u'https://thesession.org/tunes/27#comment367599', u'content': u'Anyone know the background of Drowsy Maggie? Any interesting tidbits or stories etc?', u'date': u'2008-05-05 15:14:45', u'id': 367599, u'subject': u'History or background on Drowsy Maggie'}, {u'member': {u'url': u'https://thesession.org/members/50552', u'id': 50552, u'name': u'flipe'}, u'url': u'https://thesession.org/tunes/27#comment407752', u'content': u'X: 1  T: Drowsy Maggie (O&#039;Neill&#039;s Music of Ireland)  B: O&#039;Neill&#039;s Music of Ireland  M: C|  R: reel  K: G  E2(BE dEBE)|E2(BE AFDF)|E2(BE dEBE)|T(BAB)^c dAFD|  E2(BE dEBE)|E2(BE AFDF)|E2(BE dEBE)|T(BAB)^c dAFD||  d2(fd) c2(ec)|defg afge|d2(fd) c2(ec)|T(BAB)c dAFA|  d2(fd) c2(ec)|defg afge|afge fdec|T(BAB)c dAFD|]', u'date': u'2008-10-21 18:07:18', u'id': 407752, u'subject': u'Version from &quot;O&#039;Neill&#039;s Music of Ireland&quot;'}, {u'member': {u'url': u'https://thesession.org/members/53453', u'id': 53453, u'name': u'Rob Cook'}, u'url': u'https://thesession.org/tunes/27#comment429316', u'content': u'in the second to last bar the tune is mch more interesting if you cross to an A insted of the F,E,D,and C. this also looks alot better if you do this especialy if youre a fiddle player like myself.    Did you know that this tune is used in the film Titanic in the kaly scene', u'date': u'2009-02-04 11:04:29', u'id': 429316, u'subject': u'The second to last bar'}, {u'member': {u'url': u'https://thesession.org/members/58344', u'id': 58344, u'name': u'buailteoir'}, u'url': u'https://thesession.org/tunes/27#comment465445', u'content': u'I play first, a more complicated tune, Monaghan Jig, then Swallowtail Jig-a simple tune to play on whistle, then Drowsy Maggie', u'date': u'2009-08-23 07:46:35', u'id': 465445, u'subject': u'Re: HELP!!! Need Simpler Tunes to Play with Drowsy Maggie'}, {u'member': {u'url': u'https://thesession.org/members/11205', u'id': 11205, u'name': u'Joe CSS'}, u'url': u'https://thesession.org/tunes/27#comment465650', u'content': u'Why is this $\\u20ac%&amp;ing tune so damn popular?!? It&#039;s not even that good!!', u'date': u'2009-08-24 13:21:42', u'id': 465650, u'subject': u''}, {u'member': {u'url': u'https://thesession.org/members/53183', u'id': 53183, u'name': u'Power27'}, u'url': u'https://thesession.org/tunes/27#comment465652', u'content': u'I agree Joe CSS', u'date': u'2009-08-24 13:40:58', u'id': 465652, u'subject': u''}, {u'member': {u'url': u'https://thesession.org/members/11205', u'id': 11205, u'name': u'Joe CSS'}, u'url': u'https://thesession.org/tunes/27#comment465688', u'content': u'Thank you, Power27!', u'date': u'2009-08-24 19:21:40', u'id': 465688, u'subject': u''}, {u'member': {u'url': u'https://thesession.org/members/11705', u'id': 11705, u'name': u'ceolachan'}, u'url': u'https://thesession.org/tunes/27#comment528486', u'content': u'Submitted on July 26th 2010 by ? ? ?  ~ /tunes/display/10610    &quot;I remember watching the film Titanic and was spellbound by the third class Irish party scene.     I found the video on YouTube...  http://www.youtube.com/watch?v=U50hqJS2ock    ...and have made an attempt at working out the notes to this tune. (by copying and pasting Jeremy&#039;s ABCs here)  It&#039;s not often played in sessions so I guess not many people know it.&quot; (tongue-in-cheek?)    There&#039;s a bit of a laugh there, so I&#039;ve rescued it before the stolen alias, mine, and the daft resubmission of Jeremy&#039;s ABCs goes &quot;POOF!&quot; and disappears into the digital quagmire.  Here&#039;s the number of the beast, which may switch from using my alias, &#039;ceolachan&#039;, to digital oblivion.  However, I guess they can, as many have, come back under some other guise.  I just hope they think of something more useful than pretending to be me...  :-/  ', u'date': u'2010-07-26 07:14:55', u'id': 528486, u'subject': u'&quot;Drowsy Maggie&quot; / &quot;Drowsie Maggy&quot; ~ notes from a doppelg\\xe4nger'}, {u'member': {u'url': u'https://thesession.org/members/11705', u'id': 11705, u'name': u'ceolachan'}, u'url': u'https://thesession.org/tunes/27#comment528487', u'content': u'http://www.thesession.org/members/display/66351  ', u'date': u'2010-07-26 07:15:39', u'id': 528487, u'subject': u''}, {u'member': {u'url': u'https://thesession.org/members/11705', u'id': 11705, u'name': u'ceolachan'}, u'url': u'https://thesession.org/tunes/27#comment622678', u'content': u'Submitted on February 2nd 2012 by ceolachan.  http://www.thesession.org/tunes/display/11755  ', u'date': u'2012-02-04 06:46:50', u'id': 622678, u'subject': u'&quot;Maggie&#039;s other sister Bridget ~ &quot;&quot;Bridget&#039;s Reel&quot;'}, {u'member': {u'url': u'https://thesession.org/members/5892', u'id': 5892, u'name': u'Edgar Bolton'}, u'url': u'https://thesession.org/tunes/27#comment671827', u'content': u'Is from Sean Keane (Fifty Fiddle Solos). He plays octaves on some triplets (which I could not figure out in ABC syntax so have simplified)', u'date': u'2013-02-09 05:49:18', u'id': 671827, u'subject': u'Setting 12'}, {u'member': {u'url': u'https://thesession.org/members/57801', u'id': 57801, u'name': u'Dr. T\\xf8m'}, u'url': u'https://thesession.org/tunes/27#comment673813', u'content': u'WHY IS THIS SO DARN POPULAR???    http://www.thesession.org/tunes/27#comment465650', u'date': u'2013-02-25 08:45:27', u'id': 673813, u'subject': u'Echoing JoeCSS'}, {u'member': {u'url': u'https://thesession.org/members/87904', u'id': 87904, u'name': u'Alfie Gidley'}, u'url': u'https://thesession.org/tunes/27#comment673962', u'content': u'I second Aaronashton&#039;s movement - does anyone know anything of the origins of this tune? The composer? Dates? Insights into why it is so popular perhaps? Cheers!', u'date': u'2013-02-26 14:57:00', u'id': 673962, u'subject': u'Origins, Composer?'}, {u'member': {u'url': u'https://thesession.org/members/64264', u'id': 64264, u'name': u'TomBom'}, u'url': u'https://thesession.org/tunes/27#comment676822', u'content': u'I just started learning to play the melodeon and searched for simple tunes.     I found this:  http://www.youtube.com/watch?v=CRiSHBEKYek  ', u'date': u'2013-03-24 13:55:50', u'id': 676822, u'subject': u'Mary&#039;s'}, {u'member': {u'url': u'https://thesession.org/members/90071', u'id': 90071, u'name': u'AMWeitz'}, u'url': u'https://thesession.org/tunes/27#comment688236', u'content': u'Why are there so many different versions of Drowsy Maggie? It&#039;s a bit concerning to me, as it seems like it&#039;s like playing musical telephone; even if the melody is different, would the audience know what the song is? And is there a &quot;accurate&quot; or &quot;original&quot; version? ', u'date': u'2013-07-05 00:00:36', u'id': 688236, u'subject': u'Why so many different versions?'}, {u'member': {u'url': u'https://thesession.org/members/39486', u'id': 39486, u'name': u'Weejie'}, u'url': u'https://thesession.org/tunes/27#comment688243', u'content': u'It&#039;s the nature of the music. There isn&#039;t an &quot;accurate&quot; version, though, obviously, there must have been an &quot;original&quot; tune at some time.  Irish traditional music is much to do with variation, and you will very often find that a player will vary the tune (&quot;song&quot; is frowned upon in these parts) each time through the repeats.', u'date': u'2013-07-05 03:03:56', u'id': 688243, u'subject': u''}, {u'member': {u'url': u'https://thesession.org/members/11705', u'id': 11705, u'name': u'ceolachan'}, u'url': u'https://thesession.org/tunes/27#comment688336', u'content': u'Nicely put Weejie, but there will always be those rare dogmatic few who think there&#039;s only one &#039;right&#039; way to play a given melody, and one should never vary from that.  They are hard on the ears but not difficult to suss out, their playing tends to be leaden and often they have a music stand and sheets of dots in front of them for a secure hold on that notion of things being cut into stone.  Others tend to pretty much keep to the way they&#039;d learned it, with only few and subtle variations in the repeats, sometimes as little as the direction of the bow or where a breath is taken, and yet ~ they breath life into it and it dances, lifts the spirits.  The possibilities are endless, and I am always interested and fascinated in how things are given that spark of life by others, their take on a tune, thei way with it.  It&#039;s like all the many recipes for Lancashire Hot Pot.  Though there are some I prefer over others, I&#039;m still interested in how others take it, and the stories behind it all.  I love it - those personal touches, rough or polished ~ inherited, personal choice, failing memory or accident.  ', u'date': u'2013-07-06 07:10:43', u'id': 688336, u'subject': u''}, {u'member': {u'url': u'https://thesession.org/members/90442', u'id': 90442, u'name': u'Joe.'}, u'url': u'https://thesession.org/tunes/27#comment690786', u'content': u'We do it after the song Star of the Country Down.', u'date': u'2013-08-02 07:06:21', u'id': 690786, u'subject': u'Re: HELP!!! Need Simpler Tunes to Play with Drowsy Maggie'}, {u'member': {u'url': u'https://thesession.org/members/2311', u'id': 2311, u'name': u'ceili'}, u'url': u'https://thesession.org/tunes/27#comment690789', u'content': u'Joe, what about Mountain road:  http://thesession.org/tunes/68  nice and simple.', u'date': u'2013-08-02 07:56:09', u'id': 690789, u'subject': u''}, {u'member': {u'url': u'https://thesession.org/members/79895', u'id': 79895, u'name': u'Kevin Rietmann'}, u'url': u'https://thesession.org/tunes/27#comment707039', u'content': u'X:15 from a 1937 recording of Paddy Killoran:  https://archive.org/details/PaddyKilloranDrowsyMaggieTosstheFeathers  Paddy Cronin recorded this exact same medley and setting in the 50s, along with the Flax in Bloom/Millstone/Dairy Maid as another tribute or homage to another Sligo fiddler, James Morrison.  ', u'date': u'2014-01-07 17:43:42', u'id': 707039, u'subject': u'Drowsy Maggie'}, {u'member': {u'url': u'https://thesession.org/members/79895', u'id': 79895, u'name': u'Kevin Rietmann'}, u'url': u'https://thesession.org/tunes/27#comment707227', u'content': u'X:16 from famous traveling piper Felix Doran:  https://app.box.com/s/rgrksage31kjyitvta2u  About as off-the-beaten-path as you can go.  Quite the avalanche of multiple rolls, Felix and his brother Johnny used those as a common variation and Willie Clancy picked up this technique from them, among many others of course.  ', u'date': u'2014-01-09 00:15:03', u'id': 707227, u'subject': u'Drowsy Maggie'}, {u'member': {u'url': u'https://thesession.org/members/67058', u'id': 67058, u'name': u'Charles Carolan'}, u'url': u'https://thesession.org/tunes/27#comment728424', u'content': u'We can know certainly that the third part to Drowsy Maggie was not composed by Joe Cooley (though Liz Carroll for some reason attributed it to him on one of her old albums). The fiddler Frank O&#039;Higgins recorded Drowsy Maggie with this third part in 1931; (Joe Cooley was born in 1924 and took up the box at the age of 10.) Neillidh Boyle met and played with Frank O&#039;Higgins in the 1920s; both played Drowsy Maggie with three parts, but who learned it from whom and where the third part originated is unknown.', u'date': u'2014-07-05 17:09:38', u'id': 728424, u'subject': u'Drowsy Maggie (third part)'}, {u'member': {u'url': u'https://thesession.org/members/12308', u'id': 12308, u'name': u'joe fidkid'}, u'url': u'https://thesession.org/tunes/27#comment736583', u'content': u'Like anyone needs another setting of this tune :-) Truth to tell I still really like it even if it&#039;s one of those tunes that&#039;s so popular no one plays it anymore. I&#039;m not too cool for school--I&#039;ll come right out and admit I like this tune and will play it with anyone anytime. And then, people talk about the so-called Donegal version, as if there&#039;s only one, and it&#039;s the only setting that ever gets played in Donegal. I don&#039;t have the album--maybe that&#039;s how Altan describe it? Anyway, here&#039;s my transcription of Johnny Doherty playing it on this youtube video: http://www.youtube.com/watch?v=DL_9r0kSGYA    X:1  T: Drowsy Maggie (Johnny Doherty setting)  M: 4/4  R: reel  K: E dorian  E2 Bd cEBE | E2 BG FADF | E2 Bd cEBc |1 dfec dBAF :|2 dfec dBAc ||   d2 fd {e}dcBd | cAeA ceAc | d2 fd {e}dcBA | ^GABc dAFA |   d2 fd {e}dcBd | cdef gbag | fgec dcBA | ^GABc dAFA :|   &quot;variation m. 1&quot; E2 Be dEcE |] &quot;m. 7 - 8&quot; d2 fd {e}dcB^g | abe^g aece |', u'date': u'2014-09-14 16:40:01', u'id': 736583, u'subject': u'Johnny Doherty setting'}, {u'member': {u'url': u'https://thesession.org/members/98304', u'id': 98304, u'name': u'aidriano'}, u'url': u'https://thesession.org/tunes/27#comment769965', u'content': u'This is the Altan version. Starts after about 1 min of niceties.    https://www.youtube.com/watch?v=FKkJurwycXA  ', u'date': u'2015-08-25 10:57:45', u'id': 769965, u'subject': u'Drowsy Maggie'}, {u'member': {u'url': u'https://thesession.org/members/63653', u'id': 63653, u'name': u'fluther'}, u'url': u'https://thesession.org/tunes/27#comment783975', u'content': u'https://www.youtube.com/watch?v=q3L_G-FrqVc', u'date': u'2016-02-18 19:18:58', u'id': 783975, u'subject': u'Tin Whistle version here:'}, {u'member': {u'url': u'https://thesession.org/members/100565', u'id': 100565, u'name': u'Michael'}, u'url': u'https://thesession.org/tunes/27#comment793851', u'content': u'This seems to be the most popular tune on the session but I have yet to hear it played anywhere! It just doesn&#039;t seem to be that popular around where I&#039;m from. ', u'date': u'2016-07-15 21:34:50', u'id': 793851, u'subject': u'Re: Drowsy Maggie'}, {u'member': {u'url': u'https://thesession.org/members/970', u'id': 970, u'name': u'jeff_lindqvist'}, u'url': u'https://thesession.org/tunes/27#comment793854', u'content': u'I had played Irish music for a number of years before I saw the dots to Drowsy Maggie (which predates my hearing the tune played by a real musician). And to this day, the only recording I have it on is Harvest Storm by Altan, and they play a very local setting of it.    This doesn&#039;t mean anything, besides that &quot;global&quot; repertoire sometimes isn&#039;t global. Hey, the other week, we played old tunes like Saddle the Pony, Tobin&#039;s Favourite and Garrett Barry&#039;s, and some people in the group had never heard them.', u'date': u'2016-07-15 23:50:36', u'id': 793854, u'subject': u'Re: Drowsy Maggie'}, {u'member': {u'url': u'https://thesession.org/members/100438', u'id': 100438, u'name': u'norska'}, u'url': u'https://thesession.org/tunes/27#comment793870', u'content': u'Michael - we play it almost every week - it goes with everything!', u'date': u'2016-07-16 09:57:44', u'id': 793870, u'subject': u'Re: Drowsy Maggie'}, {u'member': {u'url': u'https://thesession.org/members/69481', u'id': 69481, u'name': u'G.Ryckeboer'}, u'url': u'https://thesession.org/tunes/27#comment807713', u'content': u'Transcripted from the record &quot;Rain na Feirste - Ceol agus amhr\\xe1in&quot; (first released as an LP in 1973 et now available on CD), track &quot;Drowsy Maggie&quot; (n\\xb0 16 on the CD, n\\xb08 side 2 on the LP) played by S\\xe9amus &amp; D\\xf3nal \\xd3 Baoighill on fiddles. It\\u2019s the 1rst reel of the set which is: Drowsy Maggie / Heather Breathe / Swallow\\u2019s Tail.  The pitch is about one tone lower.  I\\u2019ve transcript the 1rst turn of the tune of which part A is played twice (not in following turns).  bar 2 and 6 f the 3d part may be also : fBaf adcA  (the 2 fiddles don&#039;t play the same)    I\\u2019ve also transcript the whole set, see Heather Breathe (https://thesession.org/tunes/411), with a variation on 1rst part with F naturals, and Swallow\\u2019s Tail (https://thesession.org/tunes/105).', u'date': u'2016-12-31 13:46:29', u'id': 807713, u'subject': u'Drowsy Maggie, X:20'}, {u'member': {u'url': u'https://thesession.org/members/69481', u'id': 69481, u'name': u'G.Ryckeboer'}, u'url': u'https://thesession.org/tunes/27#comment807718', u'content': u'Drowsy Maggie, X:20  Oooops  : &quot;Heather Breeze&quot;, and not &quot;Breathe&quot; !!! Sorry for the mistake   It would be nice to be able to update our own comments \\u2026', u'date': u'2016-12-31 14:18:10', u'id': 807718, u'subject': u'Re: Drowsy Maggie'}, {u'member': {u'url': u'https://thesession.org/members/99854', u'id': 99854, u'name': u'Chris Quarles'}, u'url': u'https://thesession.org/tunes/27#comment831169', u'content': u'You may want to double check my chords as I am a fiddler trying to be helpful and chords are a foreign language to me.', u'date': u'2017-10-03 16:43:39', u'id': 831169, u'subject': u'Drowsy Maggie, X:21'}]\n"
     ]
    }
   ],
   "source": [
    "print(data['comments'])"
   ]
  },
  {
   "cell_type": "code",
   "execution_count": 7,
   "metadata": {},
   "outputs": [
    {
     "data": {
      "text/plain": [
       "{'groups': ['Altan', 'Bothy Band', 'Chieftains'],\n",
       " 'history': ['traditional', 'trad', 'modern', 'contemporary', 'composed'],\n",
       " 'instruments': ['fiddle',\n",
       "  'flute',\n",
       "  'pipe',\n",
       "  'concetina',\n",
       "  'accordion',\n",
       "  'whistle',\n",
       "  'harp',\n",
       "  'bouzouki',\n",
       "  'mandolin'],\n",
       " 'locations': ['Antrim',\n",
       "  'Armagh',\n",
       "  'Carlow',\n",
       "  'Cavan',\n",
       "  'Clare',\n",
       "  'Cork',\n",
       "  'Donegal',\n",
       "  'Down',\n",
       "  'Fermanagh',\n",
       "  'Galway',\n",
       "  'Kerry',\n",
       "  'Kildare',\n",
       "  'Kilkenny',\n",
       "  'Laois',\n",
       "  'Leitrim',\n",
       "  'Limerick',\n",
       "  'Londonderry',\n",
       "  'Derry',\n",
       "  'Longford',\n",
       "  'Louth',\n",
       "  'Mayo',\n",
       "  'Meath',\n",
       "  'Monaghan',\n",
       "  'Offaly',\n",
       "  'Roscommon',\n",
       "  'Sligo',\n",
       "  'Tipperary',\n",
       "  'Tyrone',\n",
       "  'Waterford',\n",
       "  'Wexford',\n",
       "  'Wicklow',\n",
       "  'Dublin',\n",
       "  'London',\n",
       "  'Chicago',\n",
       "  'New York',\n",
       "  'San Francisco',\n",
       "  'Boston',\n",
       "  'Shetland',\n",
       "  'Cape Breton'],\n",
       " 'musicians': ['Kevin Burke',\n",
       "  'Michael Coleman',\n",
       "  'Joe Cooley',\n",
       "  \"O'Carolan\",\n",
       "  'John Doherty']}"
      ]
     },
     "execution_count": 7,
     "metadata": {},
     "output_type": "execute_result"
    }
   ],
   "source": [
    "# sample terms to search for\n",
    "# would also need a good way to prescribe different AKA's\n",
    "{'instruments':['fiddle','flute','pipe','concetina','accordion','whistle','harp','bouzouki','mandolin'],\n",
    "'musicians':['Kevin Burke','Michael Coleman','Joe Cooley',\"O'Carolan\",'John Doherty'],\n",
    "'groups':['Altan','Bothy Band','Chieftains'],\n",
    "'locations':['Antrim','Armagh','Carlow','Cavan','Clare','Cork','Donegal',\n",
    "             'Down','Fermanagh','Galway','Kerry','Kildare','Kilkenny','Laois',\n",
    "             'Leitrim','Limerick','Londonderry','Derry','Longford','Louth',\n",
    "             'Mayo','Meath','Monaghan','Offaly','Roscommon','Sligo','Tipperary',\n",
    "             'Tyrone','Waterford','Wexford','Wicklow','Dublin','London','Chicago',\n",
    "             'New York','San Francisco','Boston','Shetland','Cape Breton'],\n",
    "'history':['traditional','trad','modern','contemporary','composed']}"
   ]
  },
  {
   "cell_type": "code",
   "execution_count": null,
   "metadata": {
    "collapsed": true
   },
   "outputs": [],
   "source": []
  },
  {
   "cell_type": "code",
   "execution_count": null,
   "metadata": {
    "collapsed": true
   },
   "outputs": [],
   "source": []
  },
  {
   "cell_type": "code",
   "execution_count": null,
   "metadata": {
    "collapsed": true
   },
   "outputs": [],
   "source": []
  },
  {
   "cell_type": "code",
   "execution_count": 8,
   "metadata": {
    "collapsed": true
   },
   "outputs": [],
   "source": [
    "\n",
    "# # URL = Uniform Resource Locator\n",
    "# try:\n",
    "#     # For Python 3.0 and later\n",
    "#     from urllib.request import urlopen\n",
    "# except ImportError:\n",
    "#     # Fall back to Python 2's urllib2\n",
    "#     from urllib2 import urlopen\n",
    "    \n",
    "# from bs4 import BeautifulSoup\n",
    "# import re\n",
    "# from geopy.geocoders import Nominatim\n",
    "# import numpy as np\n",
    "\n",
    "# sample urls\n",
    "profile_url = 'https://thesession.org/members/97793'\n",
    "tunebook_url = 'https://thesession.org/members/97793/tunebook'\n",
    "usersettings_url = 'https://thesession.org/members/97793/tunes'\n",
    "tune_url = 'https://thesession.org/tunes/55'"
   ]
  },
  {
   "cell_type": "code",
   "execution_count": 9,
   "metadata": {},
   "outputs": [
    {
     "name": "stdout",
     "output_type": "stream",
     "text": [
      "https://thesession.org/members/1659\n",
      "{u'display_name': u'3, Stationsstrasse, Niederuster, Uster, Bezirk Uster, Z\\xfcrich, 8606, Schweiz/Suisse/Svizzera/Svizra', u'place_id': u'82094140', u'lon': u'8.6937239615674', u'boundingbox': [u'47.369756', u'47.3699778', u'8.6935723', u'8.6938819'], u'osm_type': u'way', u'licence': u'Data \\xa9 OpenStreetMap contributors, ODbL 1.0. https://osm.org/copyright', u'osm_id': u'48839324', u'lat': u'47.3698669', u'address': {u'town': u'Uster', u'house_number': u'3', u'country': u'Schweiz/Suisse/Svizzera/Svizra', u'county': u'Bezirk Uster', u'suburb': u'Niederuster', u'state': u'Z\\xfcrich', u'postcode': u'8606', u'country_code': u'ch', u'road': u'Stationsstrasse'}}\n",
      "Uster\n",
      "Bezirk Uster\n",
      "Zürich\n",
      "Schweiz/Suisse/Svizzera/Svizra\n",
      "ch\n",
      "https://thesession.org/members/1659\n",
      "{u'display_name': u'3, Stationsstrasse, Niederuster, Uster, Bezirk Uster, Z\\xfcrich, 8606, Schweiz/Suisse/Svizzera/Svizra', u'place_id': u'82094140', u'lon': u'8.6937239615674', u'boundingbox': [u'47.369756', u'47.3699778', u'8.6935723', u'8.6938819'], u'osm_type': u'way', u'licence': u'Data \\xa9 OpenStreetMap contributors, ODbL 1.0. https://osm.org/copyright', u'osm_id': u'48839324', u'lat': u'47.3698669', u'address': {u'town': u'Uster', u'house_number': u'3', u'country': u'Schweiz/Suisse/Svizzera/Svizra', u'county': u'Bezirk Uster', u'suburb': u'Niederuster', u'state': u'Z\\xfcrich', u'postcode': u'8606', u'country_code': u'ch', u'road': u'Stationsstrasse'}}\n",
      "Uster\n",
      "Bezirk Uster\n",
      "Zürich\n",
      "Schweiz/Suisse/Svizzera/Svizra\n",
      "ch\n",
      "https://thesession.org/members/13449\n",
      "{u'display_name': u'Cappagh, Bricklieve ED, Municipal District of Ballymote \\u2013 Tubbercurry, County Sligo, Connacht, Ireland', u'place_id': u'113158582', u'lon': u'-8.436629', u'boundingbox': [u'54.0886925', u'54.0918752', u'-8.4417519', u'-8.4305645'], u'osm_type': u'way', u'licence': u'Data \\xa9 OpenStreetMap contributors, ODbL 1.0. https://osm.org/copyright', u'osm_id': u'177377742', u'lat': u'54.0905803', u'address': {u'state_district': u'Connacht', u'locality': u'Cappagh', u'country': u'Ireland', u'region': u'Municipal District of Ballymote \\u2013 Tubbercurry', u'county': u'County Sligo', u'city_district': u'Bricklieve ED', u'country_code': u'ie'}}\n",
      "Cappagh\n",
      "County Sligo\n",
      "Connacht\n",
      "Ireland\n",
      "ie\n",
      "https://thesession.org/members/10078\n",
      "{u'display_name': u'Barmeen, Cushendun, County Antrim, Northern Ireland, UK', u'place_id': u'179748494', u'lon': u'-6.0619103291529', u'boundingbox': [u'55.1219183', u'55.1316512', u'-6.0700066', u'-6.0558704'], u'osm_type': u'relation', u'licence': u'Data \\xa9 OpenStreetMap contributors, ODbL 1.0. https://osm.org/copyright', u'osm_id': u'4285488', u'lat': u'55.1267489', u'address': {u'country': u'UK', u'county': u'County Antrim', u'suburb': u'Barmeen', u'state': u'Northern Ireland', u'country_code': u'gb', u'village': u'Cushendun'}}\n",
      "Cushendun\n",
      "County Antrim\n",
      "Northern Ireland\n",
      "UK\n",
      "gb\n"
     ]
    }
   ],
   "source": [
    "# Looking at different user profiles to see what sort of classes\n",
    "# of locations might be useful to look for\n",
    "\n",
    "from geopy.geocoders import Nominatim\n",
    "geolocator = Nominatim()\n",
    "\n",
    "# some locations have alternatives to city/county/state\n",
    "\n",
    "up = userProfile(1659)\n",
    "location = geolocator.reverse(up.location)\n",
    "print(location.raw)\n",
    "\n",
    "print(location.raw['address']['town'])\n",
    "print(location.raw['address']['county'])\n",
    "print(location.raw['address']['state'])\n",
    "print(location.raw['address']['country'])\n",
    "print(location.raw['address']['country_code'])\n",
    "\n",
    "    \n",
    "up = userProfile(1659)\n",
    "location = geolocator.reverse(up.location)\n",
    "print(location.raw)\n",
    "\n",
    "print(location.raw['address']['town'])\n",
    "print(location.raw['address']['county'])\n",
    "print(location.raw['address']['state'])\n",
    "print(location.raw['address']['country'])\n",
    "print(location.raw['address']['country_code'])\n",
    "\n",
    "up = userProfile(13449)\n",
    "location = geolocator.reverse(up.location)\n",
    "print(location.raw)\n",
    "\n",
    "#print(location.raw['address']['city'])print(location.raw['address']['county'])\n",
    "print(location.raw['address']['locality'])\n",
    "print(location.raw['address']['county'])\n",
    "print(location.raw['address']['state_district'])\n",
    "print(location.raw['address']['country'])\n",
    "print(location.raw['address']['country_code'])\n",
    "\n",
    "up = userProfile(10078)\n",
    "location = geolocator.reverse(up.location)\n",
    "print(location.raw)\n",
    "\n",
    "#print(location.raw['address']['city'])print(location.raw['address']['county'])\n",
    "#print(location.raw['address']['city'])\n",
    "print(location.raw['address']['village'])\n",
    "print(location.raw['address']['county'])\n",
    "print(location.raw['address']['state'])\n",
    "print(location.raw['address']['country'])\n",
    "print(location.raw['address']['country_code'])\n"
   ]
  },
  {
   "cell_type": "code",
   "execution_count": null,
   "metadata": {
    "collapsed": true
   },
   "outputs": [],
   "source": []
  }
 ],
 "metadata": {
  "anaconda-cloud": {},
  "kernelspec": {
   "display_name": "Python [anaconda]",
   "language": "python",
   "name": "Python [anaconda]"
  },
  "language_info": {
   "codemirror_mode": {
    "name": "ipython",
    "version": 2
   },
   "file_extension": ".py",
   "mimetype": "text/x-python",
   "name": "python",
   "nbconvert_exporter": "python",
   "pygments_lexer": "ipython2",
   "version": "2.7.12"
  }
 },
 "nbformat": 4,
 "nbformat_minor": 1
}
