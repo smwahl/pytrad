{
 "cells": [
  {
   "cell_type": "code",
   "execution_count": 1,
   "metadata": {
    "collapsed": true
   },
   "outputs": [],
   "source": [
    "#import pyabc\n",
    "from pyabc import *\n",
    "import json\n",
    "import numpy as np"
   ]
  },
  {
   "cell_type": "code",
   "execution_count": 2,
   "metadata": {
    "collapsed": true
   },
   "outputs": [],
   "source": [
    "#pyabc."
   ]
  },
  {
   "cell_type": "code",
   "execution_count": 3,
   "metadata": {
    "collapsed": true
   },
   "outputs": [],
   "source": [
    "ts_tunes = json.loads(open('thesession_2017_07_12.json', 'rb').read().decode('utf8'))\n"
   ]
  },
  {
   "cell_type": "code",
   "execution_count": 4,
   "metadata": {},
   "outputs": [
    {
     "data": {
      "text/plain": [
       "{u'abc': u'eAAB eABB|eAAB gedB|eAAB eABB|G2AB gedB:|\\r\\n~e3d efg2|~e3f gedB|~e3d efg2|G2AB gedB|\\r\\n~e3d efg2|~e3f gedB|efga geg2|GABG gedB||',\n",
       " u'date': u'2015-07-31 02:47:47',\n",
       " u'meter': u'4/4',\n",
       " u'mode': u'Bminor',\n",
       " u'name': u\"'S Daor An Tabac\",\n",
       " u'setting': u'26955',\n",
       " u'tune': u'14625',\n",
       " u'type': u'reel',\n",
       " u'username': u'Charles Mackenzie'}"
      ]
     },
     "execution_count": 4,
     "metadata": {},
     "output_type": "execute_result"
    }
   ],
   "source": [
    "ts_tunes[3]"
   ]
  },
  {
   "cell_type": "code",
   "execution_count": 5,
   "metadata": {
    "collapsed": true
   },
   "outputs": [],
   "source": [
    "def matchJsonField(js,field,string):\n",
    "    result = []\n",
    "    for t in js:\n",
    "        if t[field] == string:\n",
    "            result.append(t)\n",
    "    return  result  \n",
    "\n",
    "def inJsonField(js,field,string):\n",
    "    result = []\n",
    "    for t in js:\n",
    "        if string in t[field]:\n",
    "            result.append(t)\n",
    "    return result\n",
    "\n",
    "def fieldList(js,field):\n",
    "    result = []\n",
    "    for t in js:\n",
    "        result.append(t[field])\n",
    "    return result\n",
    "        "
   ]
  },
  {
   "cell_type": "code",
   "execution_count": 6,
   "metadata": {},
   "outputs": [
    {
     "name": "stdout",
     "output_type": "stream",
     "text": [
      "[{u'username': u'Jeremy', u'abc': u'fed cAG| A2d cAG| F2D DED| FEF GFG|\\r\\nAGA cAG| AGA cde|fed cAG| Ad^c d3:|\\r\\nf2d d^cd| f2g agf| e2c cBc|e2f gfe| \\r\\nf2g agf| e2f gfe|fed cAG|Ad^c d3:|\\r\\nf2g e2f| d2e c2d|ABA GAG| F2F GED|\\r\\nc3 cAG| AGA cde| fed cAG| Ad^c d3:|', u'name': u'Banish Misfortune', u'meter': u'6/8', u'setting': u'9', u'mode': u'Dmixolydian', u'date': u'2001-05-18 03:50:35', u'type': u'jig', u'tune': u'9'}, {u'username': u'JACKB', u'abc': u'gfe dBA| B2e dBA| G2E EFE| GFG AGA|\\r\\nBAB dBA| BAB def|gfe dBA| Be^d e3:|\\r\\ng2e e^de| g2a bag| f2d dcd|f2g agf|\\r\\ng2a bag| f2g agf|gfe dBA|Be^d e3:|\\r\\ng2a f2g| e2f d2e|BcB ABA| G2G AFE|\\r\\nd3 dBA| BAB def| gfe dBA| Be^d e3:|', u'name': u'Banish Misfortune', u'meter': u'6/8', u'setting': u'22361', u'mode': u'Emixolydian', u'date': u'2013-09-24 07:09:32', u'type': u'jig', u'tune': u'9'}, {u'username': u'GaryAMartin', u'abc': u'd2 e|fed cAG|A2d =cAG|EFD DdD|FDF GFG|\\r\\nA^GA =cAD|(3EFG A cde|fed cAG|AdA d2 g||\\r\\nfed cAG|A2d =cAG|EFD DdD|(3FED F G2G|\\r\\nA2A =cAD|(3EFG A cde|fed cAG|AdA d2 e||\\r\\nefd dcd|(3fed f afd|eg=c cBc|(3ed=c e gag|\\r\\n(ef)g afd|(3efe f gag|fed cAG|ABc dag||\\r\\nefd dcd|Adf aba|ge=c (3cgc G|=ceg gag|\\r\\n(ef)g afd|(3efe f gag|fed cAG|ABc d2 e||\\r\\nef g ef f|ded =c2 c|ABA GG E|=F2 A GED|\\r\\n=c2 c cAD|(3EFG A cde|fed cAG|AdA d2 e||\\r\\nfed edc|cdB =c2 c|A2 A (3GBG E|=F2 F FED|\\r\\n=C2 C =cAG|(3EFG A cde|fed cAG|AdA d2 e|]\\r\\n', u'name': u'Banish Misfortune', u'meter': u'6/8', u'setting': u'23916', u'mode': u'Dmajor', u'date': u'2014-04-04 01:35:23', u'type': u'jig', u'tune': u'9'}, {u'username': u'JACKB', u'abc': u'|:g/f/ed cAG| A2d cAG| F2D D3| F3 GFG|\\r\\nAGA cAG| AGA cde|g/f/ed cAG| Ad^c d3:|\\r\\n|:f2d dB/^c/d| f2g agf| e2c cBc|e2f gfe|\\r\\nf2g agf| e2f gfe|fed cAG|Ad^c d3:|\\r\\n|:f2g e2f| d2e c2d|A3 GAG| F3 GED|\\r\\nc3 cAG| AGA cde| g/f/ed cAG| Ad^c d3:|', u'name': u'Banish Misfortune', u'meter': u'6/8', u'setting': u'25918', u'mode': u'Dmixolydian', u'date': u'2015-03-04 02:01:10', u'type': u'jig', u'tune': u'9'}, {u'username': u'Bryce', u'abc': u'|de|:\"D\"fed \"C\"cAG| \"D\"Add \"C\"cAG| \"D\"F2D DED| FEF \"C\"GFG|\\r\\n\"D\"AGA \"C\"cAG| \"D\"AGA \"C\"cde|\"D\"fed \"C\"cAG| \"D\"Ad^c d2e:|\\r\\n|:\"D\"f2d d^cd| f2g agf| \"C\"e2c cBc|e2f gfe| \\r\\n\"D\"f2g agf| \"C\"e2f gfe|\"D\"fed \"C\"cAG|\"D\"Ad^c d2e:|\\r\\n|:\"D\"f2g \"C\"e2f| \"D\"d2e \"C\"c2d|\"D\"ABA \"C\"GAG| \"D\"F2F GED|\\r\\n\"C\"c3 cAG| AGA cde| \"D\"fed cAG|[1 \"C\"Ad^c \"D\"d2e:|[2 \"C\"Ad^c \"D\"d3|]', u'name': u'Banish Misfortune', u'meter': u'6/8', u'setting': u'28408', u'mode': u'Dmixolydian', u'date': u'2016-03-03 21:29:59', u'type': u'jig', u'tune': u'9'}]\n"
     ]
    }
   ],
   "source": [
    "result = matchJsonField(ts_tunes,'name','Banish Misfortune')\n",
    "print result"
   ]
  },
  {
   "cell_type": "code",
   "execution_count": 7,
   "metadata": {},
   "outputs": [
    {
     "name": "stdout",
     "output_type": "stream",
     "text": [
      "[u'Back Of The Haggard, The', u'Back Of The Haggard, The', u'Back Of The Haggard, The', u'Back Of The Haggard, The', u'Cheer Up Old Hag', u'Cheer Up Old Hag', u'Cheer Up Old Hag', u'Cheer Up Old Hag', u'Cheer Up Old Hag', u'Hag At The Churn, The', u'Hag At The Churn, The', u'Hag At The Churn, The', u'Hag At The Churn, The', u'Hag At The Churn, The', u'Hag At The Churn, The', u'Hag At The Churn, The', u'Hag At The Churn, The', u'Hag At The Spinning Wheel, The', u'Hag At The Spinning Wheel, The', u'Hag At The Spinning Wheel, The', u'Hag At The Spinning Wheel, The', u'Hag At The Spinning Wheel, The', u'Hag At The Spinning Wheel, The', u'Hag By The Fire, The', u'Hag By The Fire, The', u'Hag With No Money, The', u'Hag With The Money, The', u'Hag With The Money, The', u'Hag With The Money, The', u'Hag With The Money, The', u'Hag With The Money, The', u'Hag With The Money, The', u'Hag With The Money, The', u'Hag With The Money, The', u\"Hag's Dream, The\", u\"Hag's Dream, The\", u\"Hag's Dream, The\", u\"Hag's Dream, The\", u\"Hag's Purse, The\", u\"Hag's Purse, The\", u\"Hag's Purse, The\", u\"Hag's Purse, The\", u\"Hag's Purse, The\", u\"Haggis Geordie's\", u'Haggis, The', u'Haggis, The', u'Haggis, The', u'Marten Haggs', u'Old Hag, You Have Killed Me', u'Old Hag, You Have Killed Me', u'Old Hag, You Have Killed Me', u'Old Hag, You Have Killed Me', u'Old Hag, You Have Killed Me', u'Red-Haired Hag, The', u'Ruffle The Old Hag In The Corner', u'Ruffle The Old Hag In The Corner']\n",
      "[u'hornpipe', u'hornpipe', u'hornpipe', u'hornpipe', u'jig', u'jig', u'jig', u'jig', u'jig', u'jig', u'jig', u'jig', u'jig', u'jig', u'jig', u'jig', u'jig', u'jig', u'jig', u'jig', u'jig', u'jig', u'jig', u'reel', u'reel', u'jig', u'jig', u'jig', u'jig', u'jig', u'jig', u'jig', u'jig', u'jig', u'slip jig', u'slip jig', u'slip jig', u'slip jig', u'jig', u'jig', u'jig', u'jig', u'jig', u'jig', u'reel', u'reel', u'reel', u'waltz', u'jig', u'jig', u'jig', u'jig', u'jig', u'jig', u'slip jig', u'slip jig']\n",
      "[u'Dmajor', u'Dmajor', u'Dmajor', u'Dmajor', u'Gmajor', u'Gmajor', u'Gmajor', u'Gmajor', u'Gmajor', u'Dmixolydian', u'Emixolydian', u'Dmixolydian', u'Emixolydian', u'Gmixolydian', u'Amixolydian', u'Dmixolydian', u'Dmixolydian', u'Gmajor', u'Gmajor', u'Gmajor', u'Gmajor', u'Gmajor', u'Gmajor', u'Dmajor', u'Dmajor', u'Gmajor', u'Dmixolydian', u'Dmixolydian', u'Emixolydian', u'Dmixolydian', u'Dmixolydian', u'Gmajor', u'Dmajor', u'Amixolydian', u'Cmajor', u'Dmajor', u'Gmajor', u'Dmajor', u'Dmixolydian', u'Dmixolydian', u'Dmixolydian', u'Dmixolydian', u'Dmixolydian', u'Eminor', u'Cmajor', u'Dmajor', u'Dmajor', u'Gmajor', u'Dmixolydian', u'Dmixolydian', u'Dmixolydian', u'Dmixolydian', u'Amixolydian', u'Amixolydian', u'Dmixolydian', u'Dmixolydian']\n"
     ]
    }
   ],
   "source": [
    "result = inJsonField(ts_tunes,'name','Hag')\n",
    "print fieldList(result,'name')\n",
    "print fieldList(result,'type')\n",
    "print fieldList(result,'mode')"
   ]
  },
  {
   "cell_type": "code",
   "execution_count": 8,
   "metadata": {},
   "outputs": [
    {
     "name": "stdout",
     "output_type": "stream",
     "text": [
      "fed cAG| A2d cAG| F2D DED| FEF GFG|\n",
      "AGA cAG| AGA cde|fed cAG| Ad^c d3:|\n",
      "f2d d^cd| f2g agf| e2c cBc|e2f gfe| \n",
      "f2g agf| e2f gfe|fed cAG|Ad^c d3:|\n",
      "f2g e2f| d2e c2d|ABA GAG| F2F GED|\n",
      "c3 cAG| AGA cde| fed cAG| Ad^c d3:|\n"
     ]
    }
   ],
   "source": [
    "t = matchJsonField(ts_tunes,'name','Banish Misfortune')[0]\n",
    "tune = Tune(json=t)\n"
   ]
  },
  {
   "cell_type": "code",
   "execution_count": 9,
   "metadata": {},
   "outputs": [
    {
     "data": {
      "text/plain": [
       "{'key': u'Dmixolydian',\n",
       " 'meter': u'6/8',\n",
       " 'reference number': u'9',\n",
       " 'setting': u'9',\n",
       " 'tune title': u'Banish Misfortune',\n",
       " 'unit note length': u'1/8'}"
      ]
     },
     "execution_count": 9,
     "metadata": {},
     "output_type": "execute_result"
    }
   ],
   "source": [
    "tune.header"
   ]
  },
  {
   "cell_type": "code",
   "execution_count": 10,
   "metadata": {
    "collapsed": true
   },
   "outputs": [],
   "source": [
    "note = tune.notes[1]"
   ]
  },
  {
   "cell_type": "code",
   "execution_count": 11,
   "metadata": {},
   "outputs": [
    {
     "data": {
      "text/plain": [
       "<Key G ionian>"
      ]
     },
     "execution_count": 11,
     "metadata": {},
     "output_type": "execute_result"
    }
   ],
   "source": [
    "key = Key(name=tune.header['key'])\n",
    "key.relative_ionian"
   ]
  },
  {
   "cell_type": "code",
   "execution_count": 12,
   "metadata": {},
   "outputs": [
    {
     "data": {
      "text/plain": [
       "[<Note \"f\">,\n",
       " <Note \"e\">,\n",
       " <Note \"d\">,\n",
       " <Space \" \">,\n",
       " <Note \"c\">,\n",
       " <Note \"A\">,\n",
       " <Note \"G\">,\n",
       " <Beam \"|\">,\n",
       " <Space \" \">,\n",
       " <Note \"A2\">,\n",
       " <Note \"d\">,\n",
       " <Space \" \">,\n",
       " <Note \"c\">,\n",
       " <Note \"A\">,\n",
       " <Note \"G\">,\n",
       " <Beam \"|\">,\n",
       " <Space \" \">,\n",
       " <Note \"F2\">,\n",
       " <Note \"D\">,\n",
       " <Space \" \">,\n",
       " <Note \"D\">,\n",
       " <Note \"E\">,\n",
       " <Note \"D\">,\n",
       " <Beam \"|\">,\n",
       " <Space \" \">,\n",
       " <Note \"F\">,\n",
       " <Note \"E\">,\n",
       " <Note \"F\">,\n",
       " <Space \" \">,\n",
       " <Note \"G\">,\n",
       " <Note \"F\">,\n",
       " <Note \"G\">,\n",
       " <Beam \"|\">,\n",
       " <Newline \"\n",
       " \">,\n",
       " <Note \"A\">,\n",
       " <Note \"G\">,\n",
       " <Note \"A\">,\n",
       " <Space \" \">,\n",
       " <Note \"c\">,\n",
       " <Note \"A\">,\n",
       " <Note \"G\">,\n",
       " <Beam \"|\">,\n",
       " <Space \" \">,\n",
       " <Note \"A\">,\n",
       " <Note \"G\">,\n",
       " <Note \"A\">,\n",
       " <Space \" \">,\n",
       " <Note \"c\">,\n",
       " <Note \"d\">,\n",
       " <Note \"e\">,\n",
       " <Beam \"|\">,\n",
       " <Note \"f\">,\n",
       " <Note \"e\">,\n",
       " <Note \"d\">,\n",
       " <Space \" \">,\n",
       " <Note \"c\">,\n",
       " <Note \"A\">,\n",
       " <Note \"G\">,\n",
       " <Beam \"|\">,\n",
       " <Space \" \">,\n",
       " <Note \"A\">,\n",
       " <Note \"d\">,\n",
       " <Note \"^c\">,\n",
       " <Space \" \">,\n",
       " <Note \"d3\">,\n",
       " <Beam \":|\">,\n",
       " <Newline \"\n",
       " \">,\n",
       " <Note \"f2\">,\n",
       " <Note \"d\">,\n",
       " <Space \" \">,\n",
       " <Note \"d\">,\n",
       " <Note \"^c\">,\n",
       " <Note \"d\">,\n",
       " <Beam \"|\">,\n",
       " <Space \" \">,\n",
       " <Note \"f2\">,\n",
       " <Note \"g\">,\n",
       " <Space \" \">,\n",
       " <Note \"a\">,\n",
       " <Note \"g\">,\n",
       " <Note \"f\">,\n",
       " <Beam \"|\">,\n",
       " <Space \" \">,\n",
       " <Note \"e2\">,\n",
       " <Note \"c\">,\n",
       " <Space \" \">,\n",
       " <Note \"c\">,\n",
       " <Note \"B\">,\n",
       " <Note \"c\">,\n",
       " <Beam \"|\">,\n",
       " <Note \"e2\">,\n",
       " <Note \"f\">,\n",
       " <Space \" \">,\n",
       " <Note \"g\">,\n",
       " <Note \"f\">,\n",
       " <Note \"e\">,\n",
       " <Beam \"|\">,\n",
       " <Newline \"\n",
       " \">,\n",
       " <Note \"f2\">,\n",
       " <Note \"g\">,\n",
       " <Space \" \">,\n",
       " <Note \"a\">,\n",
       " <Note \"g\">,\n",
       " <Note \"f\">,\n",
       " <Beam \"|\">,\n",
       " <Space \" \">,\n",
       " <Note \"e2\">,\n",
       " <Note \"f\">,\n",
       " <Space \" \">,\n",
       " <Note \"g\">,\n",
       " <Note \"f\">,\n",
       " <Note \"e\">,\n",
       " <Beam \"|\">,\n",
       " <Note \"f\">,\n",
       " <Note \"e\">,\n",
       " <Note \"d\">,\n",
       " <Space \" \">,\n",
       " <Note \"c\">,\n",
       " <Note \"A\">,\n",
       " <Note \"G\">,\n",
       " <Beam \"|\">,\n",
       " <Note \"A\">,\n",
       " <Note \"d\">,\n",
       " <Note \"^c\">,\n",
       " <Space \" \">,\n",
       " <Note \"d3\">,\n",
       " <Beam \":|\">,\n",
       " <Newline \"\n",
       " \">,\n",
       " <Note \"f2\">,\n",
       " <Note \"g\">,\n",
       " <Space \" \">,\n",
       " <Note \"e2\">,\n",
       " <Note \"f\">,\n",
       " <Beam \"|\">,\n",
       " <Space \" \">,\n",
       " <Note \"d2\">,\n",
       " <Note \"e\">,\n",
       " <Space \" \">,\n",
       " <Note \"c2\">,\n",
       " <Note \"d\">,\n",
       " <Beam \"|\">,\n",
       " <Note \"A\">,\n",
       " <Note \"B\">,\n",
       " <Note \"A\">,\n",
       " <Space \" \">,\n",
       " <Note \"G\">,\n",
       " <Note \"A\">,\n",
       " <Note \"G\">,\n",
       " <Beam \"|\">,\n",
       " <Space \" \">,\n",
       " <Note \"F2\">,\n",
       " <Note \"F\">,\n",
       " <Space \" \">,\n",
       " <Note \"G\">,\n",
       " <Note \"E\">,\n",
       " <Note \"D\">,\n",
       " <Beam \"|\">,\n",
       " <Newline \"\n",
       " \">,\n",
       " <Note \"c3\">,\n",
       " <Space \" \">,\n",
       " <Note \"c\">,\n",
       " <Note \"A\">,\n",
       " <Note \"G\">,\n",
       " <Beam \"|\">,\n",
       " <Space \" \">,\n",
       " <Note \"A\">,\n",
       " <Note \"G\">,\n",
       " <Note \"A\">,\n",
       " <Space \" \">,\n",
       " <Note \"c\">,\n",
       " <Note \"d\">,\n",
       " <Note \"e\">,\n",
       " <Beam \"|\">,\n",
       " <Space \" \">,\n",
       " <Note \"f\">,\n",
       " <Note \"e\">,\n",
       " <Note \"d\">,\n",
       " <Space \" \">,\n",
       " <Note \"c\">,\n",
       " <Note \"A\">,\n",
       " <Note \"G\">,\n",
       " <Beam \"|\">,\n",
       " <Space \" \">,\n",
       " <Note \"A\">,\n",
       " <Note \"d\">,\n",
       " <Note \"^c\">,\n",
       " <Space \" \">,\n",
       " <Note \"d3\">,\n",
       " <Beam \":|\">,\n",
       " <Newline \"\n",
       " \">]"
      ]
     },
     "execution_count": 12,
     "metadata": {},
     "output_type": "execute_result"
    }
   ],
   "source": [
    "tune.tokens"
   ]
  },
  {
   "cell_type": "code",
   "execution_count": 13,
   "metadata": {},
   "outputs": [
    {
     "data": {
      "text/plain": [
       "[<Note \"f\">,\n",
       " <Note \"e\">,\n",
       " <Note \"d\">,\n",
       " <Note \"c\">,\n",
       " <Note \"A\">,\n",
       " <Note \"G\">,\n",
       " <Note \"A2\">,\n",
       " <Note \"d\">,\n",
       " <Note \"c\">,\n",
       " <Note \"A\">,\n",
       " <Note \"G\">,\n",
       " <Note \"F2\">,\n",
       " <Note \"D\">,\n",
       " <Note \"D\">,\n",
       " <Note \"E\">,\n",
       " <Note \"D\">,\n",
       " <Note \"F\">,\n",
       " <Note \"E\">,\n",
       " <Note \"F\">,\n",
       " <Note \"G\">,\n",
       " <Note \"F\">,\n",
       " <Note \"G\">,\n",
       " <Note \"A\">,\n",
       " <Note \"G\">,\n",
       " <Note \"A\">,\n",
       " <Note \"c\">,\n",
       " <Note \"A\">,\n",
       " <Note \"G\">,\n",
       " <Note \"A\">,\n",
       " <Note \"G\">,\n",
       " <Note \"A\">,\n",
       " <Note \"c\">,\n",
       " <Note \"d\">,\n",
       " <Note \"e\">,\n",
       " <Note \"f\">,\n",
       " <Note \"e\">,\n",
       " <Note \"d\">,\n",
       " <Note \"c\">,\n",
       " <Note \"A\">,\n",
       " <Note \"G\">,\n",
       " <Note \"A\">,\n",
       " <Note \"d\">,\n",
       " <Note \"^c\">,\n",
       " <Note \"d3\">,\n",
       " <Note \"f2\">,\n",
       " <Note \"d\">,\n",
       " <Note \"d\">,\n",
       " <Note \"^c\">,\n",
       " <Note \"d\">,\n",
       " <Note \"f2\">,\n",
       " <Note \"g\">,\n",
       " <Note \"a\">,\n",
       " <Note \"g\">,\n",
       " <Note \"f\">,\n",
       " <Note \"e2\">,\n",
       " <Note \"c\">,\n",
       " <Note \"c\">,\n",
       " <Note \"B\">,\n",
       " <Note \"c\">,\n",
       " <Note \"e2\">,\n",
       " <Note \"f\">,\n",
       " <Note \"g\">,\n",
       " <Note \"f\">,\n",
       " <Note \"e\">,\n",
       " <Note \"f2\">,\n",
       " <Note \"g\">,\n",
       " <Note \"a\">,\n",
       " <Note \"g\">,\n",
       " <Note \"f\">,\n",
       " <Note \"e2\">,\n",
       " <Note \"f\">,\n",
       " <Note \"g\">,\n",
       " <Note \"f\">,\n",
       " <Note \"e\">,\n",
       " <Note \"f\">,\n",
       " <Note \"e\">,\n",
       " <Note \"d\">,\n",
       " <Note \"c\">,\n",
       " <Note \"A\">,\n",
       " <Note \"G\">,\n",
       " <Note \"A\">,\n",
       " <Note \"d\">,\n",
       " <Note \"^c\">,\n",
       " <Note \"d3\">,\n",
       " <Note \"f2\">,\n",
       " <Note \"g\">,\n",
       " <Note \"e2\">,\n",
       " <Note \"f\">,\n",
       " <Note \"d2\">,\n",
       " <Note \"e\">,\n",
       " <Note \"c2\">,\n",
       " <Note \"d\">,\n",
       " <Note \"A\">,\n",
       " <Note \"B\">,\n",
       " <Note \"A\">,\n",
       " <Note \"G\">,\n",
       " <Note \"A\">,\n",
       " <Note \"G\">,\n",
       " <Note \"F2\">,\n",
       " <Note \"F\">,\n",
       " <Note \"G\">,\n",
       " <Note \"E\">,\n",
       " <Note \"D\">,\n",
       " <Note \"c3\">,\n",
       " <Note \"c\">,\n",
       " <Note \"A\">,\n",
       " <Note \"G\">,\n",
       " <Note \"A\">,\n",
       " <Note \"G\">,\n",
       " <Note \"A\">,\n",
       " <Note \"c\">,\n",
       " <Note \"d\">,\n",
       " <Note \"e\">,\n",
       " <Note \"f\">,\n",
       " <Note \"e\">,\n",
       " <Note \"d\">,\n",
       " <Note \"c\">,\n",
       " <Note \"A\">,\n",
       " <Note \"G\">,\n",
       " <Note \"A\">,\n",
       " <Note \"d\">,\n",
       " <Note \"^c\">,\n",
       " <Note \"d3\">]"
      ]
     },
     "execution_count": 13,
     "metadata": {},
     "output_type": "execute_result"
    }
   ],
   "source": [
    "tune.notes"
   ]
  },
  {
   "cell_type": "code",
   "execution_count": 14,
   "metadata": {
    "collapsed": true
   },
   "outputs": [],
   "source": [
    "note = tune.notes[6]\n",
    "pitch = note.pitch"
   ]
  },
  {
   "cell_type": "code",
   "execution_count": 15,
   "metadata": {},
   "outputs": [
    {
     "data": {
      "text/plain": [
       "9"
      ]
     },
     "execution_count": 15,
     "metadata": {},
     "output_type": "execute_result"
    }
   ],
   "source": [
    "pitch.abs_value"
   ]
  },
  {
   "cell_type": "code",
   "execution_count": 16,
   "metadata": {
    "collapsed": true
   },
   "outputs": [],
   "source": [
    "\n",
    "\n",
    "def transposeKey(key0,step):\n",
    "    from numpy import mod, floor_divide\n",
    "    inv_pitch_values={ pitch_values[n]:n for n in chromatic_notes }\n",
    "\n",
    "\n",
    "    mode = key0.mode\n",
    "    rootval0 = pitch_values[key0.root.name] + step\n",
    "    rootval = mod(rootval0,12)\n",
    "    root = inv_pitch_values[rootval]\n",
    "    \n",
    "    return Key(root=root,mode=mode)\n",
    "    "
   ]
  },
  {
   "cell_type": "code",
   "execution_count": 17,
   "metadata": {},
   "outputs": [
    {
     "data": {
      "text/plain": [
       "<pyabc.Tune at 0x108e7bc90>"
      ]
     },
     "execution_count": 17,
     "metadata": {},
     "output_type": "execute_result"
    }
   ],
   "source": [
    "tune"
   ]
  },
  {
   "cell_type": "code",
   "execution_count": 18,
   "metadata": {},
   "outputs": [
    {
     "data": {
      "text/plain": [
       "u'Dmixolydian'"
      ]
     },
     "execution_count": 18,
     "metadata": {},
     "output_type": "execute_result"
    }
   ],
   "source": [
    "tune.header['key']"
   ]
  },
  {
   "cell_type": "code",
   "execution_count": 19,
   "metadata": {},
   "outputs": [
    {
     "data": {
      "text/plain": [
       "[<Note \"f\">,\n",
       " <Note \"e\">,\n",
       " <Note \"d\">,\n",
       " <Space \" \">,\n",
       " <Note \"c\">,\n",
       " <Note \"A\">,\n",
       " <Note \"G\">,\n",
       " <Beam \"|\">,\n",
       " <Space \" \">,\n",
       " <Note \"A2\">,\n",
       " <Note \"d\">,\n",
       " <Space \" \">,\n",
       " <Note \"c\">,\n",
       " <Note \"A\">,\n",
       " <Note \"G\">,\n",
       " <Beam \"|\">,\n",
       " <Space \" \">,\n",
       " <Note \"F2\">,\n",
       " <Note \"D\">,\n",
       " <Space \" \">,\n",
       " <Note \"D\">,\n",
       " <Note \"E\">,\n",
       " <Note \"D\">,\n",
       " <Beam \"|\">,\n",
       " <Space \" \">,\n",
       " <Note \"F\">,\n",
       " <Note \"E\">,\n",
       " <Note \"F\">,\n",
       " <Space \" \">,\n",
       " <Note \"G\">,\n",
       " <Note \"F\">,\n",
       " <Note \"G\">,\n",
       " <Beam \"|\">,\n",
       " <Newline \"\n",
       " \">,\n",
       " <Note \"A\">,\n",
       " <Note \"G\">,\n",
       " <Note \"A\">,\n",
       " <Space \" \">,\n",
       " <Note \"c\">,\n",
       " <Note \"A\">,\n",
       " <Note \"G\">,\n",
       " <Beam \"|\">,\n",
       " <Space \" \">,\n",
       " <Note \"A\">,\n",
       " <Note \"G\">,\n",
       " <Note \"A\">,\n",
       " <Space \" \">,\n",
       " <Note \"c\">,\n",
       " <Note \"d\">,\n",
       " <Note \"e\">,\n",
       " <Beam \"|\">,\n",
       " <Note \"f\">,\n",
       " <Note \"e\">,\n",
       " <Note \"d\">,\n",
       " <Space \" \">,\n",
       " <Note \"c\">,\n",
       " <Note \"A\">,\n",
       " <Note \"G\">,\n",
       " <Beam \"|\">,\n",
       " <Space \" \">,\n",
       " <Note \"A\">,\n",
       " <Note \"d\">,\n",
       " <Note \"^c\">,\n",
       " <Space \" \">,\n",
       " <Note \"d3\">,\n",
       " <Beam \":|\">,\n",
       " <Newline \"\n",
       " \">,\n",
       " <Note \"f2\">,\n",
       " <Note \"d\">,\n",
       " <Space \" \">,\n",
       " <Note \"d\">,\n",
       " <Note \"^c\">,\n",
       " <Note \"d\">,\n",
       " <Beam \"|\">,\n",
       " <Space \" \">,\n",
       " <Note \"f2\">,\n",
       " <Note \"g\">,\n",
       " <Space \" \">,\n",
       " <Note \"a\">,\n",
       " <Note \"g\">,\n",
       " <Note \"f\">,\n",
       " <Beam \"|\">,\n",
       " <Space \" \">,\n",
       " <Note \"e2\">,\n",
       " <Note \"c\">,\n",
       " <Space \" \">,\n",
       " <Note \"c\">,\n",
       " <Note \"B\">,\n",
       " <Note \"c\">,\n",
       " <Beam \"|\">,\n",
       " <Note \"e2\">,\n",
       " <Note \"f\">,\n",
       " <Space \" \">,\n",
       " <Note \"g\">,\n",
       " <Note \"f\">,\n",
       " <Note \"e\">,\n",
       " <Beam \"|\">,\n",
       " <Newline \"\n",
       " \">,\n",
       " <Note \"f2\">,\n",
       " <Note \"g\">,\n",
       " <Space \" \">,\n",
       " <Note \"a\">,\n",
       " <Note \"g\">,\n",
       " <Note \"f\">,\n",
       " <Beam \"|\">,\n",
       " <Space \" \">,\n",
       " <Note \"e2\">,\n",
       " <Note \"f\">,\n",
       " <Space \" \">,\n",
       " <Note \"g\">,\n",
       " <Note \"f\">,\n",
       " <Note \"e\">,\n",
       " <Beam \"|\">,\n",
       " <Note \"f\">,\n",
       " <Note \"e\">,\n",
       " <Note \"d\">,\n",
       " <Space \" \">,\n",
       " <Note \"c\">,\n",
       " <Note \"A\">,\n",
       " <Note \"G\">,\n",
       " <Beam \"|\">,\n",
       " <Note \"A\">,\n",
       " <Note \"d\">,\n",
       " <Note \"^c\">,\n",
       " <Space \" \">,\n",
       " <Note \"d3\">,\n",
       " <Beam \":|\">,\n",
       " <Newline \"\n",
       " \">,\n",
       " <Note \"f2\">,\n",
       " <Note \"g\">,\n",
       " <Space \" \">,\n",
       " <Note \"e2\">,\n",
       " <Note \"f\">,\n",
       " <Beam \"|\">,\n",
       " <Space \" \">,\n",
       " <Note \"d2\">,\n",
       " <Note \"e\">,\n",
       " <Space \" \">,\n",
       " <Note \"c2\">,\n",
       " <Note \"d\">,\n",
       " <Beam \"|\">,\n",
       " <Note \"A\">,\n",
       " <Note \"B\">,\n",
       " <Note \"A\">,\n",
       " <Space \" \">,\n",
       " <Note \"G\">,\n",
       " <Note \"A\">,\n",
       " <Note \"G\">,\n",
       " <Beam \"|\">,\n",
       " <Space \" \">,\n",
       " <Note \"F2\">,\n",
       " <Note \"F\">,\n",
       " <Space \" \">,\n",
       " <Note \"G\">,\n",
       " <Note \"E\">,\n",
       " <Note \"D\">,\n",
       " <Beam \"|\">,\n",
       " <Newline \"\n",
       " \">,\n",
       " <Note \"c3\">,\n",
       " <Space \" \">,\n",
       " <Note \"c\">,\n",
       " <Note \"A\">,\n",
       " <Note \"G\">,\n",
       " <Beam \"|\">,\n",
       " <Space \" \">,\n",
       " <Note \"A\">,\n",
       " <Note \"G\">,\n",
       " <Note \"A\">,\n",
       " <Space \" \">,\n",
       " <Note \"c\">,\n",
       " <Note \"d\">,\n",
       " <Note \"e\">,\n",
       " <Beam \"|\">,\n",
       " <Space \" \">,\n",
       " <Note \"f\">,\n",
       " <Note \"e\">,\n",
       " <Note \"d\">,\n",
       " <Space \" \">,\n",
       " <Note \"c\">,\n",
       " <Note \"A\">,\n",
       " <Note \"G\">,\n",
       " <Beam \"|\">,\n",
       " <Space \" \">,\n",
       " <Note \"A\">,\n",
       " <Note \"d\">,\n",
       " <Note \"^c\">,\n",
       " <Space \" \">,\n",
       " <Note \"d3\">,\n",
       " <Beam \":|\">,\n",
       " <Newline \"\n",
       " \">]"
      ]
     },
     "execution_count": 19,
     "metadata": {},
     "output_type": "execute_result"
    }
   ],
   "source": [
    "tune.tokens"
   ]
  },
  {
   "cell_type": "code",
   "execution_count": 20,
   "metadata": {
    "collapsed": true
   },
   "outputs": [],
   "source": [
    "def isNote(x):\n",
    "    return isinstance(x,Note)\n",
    "\n",
    "def isBeam(x):\n",
    "    return isinstance(x,Beam)\n",
    "\n",
    "def simplifyTokens(tokens):\n",
    "    '''\n",
    "    Removes any elements that aren't notes or bars.\n",
    "    '''\n",
    "    results = []\n",
    "    for t in tokens:\n",
    "        if isNote(t) or isBeam(t):\n",
    "            results.append(t)\n",
    "        else:\n",
    "            pass\n",
    "    return results\n",
    "\n",
    "def findMeasures(tokens1):\n",
    "    '''\n",
    "    For now this requires that parts be repeating\n",
    "    '''\n",
    "    tokens = simplifyTokens(tokens1)\n",
    "    result = []\n",
    "    meas = []\n",
    "    for t in tokens:\n",
    "        if isBeam(t):\n",
    "            meas.append(t)\n",
    "            result.append(meas)\n",
    "            meas = []\n",
    "        else:\n",
    "            meas.append(t)\n",
    "    return result\n",
    "            \n",
    "        \n",
    "def findParts(measures):\n",
    "        \n",
    "    result = []\n",
    "    part = []\n",
    "    for m in measures:\n",
    "        if  ':|' in str(m[-1]):\n",
    "            part.append(m)\n",
    "            result.append(part)\n",
    "            part = []\n",
    "        else:\n",
    "            part.append(m)\n",
    "    return result\n",
    "    \n",
    "    "
   ]
  },
  {
   "cell_type": "code",
   "execution_count": 21,
   "metadata": {},
   "outputs": [
    {
     "data": {
      "text/plain": [
       "[[<Note \"f\">,\n",
       "  <Note \"e\">,\n",
       "  <Note \"d\">,\n",
       "  <Note \"c\">,\n",
       "  <Note \"A\">,\n",
       "  <Note \"G\">,\n",
       "  <Beam \"|\">],\n",
       " [<Note \"A2\">, <Note \"d\">, <Note \"c\">, <Note \"A\">, <Note \"G\">, <Beam \"|\">],\n",
       " [<Note \"F2\">, <Note \"D\">, <Note \"D\">, <Note \"E\">, <Note \"D\">, <Beam \"|\">],\n",
       " [<Note \"F\">,\n",
       "  <Note \"E\">,\n",
       "  <Note \"F\">,\n",
       "  <Note \"G\">,\n",
       "  <Note \"F\">,\n",
       "  <Note \"G\">,\n",
       "  <Beam \"|\">],\n",
       " [<Note \"A\">,\n",
       "  <Note \"G\">,\n",
       "  <Note \"A\">,\n",
       "  <Note \"c\">,\n",
       "  <Note \"A\">,\n",
       "  <Note \"G\">,\n",
       "  <Beam \"|\">],\n",
       " [<Note \"A\">,\n",
       "  <Note \"G\">,\n",
       "  <Note \"A\">,\n",
       "  <Note \"c\">,\n",
       "  <Note \"d\">,\n",
       "  <Note \"e\">,\n",
       "  <Beam \"|\">],\n",
       " [<Note \"f\">,\n",
       "  <Note \"e\">,\n",
       "  <Note \"d\">,\n",
       "  <Note \"c\">,\n",
       "  <Note \"A\">,\n",
       "  <Note \"G\">,\n",
       "  <Beam \"|\">],\n",
       " [<Note \"A\">, <Note \"d\">, <Note \"^c\">, <Note \"d3\">, <Beam \":|\">],\n",
       " [<Note \"f2\">, <Note \"d\">, <Note \"d\">, <Note \"^c\">, <Note \"d\">, <Beam \"|\">],\n",
       " [<Note \"f2\">, <Note \"g\">, <Note \"a\">, <Note \"g\">, <Note \"f\">, <Beam \"|\">],\n",
       " [<Note \"e2\">, <Note \"c\">, <Note \"c\">, <Note \"B\">, <Note \"c\">, <Beam \"|\">],\n",
       " [<Note \"e2\">, <Note \"f\">, <Note \"g\">, <Note \"f\">, <Note \"e\">, <Beam \"|\">],\n",
       " [<Note \"f2\">, <Note \"g\">, <Note \"a\">, <Note \"g\">, <Note \"f\">, <Beam \"|\">],\n",
       " [<Note \"e2\">, <Note \"f\">, <Note \"g\">, <Note \"f\">, <Note \"e\">, <Beam \"|\">],\n",
       " [<Note \"f\">,\n",
       "  <Note \"e\">,\n",
       "  <Note \"d\">,\n",
       "  <Note \"c\">,\n",
       "  <Note \"A\">,\n",
       "  <Note \"G\">,\n",
       "  <Beam \"|\">],\n",
       " [<Note \"A\">, <Note \"d\">, <Note \"^c\">, <Note \"d3\">, <Beam \":|\">],\n",
       " [<Note \"f2\">, <Note \"g\">, <Note \"e2\">, <Note \"f\">, <Beam \"|\">],\n",
       " [<Note \"d2\">, <Note \"e\">, <Note \"c2\">, <Note \"d\">, <Beam \"|\">],\n",
       " [<Note \"A\">,\n",
       "  <Note \"B\">,\n",
       "  <Note \"A\">,\n",
       "  <Note \"G\">,\n",
       "  <Note \"A\">,\n",
       "  <Note \"G\">,\n",
       "  <Beam \"|\">],\n",
       " [<Note \"F2\">, <Note \"F\">, <Note \"G\">, <Note \"E\">, <Note \"D\">, <Beam \"|\">],\n",
       " [<Note \"c3\">, <Note \"c\">, <Note \"A\">, <Note \"G\">, <Beam \"|\">],\n",
       " [<Note \"A\">,\n",
       "  <Note \"G\">,\n",
       "  <Note \"A\">,\n",
       "  <Note \"c\">,\n",
       "  <Note \"d\">,\n",
       "  <Note \"e\">,\n",
       "  <Beam \"|\">],\n",
       " [<Note \"f\">,\n",
       "  <Note \"e\">,\n",
       "  <Note \"d\">,\n",
       "  <Note \"c\">,\n",
       "  <Note \"A\">,\n",
       "  <Note \"G\">,\n",
       "  <Beam \"|\">],\n",
       " [<Note \"A\">, <Note \"d\">, <Note \"^c\">, <Note \"d3\">, <Beam \":|\">]]"
      ]
     },
     "execution_count": 21,
     "metadata": {},
     "output_type": "execute_result"
    }
   ],
   "source": [
    "measures = findMeasures(tune.tokens)\n",
    "measures"
   ]
  },
  {
   "cell_type": "code",
   "execution_count": 22,
   "metadata": {},
   "outputs": [
    {
     "name": "stdout",
     "output_type": "stream",
     "text": [
      "3 parts\n",
      "16.0 bars\n",
      "16.0 bars\n",
      "16.0 bars\n"
     ]
    }
   ],
   "source": [
    "parts = findParts(measures)\n",
    "print len(parts), 'parts'\n",
    "for p in parts:\n",
    "    print 2.*len(p), 'bars'"
   ]
  },
  {
   "cell_type": "code",
   "execution_count": 23,
   "metadata": {},
   "outputs": [
    {
     "data": {
      "text/plain": [
       "<Note \"A\">"
      ]
     },
     "execution_count": 23,
     "metadata": {},
     "output_type": "execute_result"
    }
   ],
   "source": [
    "tune.tokens[13]"
   ]
  },
  {
   "cell_type": "code",
   "execution_count": 24,
   "metadata": {},
   "outputs": [
    {
     "name": "stdout",
     "output_type": "stream",
     "text": [
      "6.0 8.0 0.25\n",
      "[<Note \"f\">, <Note \"e\">, <Note \"d\">, <Note \"c\">, <Note \"A\">, <Note \"G\">, <Beam \"|\">]\n",
      "[ 18.  18.  18.  18.  16.  16.  16.  16.  14.  14.  14.  14.  12.  12.  12.\n",
      "  12.   9.   9.   9.   9.   7.   7.   7.   7.]\n",
      "[ 16.  16.  16.  16.  14.  14.  14.  14.  12.  12.  12.  12.  10.  10.  10.\n",
      "  10.   7.   7.   7.   7.   5.   5.   5.   5.]\n",
      "[ 11.  11.  11.  11.   9.   9.   9.   9.   7.   7.   7.   7.   5.   5.   5.\n",
      "   5.   2.   2.   2.   2.   0.   0.   0.   0.]\n",
      "[ 6.  6.  6.  6.  4.  4.  4.  4.  2.  2.  2.  2.  0.  0.  0.  0.  9.  9.\n",
      "  9.  9.  7.  7.  7.  7.]\n"
     ]
    }
   ],
   "source": [
    "incnote = 32\n",
    "measure = measures[0]\n",
    "meter = tune.header['meter']\n",
    "key = Key(tune.header['key'])\n",
    "beat_mult = float(meter.split('/')[0])\n",
    "beat_value = float(meter.split('/')[1])\n",
    "incdur = 1. * beat_value / incnote\n",
    "print beat_mult, beat_value, incdur\n",
    "\n",
    "lm = []\n",
    "for x in measure:\n",
    "    if isinstance(x,Note):\n",
    "        #print x.pitch.value, x.duration, int(np.round(x.duration / incdur))\n",
    "        ndigits = int(np.round(x.duration / incdur))\n",
    "        lm += [x.pitch.value + 12.*x.pitch.octave for i in range(ndigits)]\n",
    "\n",
    "marr = np.array(lm)\n",
    "\n",
    "\n",
    "marr_abs = marr\n",
    "marr_rel_root  = marr_abs - key.root.value\n",
    "marr_rel_ionian = marr_abs - key.relative_ionian.root.value\n",
    "\n",
    "print measure\n",
    "print marr_abs\n",
    "print marr_rel_root\n",
    "print marr_rel_ionian\n",
    "\n",
    "print np.mod(marr_abs,12.)"
   ]
  },
  {
   "cell_type": "code",
   "execution_count": 25,
   "metadata": {
    "collapsed": true
   },
   "outputs": [],
   "source": [
    "class digitizedTune(object):\n",
    "    def __init__(self,json=None,tune=None,incnote=32):\n",
    "        if json is not None:\n",
    "            self.json = json\n",
    "            pyabc.Tune(json=self.json)\n",
    "            self.pyabcTune = tune\n",
    "            \n",
    "        if tune is not None:\n",
    "            self.pyabcTune = tune\n",
    "            self.tokens = tune.tokens\n",
    "            \n",
    "            measures = findMeasures(self.tokens)\n",
    "            parts = findParts(measures)\n",
    "            self.num_parts =  len(parts)\n",
    "            la = []\n",
    "            for p in parts:\n",
    "                la.append( 2.*len(p)) # Note simplified version assumes repeating parts.\n",
    "            \n",
    "            self.bars = np.array(la) # array of number of bars for part\n",
    "            self.total_bars = np.sum(self.bars)\n",
    "            \n",
    "            self.key = Key(tune.header['key'])\n",
    "            self.meter = tune.header['meter']\n",
    "            self.beat_mult = float(self.meter.split('/')[0])\n",
    "            self.incnote = incnote\n",
    "            self.incdur = 1. * beat_value / incnote\n",
    "            \n",
    "            dtune = []\n",
    "            for p in parts:\n",
    "                dpart = []\n",
    "                for m in p:\n",
    "                    dmeas = self.digitizeMeasure(m)\n",
    "                    dpart.append(dmeas)\n",
    "                    \n",
    "                dtune.append(dpart)\n",
    "            \n",
    "            self.tune = dtune\n",
    "            \n",
    "    def part(self,n):\n",
    "        assert n < self.num_parts\n",
    "        return self.tune[n]\n",
    "\n",
    "    def measure(self,np,nm):\n",
    "        assert np < self.numparts\n",
    "        assert nm < len(self.tune[np])\n",
    "        return self.tune[np][nm]\n",
    "\n",
    "        #incnote = 32\n",
    "    def digitizeMeasure(self,measure):\n",
    "\n",
    "        lm = []\n",
    "        for x in measure:\n",
    "            if isinstance(x,Note):\n",
    "                #print x.pitch.value, x.duration, int(np.round(x.duration / incdur))\n",
    "                ndigits = int(np.round(x.duration / self.incdur))\n",
    "                lm += [x.pitch.value + 12.*x.pitch.octave for i in range(ndigits)]\n",
    "\n",
    "        marr = np.array(lm)\n",
    "        #marr_rel_root  = marr_abs - key.root.value\n",
    "        #marr_rel_ionian = marr_abs - key.relative_ionian.root.value\n",
    "        return marr\n",
    "\n",
    "    def isNote(x):\n",
    "        return isinstance(x,Note)\n",
    "\n",
    "    def isBeam(x):\n",
    "        return isinstance(x,Beam)\n",
    "\n",
    "    def simplifyTokens(self,tokens):\n",
    "        '''\n",
    "        Removes any elements that aren't notes or bars.\n",
    "        '''\n",
    "        results = []\n",
    "        for t in tokens:\n",
    "            if isNote(t) or isBeam(t):\n",
    "                results.append(t)\n",
    "            else:\n",
    "                pass\n",
    "        return results\n",
    "\n",
    "    def findMeasures(self,tokens1):\n",
    "        '''\n",
    "        For now this requires that parts be repeating\n",
    "        '''\n",
    "        tokens = simplifyTokens(tokens1)\n",
    "        result = []\n",
    "        meas = []\n",
    "        for t in tokens:\n",
    "            if isBeam(t):\n",
    "                meas.append(t)\n",
    "                result.append(meas)\n",
    "                meas = []\n",
    "            else:\n",
    "                meas.append(t)\n",
    "        return result\n",
    "\n",
    "\n",
    "    def findParts(self,measures):\n",
    "\n",
    "        result = []\n",
    "        part = []\n",
    "        for m in measures:\n",
    "            if  ':|' in str(m[-1]):\n",
    "                part.append(m)\n",
    "                result.append(part)\n",
    "                part = []\n",
    "            else:\n",
    "                part.append(m)\n",
    "        return result\n",
    "    \n",
    "            "
   ]
  },
  {
   "cell_type": "code",
   "execution_count": 26,
   "metadata": {
    "collapsed": true
   },
   "outputs": [],
   "source": [
    "dtune = digitizedTune(tune=tune)"
   ]
  },
  {
   "cell_type": "code",
   "execution_count": 27,
   "metadata": {},
   "outputs": [
    {
     "data": {
      "text/plain": [
       "[array([ 18.,  18.,  18.,  18.,  16.,  16.,  16.,  16.,  14.,  14.,  14.,\n",
       "         14.,  12.,  12.,  12.,  12.,   9.,   9.,   9.,   9.,   7.,   7.,\n",
       "          7.,   7.]),\n",
       " array([  9.,   9.,   9.,   9.,   9.,   9.,   9.,   9.,  14.,  14.,  14.,\n",
       "         14.,  12.,  12.,  12.,  12.,   9.,   9.,   9.,   9.,   7.,   7.,\n",
       "          7.,   7.]),\n",
       " array([ 6.,  6.,  6.,  6.,  6.,  6.,  6.,  6.,  2.,  2.,  2.,  2.,  2.,\n",
       "         2.,  2.,  2.,  4.,  4.,  4.,  4.,  2.,  2.,  2.,  2.]),\n",
       " array([ 6.,  6.,  6.,  6.,  4.,  4.,  4.,  4.,  6.,  6.,  6.,  6.,  7.,\n",
       "         7.,  7.,  7.,  6.,  6.,  6.,  6.,  7.,  7.,  7.,  7.]),\n",
       " array([  9.,   9.,   9.,   9.,   7.,   7.,   7.,   7.,   9.,   9.,   9.,\n",
       "          9.,  12.,  12.,  12.,  12.,   9.,   9.,   9.,   9.,   7.,   7.,\n",
       "          7.,   7.]),\n",
       " array([  9.,   9.,   9.,   9.,   7.,   7.,   7.,   7.,   9.,   9.,   9.,\n",
       "          9.,  12.,  12.,  12.,  12.,  14.,  14.,  14.,  14.,  16.,  16.,\n",
       "         16.,  16.]),\n",
       " array([ 18.,  18.,  18.,  18.,  16.,  16.,  16.,  16.,  14.,  14.,  14.,\n",
       "         14.,  12.,  12.,  12.,  12.,   9.,   9.,   9.,   9.,   7.,   7.,\n",
       "          7.,   7.]),\n",
       " array([  9.,   9.,   9.,   9.,  14.,  14.,  14.,  14.,  12.,  12.,  12.,\n",
       "         12.,  14.,  14.,  14.,  14.,  14.,  14.,  14.,  14.,  14.,  14.,\n",
       "         14.,  14.])]"
      ]
     },
     "execution_count": 27,
     "metadata": {},
     "output_type": "execute_result"
    }
   ],
   "source": [
    "dtune.tune\n",
    "dtune.part(0)"
   ]
  },
  {
   "cell_type": "code",
   "execution_count": 28,
   "metadata": {},
   "outputs": [
    {
     "data": {
      "text/plain": [
       "[<Note \"f\">,\n",
       " <Note \"e\">,\n",
       " <Note \"d\">,\n",
       " <Space \" \">,\n",
       " <Note \"c\">,\n",
       " <Note \"A\">,\n",
       " <Note \"G\">,\n",
       " <Beam \"|\">,\n",
       " <Space \" \">,\n",
       " <Note \"A2\">,\n",
       " <Note \"d\">,\n",
       " <Space \" \">,\n",
       " <Note \"c\">,\n",
       " <Note \"A\">,\n",
       " <Note \"G\">,\n",
       " <Beam \"|\">,\n",
       " <Space \" \">,\n",
       " <Note \"F2\">,\n",
       " <Note \"D\">,\n",
       " <Space \" \">,\n",
       " <Note \"D\">,\n",
       " <Note \"E\">,\n",
       " <Note \"D\">,\n",
       " <Beam \"|\">,\n",
       " <Space \" \">,\n",
       " <Note \"F\">,\n",
       " <Note \"E\">,\n",
       " <Note \"F\">,\n",
       " <Space \" \">,\n",
       " <Note \"G\">,\n",
       " <Note \"F\">,\n",
       " <Note \"G\">,\n",
       " <Beam \"|\">,\n",
       " <Newline \"\n",
       " \">,\n",
       " <Note \"A\">,\n",
       " <Note \"G\">,\n",
       " <Note \"A\">,\n",
       " <Space \" \">,\n",
       " <Note \"c\">,\n",
       " <Note \"A\">,\n",
       " <Note \"G\">,\n",
       " <Beam \"|\">,\n",
       " <Space \" \">,\n",
       " <Note \"A\">,\n",
       " <Note \"G\">,\n",
       " <Note \"A\">,\n",
       " <Space \" \">,\n",
       " <Note \"c\">,\n",
       " <Note \"d\">,\n",
       " <Note \"e\">,\n",
       " <Beam \"|\">,\n",
       " <Note \"f\">,\n",
       " <Note \"e\">,\n",
       " <Note \"d\">,\n",
       " <Space \" \">,\n",
       " <Note \"c\">,\n",
       " <Note \"A\">,\n",
       " <Note \"G\">,\n",
       " <Beam \"|\">,\n",
       " <Space \" \">,\n",
       " <Note \"A\">,\n",
       " <Note \"d\">,\n",
       " <Note \"^c\">,\n",
       " <Space \" \">,\n",
       " <Note \"d3\">,\n",
       " <Beam \":|\">,\n",
       " <Newline \"\n",
       " \">,\n",
       " <Note \"f2\">,\n",
       " <Note \"d\">,\n",
       " <Space \" \">,\n",
       " <Note \"d\">,\n",
       " <Note \"^c\">,\n",
       " <Note \"d\">,\n",
       " <Beam \"|\">,\n",
       " <Space \" \">,\n",
       " <Note \"f2\">,\n",
       " <Note \"g\">,\n",
       " <Space \" \">,\n",
       " <Note \"a\">,\n",
       " <Note \"g\">,\n",
       " <Note \"f\">,\n",
       " <Beam \"|\">,\n",
       " <Space \" \">,\n",
       " <Note \"e2\">,\n",
       " <Note \"c\">,\n",
       " <Space \" \">,\n",
       " <Note \"c\">,\n",
       " <Note \"B\">,\n",
       " <Note \"c\">,\n",
       " <Beam \"|\">,\n",
       " <Note \"e2\">,\n",
       " <Note \"f\">,\n",
       " <Space \" \">,\n",
       " <Note \"g\">,\n",
       " <Note \"f\">,\n",
       " <Note \"e\">,\n",
       " <Beam \"|\">,\n",
       " <Newline \"\n",
       " \">,\n",
       " <Note \"f2\">,\n",
       " <Note \"g\">,\n",
       " <Space \" \">,\n",
       " <Note \"a\">,\n",
       " <Note \"g\">,\n",
       " <Note \"f\">,\n",
       " <Beam \"|\">,\n",
       " <Space \" \">,\n",
       " <Note \"e2\">,\n",
       " <Note \"f\">,\n",
       " <Space \" \">,\n",
       " <Note \"g\">,\n",
       " <Note \"f\">,\n",
       " <Note \"e\">,\n",
       " <Beam \"|\">,\n",
       " <Note \"f\">,\n",
       " <Note \"e\">,\n",
       " <Note \"d\">,\n",
       " <Space \" \">,\n",
       " <Note \"c\">,\n",
       " <Note \"A\">,\n",
       " <Note \"G\">,\n",
       " <Beam \"|\">,\n",
       " <Note \"A\">,\n",
       " <Note \"d\">,\n",
       " <Note \"^c\">,\n",
       " <Space \" \">,\n",
       " <Note \"d3\">,\n",
       " <Beam \":|\">,\n",
       " <Newline \"\n",
       " \">,\n",
       " <Note \"f2\">,\n",
       " <Note \"g\">,\n",
       " <Space \" \">,\n",
       " <Note \"e2\">,\n",
       " <Note \"f\">,\n",
       " <Beam \"|\">,\n",
       " <Space \" \">,\n",
       " <Note \"d2\">,\n",
       " <Note \"e\">,\n",
       " <Space \" \">,\n",
       " <Note \"c2\">,\n",
       " <Note \"d\">,\n",
       " <Beam \"|\">,\n",
       " <Note \"A\">,\n",
       " <Note \"B\">,\n",
       " <Note \"A\">,\n",
       " <Space \" \">,\n",
       " <Note \"G\">,\n",
       " <Note \"A\">,\n",
       " <Note \"G\">,\n",
       " <Beam \"|\">,\n",
       " <Space \" \">,\n",
       " <Note \"F2\">,\n",
       " <Note \"F\">,\n",
       " <Space \" \">,\n",
       " <Note \"G\">,\n",
       " <Note \"E\">,\n",
       " <Note \"D\">,\n",
       " <Beam \"|\">,\n",
       " <Newline \"\n",
       " \">,\n",
       " <Note \"c3\">,\n",
       " <Space \" \">,\n",
       " <Note \"c\">,\n",
       " <Note \"A\">,\n",
       " <Note \"G\">,\n",
       " <Beam \"|\">,\n",
       " <Space \" \">,\n",
       " <Note \"A\">,\n",
       " <Note \"G\">,\n",
       " <Note \"A\">,\n",
       " <Space \" \">,\n",
       " <Note \"c\">,\n",
       " <Note \"d\">,\n",
       " <Note \"e\">,\n",
       " <Beam \"|\">,\n",
       " <Space \" \">,\n",
       " <Note \"f\">,\n",
       " <Note \"e\">,\n",
       " <Note \"d\">,\n",
       " <Space \" \">,\n",
       " <Note \"c\">,\n",
       " <Note \"A\">,\n",
       " <Note \"G\">,\n",
       " <Beam \"|\">,\n",
       " <Space \" \">,\n",
       " <Note \"A\">,\n",
       " <Note \"d\">,\n",
       " <Note \"^c\">,\n",
       " <Space \" \">,\n",
       " <Note \"d3\">,\n",
       " <Beam \":|\">,\n",
       " <Newline \"\n",
       " \">]"
      ]
     },
     "execution_count": 28,
     "metadata": {},
     "output_type": "execute_result"
    }
   ],
   "source": [
    "tune.tokens"
   ]
  },
  {
   "cell_type": "code",
   "execution_count": 29,
   "metadata": {},
   "outputs": [
    {
     "data": {
      "text/plain": [
       "{'A': 9,\n",
       " 'A#': 10,\n",
       " 'Ab': 8,\n",
       " 'B': 11,\n",
       " 'B#': 12,\n",
       " 'Bb': 10,\n",
       " 'C': 0,\n",
       " 'C#': 1,\n",
       " 'Cb': -1,\n",
       " 'D': 2,\n",
       " 'D#': 3,\n",
       " 'Db': 1,\n",
       " 'E': 4,\n",
       " 'E#': 5,\n",
       " 'Eb': 3,\n",
       " 'F': 5,\n",
       " 'F#': 6,\n",
       " 'Fb': 4,\n",
       " 'G': 7,\n",
       " 'G#': 8,\n",
       " 'Gb': 6}"
      ]
     },
     "execution_count": 29,
     "metadata": {},
     "output_type": "execute_result"
    }
   ],
   "source": [
    "pitch_values"
   ]
  },
  {
   "cell_type": "code",
   "execution_count": 30,
   "metadata": {},
   "outputs": [
    {
     "data": {
      "text/plain": [
       "(2, 1)"
      ]
     },
     "execution_count": 30,
     "metadata": {},
     "output_type": "execute_result"
    }
   ],
   "source": [
    "note.length"
   ]
  },
  {
   "cell_type": "code",
   "execution_count": 31,
   "metadata": {},
   "outputs": [
    {
     "data": {
      "text/plain": [
       "<Key D mixolydian>"
      ]
     },
     "execution_count": 31,
     "metadata": {},
     "output_type": "execute_result"
    }
   ],
   "source": [
    "note.key"
   ]
  },
  {
   "cell_type": "code",
   "execution_count": 32,
   "metadata": {},
   "outputs": [
    {
     "data": {
      "text/plain": [
       "<Pitch A>"
      ]
     },
     "execution_count": 32,
     "metadata": {},
     "output_type": "execute_result"
    }
   ],
   "source": [
    "note.pitch"
   ]
  },
  {
   "cell_type": "code",
   "execution_count": 33,
   "metadata": {},
   "outputs": [
    {
     "data": {
      "text/plain": [
       "<Pitch A>"
      ]
     },
     "execution_count": 33,
     "metadata": {},
     "output_type": "execute_result"
    }
   ],
   "source": [
    "note.pitch"
   ]
  },
  {
   "cell_type": "code",
   "execution_count": 34,
   "metadata": {},
   "outputs": [
    {
     "data": {
      "text/plain": [
       "<Pitch A>"
      ]
     },
     "execution_count": 34,
     "metadata": {},
     "output_type": "execute_result"
    }
   ],
   "source": [
    "note.pitch"
   ]
  },
  {
   "cell_type": "code",
   "execution_count": 35,
   "metadata": {},
   "outputs": [
    {
     "data": {
      "text/plain": [
       "9"
      ]
     },
     "execution_count": 35,
     "metadata": {},
     "output_type": "execute_result"
    }
   ],
   "source": [
    "note.pitch.value"
   ]
  },
  {
   "cell_type": "code",
   "execution_count": 36,
   "metadata": {},
   "outputs": [
    {
     "data": {
      "text/plain": [
       "<function pyabc.pitch_value>"
      ]
     },
     "execution_count": 36,
     "metadata": {},
     "output_type": "execute_result"
    }
   ],
   "source": [
    "note.pitch.pitch_value"
   ]
  },
  {
   "cell_type": "code",
   "execution_count": 37,
   "metadata": {},
   "outputs": [
    {
     "data": {
      "text/plain": [
       "9"
      ]
     },
     "execution_count": 37,
     "metadata": {},
     "output_type": "execute_result"
    }
   ],
   "source": [
    "note.pitch.value"
   ]
  },
  {
   "cell_type": "code",
   "execution_count": 38,
   "metadata": {},
   "outputs": [
    {
     "data": {
      "text/plain": [
       "0"
      ]
     },
     "execution_count": 38,
     "metadata": {},
     "output_type": "execute_result"
    }
   ],
   "source": [
    "note.pitch.octave"
   ]
  },
  {
   "cell_type": "code",
   "execution_count": 39,
   "metadata": {
    "collapsed": true
   },
   "outputs": [],
   "source": [
    "isinstance?"
   ]
  },
  {
   "cell_type": "code",
   "execution_count": 40,
   "metadata": {},
   "outputs": [
    {
     "data": {
      "text/plain": [
       "[[<Note \"f\">,\n",
       "  <Note \"e\">,\n",
       "  <Note \"d\">,\n",
       "  <Note \"c\">,\n",
       "  <Note \"A\">,\n",
       "  <Note \"G\">,\n",
       "  <Beam \"|\">],\n",
       " [<Note \"A2\">, <Note \"d\">, <Note \"c\">, <Note \"A\">, <Note \"G\">, <Beam \"|\">],\n",
       " [<Note \"F2\">, <Note \"D\">, <Note \"D\">, <Note \"E\">, <Note \"D\">, <Beam \"|\">],\n",
       " [<Note \"F\">,\n",
       "  <Note \"E\">,\n",
       "  <Note \"F\">,\n",
       "  <Note \"G\">,\n",
       "  <Note \"F\">,\n",
       "  <Note \"G\">,\n",
       "  <Beam \"|\">],\n",
       " [<Note \"A\">,\n",
       "  <Note \"G\">,\n",
       "  <Note \"A\">,\n",
       "  <Note \"c\">,\n",
       "  <Note \"A\">,\n",
       "  <Note \"G\">,\n",
       "  <Beam \"|\">],\n",
       " [<Note \"A\">,\n",
       "  <Note \"G\">,\n",
       "  <Note \"A\">,\n",
       "  <Note \"c\">,\n",
       "  <Note \"d\">,\n",
       "  <Note \"e\">,\n",
       "  <Beam \"|\">],\n",
       " [<Note \"f\">,\n",
       "  <Note \"e\">,\n",
       "  <Note \"d\">,\n",
       "  <Note \"c\">,\n",
       "  <Note \"A\">,\n",
       "  <Note \"G\">,\n",
       "  <Beam \"|\">],\n",
       " [<Note \"A\">, <Note \"d\">, <Note \"^c\">, <Note \"d3\">, <Beam \":|\">],\n",
       " [<Note \"f2\">, <Note \"d\">, <Note \"d\">, <Note \"^c\">, <Note \"d\">, <Beam \"|\">],\n",
       " [<Note \"f2\">, <Note \"g\">, <Note \"a\">, <Note \"g\">, <Note \"f\">, <Beam \"|\">],\n",
       " [<Note \"e2\">, <Note \"c\">, <Note \"c\">, <Note \"B\">, <Note \"c\">, <Beam \"|\">],\n",
       " [<Note \"e2\">, <Note \"f\">, <Note \"g\">, <Note \"f\">, <Note \"e\">, <Beam \"|\">],\n",
       " [<Note \"f2\">, <Note \"g\">, <Note \"a\">, <Note \"g\">, <Note \"f\">, <Beam \"|\">],\n",
       " [<Note \"e2\">, <Note \"f\">, <Note \"g\">, <Note \"f\">, <Note \"e\">, <Beam \"|\">],\n",
       " [<Note \"f\">,\n",
       "  <Note \"e\">,\n",
       "  <Note \"d\">,\n",
       "  <Note \"c\">,\n",
       "  <Note \"A\">,\n",
       "  <Note \"G\">,\n",
       "  <Beam \"|\">],\n",
       " [<Note \"A\">, <Note \"d\">, <Note \"^c\">, <Note \"d3\">, <Beam \":|\">],\n",
       " [<Note \"f2\">, <Note \"g\">, <Note \"e2\">, <Note \"f\">, <Beam \"|\">],\n",
       " [<Note \"d2\">, <Note \"e\">, <Note \"c2\">, <Note \"d\">, <Beam \"|\">],\n",
       " [<Note \"A\">,\n",
       "  <Note \"B\">,\n",
       "  <Note \"A\">,\n",
       "  <Note \"G\">,\n",
       "  <Note \"A\">,\n",
       "  <Note \"G\">,\n",
       "  <Beam \"|\">],\n",
       " [<Note \"F2\">, <Note \"F\">, <Note \"G\">, <Note \"E\">, <Note \"D\">, <Beam \"|\">],\n",
       " [<Note \"c3\">, <Note \"c\">, <Note \"A\">, <Note \"G\">, <Beam \"|\">],\n",
       " [<Note \"A\">,\n",
       "  <Note \"G\">,\n",
       "  <Note \"A\">,\n",
       "  <Note \"c\">,\n",
       "  <Note \"d\">,\n",
       "  <Note \"e\">,\n",
       "  <Beam \"|\">],\n",
       " [<Note \"f\">,\n",
       "  <Note \"e\">,\n",
       "  <Note \"d\">,\n",
       "  <Note \"c\">,\n",
       "  <Note \"A\">,\n",
       "  <Note \"G\">,\n",
       "  <Beam \"|\">],\n",
       " [<Note \"A\">, <Note \"d\">, <Note \"^c\">, <Note \"d3\">, <Beam \":|\">]]"
      ]
     },
     "execution_count": 40,
     "metadata": {},
     "output_type": "execute_result"
    }
   ],
   "source": [
    "measures"
   ]
  },
  {
   "cell_type": "code",
   "execution_count": 41,
   "metadata": {},
   "outputs": [
    {
     "data": {
      "text/plain": [
       "[[[<Note \"f\">,\n",
       "   <Note \"e\">,\n",
       "   <Note \"d\">,\n",
       "   <Note \"c\">,\n",
       "   <Note \"A\">,\n",
       "   <Note \"G\">,\n",
       "   <Beam \"|\">],\n",
       "  [<Note \"A2\">, <Note \"d\">, <Note \"c\">, <Note \"A\">, <Note \"G\">, <Beam \"|\">],\n",
       "  [<Note \"F2\">, <Note \"D\">, <Note \"D\">, <Note \"E\">, <Note \"D\">, <Beam \"|\">],\n",
       "  [<Note \"F\">,\n",
       "   <Note \"E\">,\n",
       "   <Note \"F\">,\n",
       "   <Note \"G\">,\n",
       "   <Note \"F\">,\n",
       "   <Note \"G\">,\n",
       "   <Beam \"|\">],\n",
       "  [<Note \"A\">,\n",
       "   <Note \"G\">,\n",
       "   <Note \"A\">,\n",
       "   <Note \"c\">,\n",
       "   <Note \"A\">,\n",
       "   <Note \"G\">,\n",
       "   <Beam \"|\">],\n",
       "  [<Note \"A\">,\n",
       "   <Note \"G\">,\n",
       "   <Note \"A\">,\n",
       "   <Note \"c\">,\n",
       "   <Note \"d\">,\n",
       "   <Note \"e\">,\n",
       "   <Beam \"|\">],\n",
       "  [<Note \"f\">,\n",
       "   <Note \"e\">,\n",
       "   <Note \"d\">,\n",
       "   <Note \"c\">,\n",
       "   <Note \"A\">,\n",
       "   <Note \"G\">,\n",
       "   <Beam \"|\">],\n",
       "  [<Note \"A\">, <Note \"d\">, <Note \"^c\">, <Note \"d3\">, <Beam \":|\">]],\n",
       " [[<Note \"f2\">, <Note \"d\">, <Note \"d\">, <Note \"^c\">, <Note \"d\">, <Beam \"|\">],\n",
       "  [<Note \"f2\">, <Note \"g\">, <Note \"a\">, <Note \"g\">, <Note \"f\">, <Beam \"|\">],\n",
       "  [<Note \"e2\">, <Note \"c\">, <Note \"c\">, <Note \"B\">, <Note \"c\">, <Beam \"|\">],\n",
       "  [<Note \"e2\">, <Note \"f\">, <Note \"g\">, <Note \"f\">, <Note \"e\">, <Beam \"|\">],\n",
       "  [<Note \"f2\">, <Note \"g\">, <Note \"a\">, <Note \"g\">, <Note \"f\">, <Beam \"|\">],\n",
       "  [<Note \"e2\">, <Note \"f\">, <Note \"g\">, <Note \"f\">, <Note \"e\">, <Beam \"|\">],\n",
       "  [<Note \"f\">,\n",
       "   <Note \"e\">,\n",
       "   <Note \"d\">,\n",
       "   <Note \"c\">,\n",
       "   <Note \"A\">,\n",
       "   <Note \"G\">,\n",
       "   <Beam \"|\">],\n",
       "  [<Note \"A\">, <Note \"d\">, <Note \"^c\">, <Note \"d3\">, <Beam \":|\">]],\n",
       " [[<Note \"f2\">, <Note \"g\">, <Note \"e2\">, <Note \"f\">, <Beam \"|\">],\n",
       "  [<Note \"d2\">, <Note \"e\">, <Note \"c2\">, <Note \"d\">, <Beam \"|\">],\n",
       "  [<Note \"A\">,\n",
       "   <Note \"B\">,\n",
       "   <Note \"A\">,\n",
       "   <Note \"G\">,\n",
       "   <Note \"A\">,\n",
       "   <Note \"G\">,\n",
       "   <Beam \"|\">],\n",
       "  [<Note \"F2\">, <Note \"F\">, <Note \"G\">, <Note \"E\">, <Note \"D\">, <Beam \"|\">],\n",
       "  [<Note \"c3\">, <Note \"c\">, <Note \"A\">, <Note \"G\">, <Beam \"|\">],\n",
       "  [<Note \"A\">,\n",
       "   <Note \"G\">,\n",
       "   <Note \"A\">,\n",
       "   <Note \"c\">,\n",
       "   <Note \"d\">,\n",
       "   <Note \"e\">,\n",
       "   <Beam \"|\">],\n",
       "  [<Note \"f\">,\n",
       "   <Note \"e\">,\n",
       "   <Note \"d\">,\n",
       "   <Note \"c\">,\n",
       "   <Note \"A\">,\n",
       "   <Note \"G\">,\n",
       "   <Beam \"|\">],\n",
       "  [<Note \"A\">, <Note \"d\">, <Note \"^c\">, <Note \"d3\">, <Beam \":|\">]]]"
      ]
     },
     "execution_count": 41,
     "metadata": {},
     "output_type": "execute_result"
    }
   ],
   "source": [
    "parts"
   ]
  },
  {
   "cell_type": "code",
   "execution_count": null,
   "metadata": {
    "collapsed": true
   },
   "outputs": [],
   "source": []
  }
 ],
 "metadata": {
  "anaconda-cloud": {},
  "kernelspec": {
   "display_name": "Python [Root]",
   "language": "python",
   "name": "Python [Root]"
  },
  "language_info": {
   "codemirror_mode": {
    "name": "ipython",
    "version": 2
   },
   "file_extension": ".py",
   "mimetype": "text/x-python",
   "name": "python",
   "nbconvert_exporter": "python",
   "pygments_lexer": "ipython2",
   "version": "2.7.12"
  }
 },
 "nbformat": 4,
 "nbformat_minor": 1
}
